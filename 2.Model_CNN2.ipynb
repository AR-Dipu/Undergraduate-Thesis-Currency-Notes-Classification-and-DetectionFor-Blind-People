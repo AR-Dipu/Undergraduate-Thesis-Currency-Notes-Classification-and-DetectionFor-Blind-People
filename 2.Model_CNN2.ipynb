{
 "cells": [
  {
   "cell_type": "markdown",
   "metadata": {
    "id": "4cbgwZWWfWpp"
   },
   "source": [
    "# New Section"
   ]
  },
  {
   "cell_type": "code",
   "execution_count": null,
   "metadata": {
    "colab": {
     "base_uri": "https://localhost:8080/"
    },
    "executionInfo": {
     "elapsed": 3200,
     "status": "ok",
     "timestamp": 1647950756658,
     "user": {
      "displayName": "16_038 Niloy Banik",
      "photoUrl": "https://lh3.googleusercontent.com/a-/AOh14GgRGQZD8Tl4xOLCNeLcfxfcPprIAW7QZ1CwfRM8=s64",
      "userId": "08142048259396518017"
     },
     "user_tz": -360
    },
    "id": "tAb77yZ9fzMG",
    "outputId": "bc2f852a-90ae-4d3f-b668-48a78fee8618"
   },
   "outputs": [
    {
     "name": "stdout",
     "output_type": "stream",
     "text": [
      "Drive already mounted at /content/drive; to attempt to forcibly remount, call drive.mount(\"/content/drive\", force_remount=True).\n"
     ]
    }
   ],
   "source": [
    "from google.colab import drive\n",
    "drive.mount('/content/drive')"
   ]
  },
  {
   "cell_type": "code",
   "execution_count": null,
   "metadata": {
    "colab": {
     "base_uri": "https://localhost:8080/"
    },
    "executionInfo": {
     "elapsed": 11,
     "status": "ok",
     "timestamp": 1647950756659,
     "user": {
      "displayName": "16_038 Niloy Banik",
      "photoUrl": "https://lh3.googleusercontent.com/a-/AOh14GgRGQZD8Tl4xOLCNeLcfxfcPprIAW7QZ1CwfRM8=s64",
      "userId": "08142048259396518017"
     },
     "user_tz": -360
    },
    "id": "pafL7Li0jyXW",
    "outputId": "b46871ce-99fa-4604-b7bf-152112b85e3b"
   },
   "outputs": [
    {
     "name": "stdout",
     "output_type": "stream",
     "text": [
      "drive  sample_data\n"
     ]
    }
   ],
   "source": [
    "! ls"
   ]
  },
  {
   "cell_type": "code",
   "execution_count": null,
   "metadata": {
    "id": "t3ac-xYDSn6Z"
   },
   "outputs": [],
   "source": [
    "import os\n",
    "import numpy as np\n",
    "import matplotlib.pyplot as plt\n",
    "import random\n",
    "import cv2\n",
    "import PIL\n",
    "import glob\n",
    "import tensorflow as tf\n",
    "from tensorflow import keras\n",
    "from tensorflow.keras import layers\n",
    "from keras.preprocessing.image import ImageDataGenerator"
   ]
  },
  {
   "cell_type": "code",
   "execution_count": null,
   "metadata": {
    "id": "L77UjleckfmE"
   },
   "outputs": [],
   "source": [
    "ROOTPATH = '/content/drive/MyDrive'\n",
    "DATAPATH = ROOTPATH+'/Thesis/training_set'\n",
    "TRAINPATH = ROOTPATH+'/Thesis/training_set'\n",
    "TESTPATH = ROOTPATH+'/Thesis/testing_set'\n",
    "MODEL_PATH = ROOTPATH+'/Thesis/model'"
   ]
  },
  {
   "cell_type": "code",
   "execution_count": null,
   "metadata": {
    "id": "w3UX6pg9Sn_I"
   },
   "outputs": [],
   "source": [
    "two=glob.glob(DATAPATH+'/1.two/*.*')\n",
    "five=glob.glob(DATAPATH+'/2.five/*.*')\n",
    "ten=glob.glob(DATAPATH+'/3.ten/*.*')\n",
    "twenty=glob.glob(DATAPATH+'/4.twenty/*.*')\n",
    "fifty=glob.glob(DATAPATH+'/5.fifty/*.*')\n",
    "one_hundred=glob.glob(DATAPATH+'/6.one_hundred/*.*')\n",
    "two_hundred=glob.glob(DATAPATH+'/7.two_hundred/*.*')\n",
    "five_hundred=glob.glob(DATAPATH+'/8.five_hundred/*.*')\n",
    "one_thousand=glob.glob(DATAPATH+'/9.one_thousand/*.*')"
   ]
  },
  {
   "cell_type": "code",
   "execution_count": null,
   "metadata": {
    "colab": {
     "base_uri": "https://localhost:8080/"
    },
    "executionInfo": {
     "elapsed": 20,
     "status": "ok",
     "timestamp": 1647950760765,
     "user": {
      "displayName": "16_038 Niloy Banik",
      "photoUrl": "https://lh3.googleusercontent.com/a-/AOh14GgRGQZD8Tl4xOLCNeLcfxfcPprIAW7QZ1CwfRM8=s64",
      "userId": "08142048259396518017"
     },
     "user_tz": -360
    },
    "id": "QMwuLmC3SoBu",
    "outputId": "5c8d467a-d30b-4810-b0f1-bc8cf5530993"
   },
   "outputs": [
    {
     "name": "stdout",
     "output_type": "stream",
     "text": [
      "two:  600\n",
      "five :  600\n",
      "ten:  600\n",
      "twenty:  600\n",
      "fifty:  600\n",
      "one_hundred:  600\n",
      "two_hundred:  600\n",
      "five_hundred:  600\n",
      "one_thousand:  600\n"
     ]
    }
   ],
   "source": [
    "print('two: ',len(two))\n",
    "print('five : ',len(five))\n",
    "print('ten: ',len(ten))\n",
    "print('twenty: ',len(twenty))\n",
    "print('fifty: ',len(fifty))\n",
    "print('one_hundred: ',len(one_hundred))\n",
    "print('two_hundred: ',len(two_hundred))\n",
    "print('five_hundred: ',len(five_hundred))\n",
    "print('one_thousand: ',len(one_thousand))"
   ]
  },
  {
   "cell_type": "code",
   "execution_count": null,
   "metadata": {
    "colab": {
     "base_uri": "https://localhost:8080/"
    },
    "executionInfo": {
     "elapsed": 16,
     "status": "ok",
     "timestamp": 1647950760765,
     "user": {
      "displayName": "16_038 Niloy Banik",
      "photoUrl": "https://lh3.googleusercontent.com/a-/AOh14GgRGQZD8Tl4xOLCNeLcfxfcPprIAW7QZ1CwfRM8=s64",
      "userId": "08142048259396518017"
     },
     "user_tz": -360
    },
    "id": "fnfW1i79SoEe",
    "outputId": "c4d0d6a5-7738-4caa-fce4-55671a645aab"
   },
   "outputs": [
    {
     "name": "stdout",
     "output_type": "stream",
     "text": [
      "Total dataset class:  9\n"
     ]
    }
   ],
   "source": [
    "dataset_classes=[two,five,ten,twenty,fifty,one_hundred,two_hundred,five_hundred,one_thousand]\n",
    "total_class=len(dataset_classes)\n",
    "print('Total dataset class: ',total_class)"
   ]
  },
  {
   "cell_type": "code",
   "execution_count": null,
   "metadata": {
    "id": "fC9fBS8NSoHB"
   },
   "outputs": [],
   "source": []
  },
  {
   "cell_type": "code",
   "execution_count": null,
   "metadata": {
    "colab": {
     "base_uri": "https://localhost:8080/"
    },
    "executionInfo": {
     "elapsed": 889,
     "status": "ok",
     "timestamp": 1647951048198,
     "user": {
      "displayName": "16_038 Niloy Banik",
      "photoUrl": "https://lh3.googleusercontent.com/a-/AOh14GgRGQZD8Tl4xOLCNeLcfxfcPprIAW7QZ1CwfRM8=s64",
      "userId": "08142048259396518017"
     },
     "user_tz": -360
    },
    "id": "wVFtUhelpX7g",
    "outputId": "f5b93a4d-9314-497f-a7ea-7bf71a7c20ab"
   },
   "outputs": [
    {
     "name": "stdout",
     "output_type": "stream",
     "text": [
      "Found 4320 images belonging to 9 classes.\n",
      "Found 1080 images belonging to 9 classes.\n"
     ]
    }
   ],
   "source": [
    "IMAGE_SIZE=224\n",
    "BATCH_SIZE=16\n",
    "\n",
    "#pre_processing_training\n",
    "train_datagen = ImageDataGenerator(\n",
    "        rescale=1./255,\n",
    "        shear_range=0.2,\n",
    "        zoom_range=0.2,\n",
    "        horizontal_flip=True,\n",
    "        fill_mode='nearest',\n",
    "        validation_split=0.2)\n",
    "\n",
    "training_set = train_datagen.flow_from_directory(\n",
    "        DATAPATH,\n",
    "        shuffle=True,\n",
    "        target_size=(IMAGE_SIZE,IMAGE_SIZE),\n",
    "        batch_size=BATCH_SIZE,\n",
    "        class_mode='categorical',\n",
    "        subset='training')\n",
    "\n",
    "\n",
    "validation_set = train_datagen.flow_from_directory(\n",
    "        DATAPATH,\n",
    "         shuffle=True,\n",
    "        target_size=(IMAGE_SIZE,IMAGE_SIZE),\n",
    "        batch_size=BATCH_SIZE,\n",
    "        class_mode='categorical',\n",
    "        subset='validation')\n"
   ]
  },
  {
   "cell_type": "code",
   "execution_count": null,
   "metadata": {
    "id": "QIMQzD7mSoJs"
   },
   "outputs": [],
   "source": []
  },
  {
   "cell_type": "code",
   "execution_count": null,
   "metadata": {
    "colab": {
     "base_uri": "https://localhost:8080/"
    },
    "executionInfo": {
     "elapsed": 493,
     "status": "ok",
     "timestamp": 1647951052533,
     "user": {
      "displayName": "16_038 Niloy Banik",
      "photoUrl": "https://lh3.googleusercontent.com/a-/AOh14GgRGQZD8Tl4xOLCNeLcfxfcPprIAW7QZ1CwfRM8=s64",
      "userId": "08142048259396518017"
     },
     "user_tz": -360
    },
    "id": "99MAgCVRpX-8",
    "outputId": "23bbfa67-ab75-4ad0-a82e-7e22db476870"
   },
   "outputs": [
    {
     "name": "stdout",
     "output_type": "stream",
     "text": [
      "Found 575 images belonging to 9 classes.\n"
     ]
    }
   ],
   "source": [
    "test_datagen = ImageDataGenerator(rescale=1./255)\n",
    "test_set = test_datagen.flow_from_directory(\n",
    "        TESTPATH,\n",
    "         shuffle=False,\n",
    "        target_size=(IMAGE_SIZE,IMAGE_SIZE),\n",
    "        batch_size=BATCH_SIZE,\n",
    "        class_mode='categorical')"
   ]
  },
  {
   "cell_type": "code",
   "execution_count": null,
   "metadata": {
    "colab": {
     "base_uri": "https://localhost:8080/"
    },
    "executionInfo": {
     "elapsed": 12,
     "status": "ok",
     "timestamp": 1647950762107,
     "user": {
      "displayName": "16_038 Niloy Banik",
      "photoUrl": "https://lh3.googleusercontent.com/a-/AOh14GgRGQZD8Tl4xOLCNeLcfxfcPprIAW7QZ1CwfRM8=s64",
      "userId": "08142048259396518017"
     },
     "user_tz": -360
    },
    "id": "OrfsI-NNSoP7",
    "outputId": "eade0c67-1982-4db2-9679-eac1d44816a1"
   },
   "outputs": [
    {
     "data": {
      "text/plain": [
       "{'1.two': 0,\n",
       " '2.five': 1,\n",
       " '3.ten': 2,\n",
       " '4.twenty': 3,\n",
       " '5.fifty': 4,\n",
       " '6.one_hundred': 5,\n",
       " '7.two_hundred': 6,\n",
       " '8.five_hundred': 7,\n",
       " '9.one_thousand': 8}"
      ]
     },
     "execution_count": 10,
     "metadata": {},
     "output_type": "execute_result"
    }
   ],
   "source": [
    "training_set.class_indices"
   ]
  },
  {
   "cell_type": "code",
   "execution_count": null,
   "metadata": {
    "colab": {
     "base_uri": "https://localhost:8080/"
    },
    "executionInfo": {
     "elapsed": 9,
     "status": "ok",
     "timestamp": 1647950762108,
     "user": {
      "displayName": "16_038 Niloy Banik",
      "photoUrl": "https://lh3.googleusercontent.com/a-/AOh14GgRGQZD8Tl4xOLCNeLcfxfcPprIAW7QZ1CwfRM8=s64",
      "userId": "08142048259396518017"
     },
     "user_tz": -360
    },
    "id": "YDaobaUPSoSi",
    "outputId": "b48dab81-d354-4baf-cc34-7c90bcdcf55a"
   },
   "outputs": [
    {
     "name": "stdout",
     "output_type": "stream",
     "text": [
      "Number of classes in dataset:  9\n"
     ]
    }
   ],
   "source": [
    "total_class=len(training_set.class_indices)\n",
    "print('Number of classes in dataset: ',total_class)"
   ]
  },
  {
   "cell_type": "code",
   "execution_count": null,
   "metadata": {
    "id": "xj5BVQXhSolB"
   },
   "outputs": [],
   "source": [
    "cnn = tf.keras.models.Sequential()\n",
    "\n",
    "cnn.add(tf.keras.layers.Conv2D(filters=256 , kernel_size=3 , activation='relu' , input_shape=[224,224,3],padding='same'))\n",
    "cnn.add(tf.keras.layers.MaxPool2D(pool_size=2))\n",
    "\n",
    "\n",
    "cnn.add(tf.keras.layers.Conv2D(filters=128 , kernel_size=3 , activation='relu', padding='same'))\n",
    "cnn.add(tf.keras.layers.MaxPool2D(pool_size=2))\n",
    "\n",
    "cnn.add(tf.keras.layers.Conv2D(filters=64 , kernel_size=3 , activation='relu', padding='same' ))\n",
    "cnn.add(tf.keras.layers.MaxPool2D(pool_size=2))\n",
    "\n",
    "\n",
    "cnn.add(tf.keras.layers.Conv2D(filters=64 , kernel_size=3 , activation='relu', padding='same' ))\n",
    "cnn.add(tf.keras.layers.MaxPool2D(pool_size=2))\n",
    "\n",
    "cnn.add(tf.keras.layers.Conv2D(filters=32 , kernel_size=3 ,  activation='relu', padding='same' ))\n",
    "cnn.add(tf.keras.layers.MaxPool2D(pool_size=2 ))\n",
    "\n",
    "cnn.add(tf.keras.layers.Conv2D(filters=32 , kernel_size=3 ,  activation='relu', padding='same' ))\n",
    "cnn.add(tf.keras.layers.MaxPool2D(pool_size=2))\n",
    "\n",
    "cnn.add(tf.keras.layers.Dropout(0.3))\n",
    "\n",
    "cnn.add(tf.keras.layers.Flatten())\n",
    "\n",
    "cnn.add(tf.keras.layers.Dense(units=128, activation='relu'))\n",
    "cnn.add(tf.keras.layers.Dense(units=9 , activation='softmax'))"
   ]
  },
  {
   "cell_type": "code",
   "execution_count": null,
   "metadata": {
    "colab": {
     "base_uri": "https://localhost:8080/"
    },
    "executionInfo": {
     "elapsed": 24,
     "status": "ok",
     "timestamp": 1647950763724,
     "user": {
      "displayName": "16_038 Niloy Banik",
      "photoUrl": "https://lh3.googleusercontent.com/a-/AOh14GgRGQZD8Tl4xOLCNeLcfxfcPprIAW7QZ1CwfRM8=s64",
      "userId": "08142048259396518017"
     },
     "user_tz": -360
    },
    "id": "ezDg6NkZSonT",
    "outputId": "5556c106-391c-40d7-a458-72fdb4d5bf8f"
   },
   "outputs": [
    {
     "name": "stdout",
     "output_type": "stream",
     "text": [
      "Model: \"sequential\"\n",
      "_________________________________________________________________\n",
      " Layer (type)                Output Shape              Param #   \n",
      "=================================================================\n",
      " conv2d (Conv2D)             (None, 224, 224, 256)     7168      \n",
      "                                                                 \n",
      " max_pooling2d (MaxPooling2D  (None, 112, 112, 256)    0         \n",
      " )                                                               \n",
      "                                                                 \n",
      " conv2d_1 (Conv2D)           (None, 112, 112, 128)     295040    \n",
      "                                                                 \n",
      " max_pooling2d_1 (MaxPooling  (None, 56, 56, 128)      0         \n",
      " 2D)                                                             \n",
      "                                                                 \n",
      " conv2d_2 (Conv2D)           (None, 56, 56, 64)        73792     \n",
      "                                                                 \n",
      " max_pooling2d_2 (MaxPooling  (None, 28, 28, 64)       0         \n",
      " 2D)                                                             \n",
      "                                                                 \n",
      " conv2d_3 (Conv2D)           (None, 28, 28, 64)        36928     \n",
      "                                                                 \n",
      " max_pooling2d_3 (MaxPooling  (None, 14, 14, 64)       0         \n",
      " 2D)                                                             \n",
      "                                                                 \n",
      " conv2d_4 (Conv2D)           (None, 14, 14, 32)        18464     \n",
      "                                                                 \n",
      " max_pooling2d_4 (MaxPooling  (None, 7, 7, 32)         0         \n",
      " 2D)                                                             \n",
      "                                                                 \n",
      " conv2d_5 (Conv2D)           (None, 7, 7, 32)          9248      \n",
      "                                                                 \n",
      " max_pooling2d_5 (MaxPooling  (None, 3, 3, 32)         0         \n",
      " 2D)                                                             \n",
      "                                                                 \n",
      " dropout (Dropout)           (None, 3, 3, 32)          0         \n",
      "                                                                 \n",
      " flatten (Flatten)           (None, 288)               0         \n",
      "                                                                 \n",
      " dense (Dense)               (None, 128)               36992     \n",
      "                                                                 \n",
      " dense_1 (Dense)             (None, 9)                 1161      \n",
      "                                                                 \n",
      "=================================================================\n",
      "Total params: 478,793\n",
      "Trainable params: 478,793\n",
      "Non-trainable params: 0\n",
      "_________________________________________________________________\n"
     ]
    }
   ],
   "source": [
    "cnn.summary()"
   ]
  },
  {
   "cell_type": "code",
   "execution_count": null,
   "metadata": {
    "id": "6d4I3aicUOtA"
   },
   "outputs": [],
   "source": [
    "cnn.compile(optimizer = 'adam' , loss = 'categorical_crossentropy' , metrics = ['accuracy'])"
   ]
  },
  {
   "cell_type": "code",
   "execution_count": null,
   "metadata": {
    "id": "cokYL1e-ljsC"
   },
   "outputs": [],
   "source": [
    "from tensorflow.keras.callbacks import ModelCheckpoint\n",
    "checkpointer = ModelCheckpoint(filepath=MODEL_PATH+'CNN2.model.best.hdf5', verbose=1 ,save_best_only=True)"
   ]
  },
  {
   "cell_type": "code",
   "execution_count": null,
   "metadata": {
    "colab": {
     "base_uri": "https://localhost:8080/"
    },
    "executionInfo": {
     "elapsed": 11884334,
     "status": "ok",
     "timestamp": 1647962945942,
     "user": {
      "displayName": "16_038 Niloy Banik",
      "photoUrl": "https://lh3.googleusercontent.com/a-/AOh14GgRGQZD8Tl4xOLCNeLcfxfcPprIAW7QZ1CwfRM8=s64",
      "userId": "08142048259396518017"
     },
     "user_tz": -360
    },
    "id": "TspO7t25UOx_",
    "outputId": "9c8c31ff-3cb3-46a1-8048-782fce5d2e0a"
   },
   "outputs": [
    {
     "name": "stdout",
     "output_type": "stream",
     "text": [
      "Epoch 1/100\n",
      "270/270 [==============================] - ETA: 0s - loss: 2.1194 - accuracy: 0.1641\n",
      "Epoch 1: val_loss improved from inf to 1.61014, saving model to /content/drive/MyDrive/Thesis/modelCNN2.model.best.hdf5\n",
      "270/270 [==============================] - 2018s 7s/step - loss: 2.1194 - accuracy: 0.1641 - val_loss: 1.6101 - val_accuracy: 0.3870\n",
      "Epoch 2/100\n",
      "270/270 [==============================] - ETA: 0s - loss: 1.0391 - accuracy: 0.5995\n",
      "Epoch 2: val_loss improved from 1.61014 to 0.83001, saving model to /content/drive/MyDrive/Thesis/modelCNN2.model.best.hdf5\n",
      "270/270 [==============================] - 101s 372ms/step - loss: 1.0391 - accuracy: 0.5995 - val_loss: 0.8300 - val_accuracy: 0.6935\n",
      "Epoch 3/100\n",
      "270/270 [==============================] - ETA: 0s - loss: 0.4763 - accuracy: 0.8313\n",
      "Epoch 3: val_loss improved from 0.83001 to 0.79118, saving model to /content/drive/MyDrive/Thesis/modelCNN2.model.best.hdf5\n",
      "270/270 [==============================] - 100s 371ms/step - loss: 0.4763 - accuracy: 0.8313 - val_loss: 0.7912 - val_accuracy: 0.7537\n",
      "Epoch 4/100\n",
      "270/270 [==============================] - ETA: 0s - loss: 0.2592 - accuracy: 0.9125\n",
      "Epoch 4: val_loss improved from 0.79118 to 0.38765, saving model to /content/drive/MyDrive/Thesis/modelCNN2.model.best.hdf5\n",
      "270/270 [==============================] - 100s 370ms/step - loss: 0.2592 - accuracy: 0.9125 - val_loss: 0.3877 - val_accuracy: 0.8815\n",
      "Epoch 5/100\n",
      "270/270 [==============================] - ETA: 0s - loss: 0.2354 - accuracy: 0.9243\n",
      "Epoch 5: val_loss improved from 0.38765 to 0.36306, saving model to /content/drive/MyDrive/Thesis/modelCNN2.model.best.hdf5\n",
      "270/270 [==============================] - 100s 371ms/step - loss: 0.2354 - accuracy: 0.9243 - val_loss: 0.3631 - val_accuracy: 0.8778\n",
      "Epoch 6/100\n",
      "270/270 [==============================] - ETA: 0s - loss: 0.1530 - accuracy: 0.9486\n",
      "Epoch 6: val_loss improved from 0.36306 to 0.29087, saving model to /content/drive/MyDrive/Thesis/modelCNN2.model.best.hdf5\n",
      "270/270 [==============================] - 100s 371ms/step - loss: 0.1530 - accuracy: 0.9486 - val_loss: 0.2909 - val_accuracy: 0.9213\n",
      "Epoch 7/100\n",
      "270/270 [==============================] - ETA: 0s - loss: 0.1646 - accuracy: 0.9472\n",
      "Epoch 7: val_loss improved from 0.29087 to 0.28551, saving model to /content/drive/MyDrive/Thesis/modelCNN2.model.best.hdf5\n",
      "270/270 [==============================] - 100s 370ms/step - loss: 0.1646 - accuracy: 0.9472 - val_loss: 0.2855 - val_accuracy: 0.9139\n",
      "Epoch 8/100\n",
      "270/270 [==============================] - ETA: 0s - loss: 0.0990 - accuracy: 0.9664\n",
      "Epoch 8: val_loss improved from 0.28551 to 0.15656, saving model to /content/drive/MyDrive/Thesis/modelCNN2.model.best.hdf5\n",
      "270/270 [==============================] - 101s 372ms/step - loss: 0.0990 - accuracy: 0.9664 - val_loss: 0.1566 - val_accuracy: 0.9343\n",
      "Epoch 9/100\n",
      "270/270 [==============================] - ETA: 0s - loss: 0.0972 - accuracy: 0.9694\n",
      "Epoch 9: val_loss did not improve from 0.15656\n",
      "270/270 [==============================] - 100s 368ms/step - loss: 0.0972 - accuracy: 0.9694 - val_loss: 0.3863 - val_accuracy: 0.8870\n",
      "Epoch 10/100\n",
      "270/270 [==============================] - ETA: 0s - loss: 0.0805 - accuracy: 0.9725\n",
      "Epoch 10: val_loss did not improve from 0.15656\n",
      "270/270 [==============================] - 99s 367ms/step - loss: 0.0805 - accuracy: 0.9725 - val_loss: 0.2235 - val_accuracy: 0.9426\n",
      "Epoch 11/100\n",
      "270/270 [==============================] - ETA: 0s - loss: 0.0640 - accuracy: 0.9799\n",
      "Epoch 11: val_loss did not improve from 0.15656\n",
      "270/270 [==============================] - 100s 370ms/step - loss: 0.0640 - accuracy: 0.9799 - val_loss: 0.2235 - val_accuracy: 0.9435\n",
      "Epoch 12/100\n",
      "270/270 [==============================] - ETA: 0s - loss: 0.0431 - accuracy: 0.9875\n",
      "Epoch 12: val_loss did not improve from 0.15656\n",
      "270/270 [==============================] - 99s 368ms/step - loss: 0.0431 - accuracy: 0.9875 - val_loss: 0.3623 - val_accuracy: 0.9519\n",
      "Epoch 13/100\n",
      "270/270 [==============================] - ETA: 0s - loss: 0.1039 - accuracy: 0.9646\n",
      "Epoch 13: val_loss did not improve from 0.15656\n",
      "270/270 [==============================] - 99s 367ms/step - loss: 0.1039 - accuracy: 0.9646 - val_loss: 0.3651 - val_accuracy: 0.9093\n",
      "Epoch 14/100\n",
      "270/270 [==============================] - ETA: 0s - loss: 0.1018 - accuracy: 0.9704\n",
      "Epoch 14: val_loss did not improve from 0.15656\n",
      "270/270 [==============================] - 99s 367ms/step - loss: 0.1018 - accuracy: 0.9704 - val_loss: 0.2932 - val_accuracy: 0.9259\n",
      "Epoch 15/100\n",
      "270/270 [==============================] - ETA: 0s - loss: 0.0532 - accuracy: 0.9847\n",
      "Epoch 15: val_loss did not improve from 0.15656\n",
      "270/270 [==============================] - 99s 368ms/step - loss: 0.0532 - accuracy: 0.9847 - val_loss: 0.4729 - val_accuracy: 0.9352\n",
      "Epoch 16/100\n",
      "270/270 [==============================] - ETA: 0s - loss: 0.0678 - accuracy: 0.9801\n",
      "Epoch 16: val_loss did not improve from 0.15656\n",
      "270/270 [==============================] - 99s 366ms/step - loss: 0.0678 - accuracy: 0.9801 - val_loss: 0.4123 - val_accuracy: 0.9204\n",
      "Epoch 17/100\n",
      "270/270 [==============================] - ETA: 0s - loss: 0.0586 - accuracy: 0.9815\n",
      "Epoch 17: val_loss did not improve from 0.15656\n",
      "270/270 [==============================] - 100s 368ms/step - loss: 0.0586 - accuracy: 0.9815 - val_loss: 0.2667 - val_accuracy: 0.9546\n",
      "Epoch 18/100\n",
      "270/270 [==============================] - ETA: 0s - loss: 0.0379 - accuracy: 0.9868\n",
      "Epoch 18: val_loss did not improve from 0.15656\n",
      "270/270 [==============================] - 100s 369ms/step - loss: 0.0379 - accuracy: 0.9868 - val_loss: 0.2836 - val_accuracy: 0.9491\n",
      "Epoch 19/100\n",
      "270/270 [==============================] - ETA: 0s - loss: 0.0723 - accuracy: 0.9778\n",
      "Epoch 19: val_loss did not improve from 0.15656\n",
      "270/270 [==============================] - 100s 369ms/step - loss: 0.0723 - accuracy: 0.9778 - val_loss: 0.2350 - val_accuracy: 0.9630\n",
      "Epoch 20/100\n",
      "270/270 [==============================] - ETA: 0s - loss: 0.0388 - accuracy: 0.9891\n",
      "Epoch 20: val_loss did not improve from 0.15656\n",
      "270/270 [==============================] - 100s 369ms/step - loss: 0.0388 - accuracy: 0.9891 - val_loss: 0.3291 - val_accuracy: 0.9287\n",
      "Epoch 21/100\n",
      "270/270 [==============================] - ETA: 0s - loss: 0.0343 - accuracy: 0.9877\n",
      "Epoch 21: val_loss did not improve from 0.15656\n",
      "270/270 [==============================] - 100s 369ms/step - loss: 0.0343 - accuracy: 0.9877 - val_loss: 0.3768 - val_accuracy: 0.9519\n",
      "Epoch 22/100\n",
      "270/270 [==============================] - ETA: 0s - loss: 0.0751 - accuracy: 0.9762\n",
      "Epoch 22: val_loss did not improve from 0.15656\n",
      "270/270 [==============================] - 100s 369ms/step - loss: 0.0751 - accuracy: 0.9762 - val_loss: 0.3110 - val_accuracy: 0.9407\n",
      "Epoch 23/100\n",
      "270/270 [==============================] - ETA: 0s - loss: 0.0410 - accuracy: 0.9863\n",
      "Epoch 23: val_loss did not improve from 0.15656\n",
      "270/270 [==============================] - 100s 370ms/step - loss: 0.0410 - accuracy: 0.9863 - val_loss: 0.2377 - val_accuracy: 0.9528\n",
      "Epoch 24/100\n",
      "270/270 [==============================] - ETA: 0s - loss: 0.0251 - accuracy: 0.9919\n",
      "Epoch 24: val_loss did not improve from 0.15656\n",
      "270/270 [==============================] - 101s 373ms/step - loss: 0.0251 - accuracy: 0.9919 - val_loss: 0.2327 - val_accuracy: 0.9481\n",
      "Epoch 25/100\n",
      "270/270 [==============================] - ETA: 0s - loss: 0.0509 - accuracy: 0.9833\n",
      "Epoch 25: val_loss did not improve from 0.15656\n",
      "270/270 [==============================] - 100s 369ms/step - loss: 0.0509 - accuracy: 0.9833 - val_loss: 0.2636 - val_accuracy: 0.9583\n",
      "Epoch 26/100\n",
      "270/270 [==============================] - ETA: 0s - loss: 0.0193 - accuracy: 0.9956\n",
      "Epoch 26: val_loss improved from 0.15656 to 0.12543, saving model to /content/drive/MyDrive/Thesis/modelCNN2.model.best.hdf5\n",
      "270/270 [==============================] - 101s 375ms/step - loss: 0.0193 - accuracy: 0.9956 - val_loss: 0.1254 - val_accuracy: 0.9667\n",
      "Epoch 27/100\n",
      "270/270 [==============================] - ETA: 0s - loss: 0.0799 - accuracy: 0.9757\n",
      "Epoch 27: val_loss improved from 0.12543 to 0.09412, saving model to /content/drive/MyDrive/Thesis/modelCNN2.model.best.hdf5\n",
      "270/270 [==============================] - 102s 375ms/step - loss: 0.0799 - accuracy: 0.9757 - val_loss: 0.0941 - val_accuracy: 0.9704\n",
      "Epoch 28/100\n",
      "270/270 [==============================] - ETA: 0s - loss: 0.0295 - accuracy: 0.9933\n",
      "Epoch 28: val_loss did not improve from 0.09412\n",
      "270/270 [==============================] - 100s 370ms/step - loss: 0.0295 - accuracy: 0.9933 - val_loss: 0.2596 - val_accuracy: 0.9611\n",
      "Epoch 29/100\n",
      "270/270 [==============================] - ETA: 0s - loss: 0.0079 - accuracy: 0.9977\n",
      "Epoch 29: val_loss did not improve from 0.09412\n",
      "270/270 [==============================] - 100s 370ms/step - loss: 0.0079 - accuracy: 0.9977 - val_loss: 0.1296 - val_accuracy: 0.9741\n",
      "Epoch 30/100\n",
      "270/270 [==============================] - ETA: 0s - loss: 0.0022 - accuracy: 0.9995\n",
      "Epoch 30: val_loss did not improve from 0.09412\n",
      "270/270 [==============================] - 100s 369ms/step - loss: 0.0022 - accuracy: 0.9995 - val_loss: 0.1184 - val_accuracy: 0.9741\n",
      "Epoch 31/100\n",
      "270/270 [==============================] - ETA: 0s - loss: 0.0928 - accuracy: 0.9711\n",
      "Epoch 31: val_loss did not improve from 0.09412\n",
      "270/270 [==============================] - 100s 369ms/step - loss: 0.0928 - accuracy: 0.9711 - val_loss: 0.3374 - val_accuracy: 0.9546\n",
      "Epoch 32/100\n",
      "270/270 [==============================] - ETA: 0s - loss: 0.0333 - accuracy: 0.9894\n",
      "Epoch 32: val_loss did not improve from 0.09412\n",
      "270/270 [==============================] - 100s 369ms/step - loss: 0.0333 - accuracy: 0.9894 - val_loss: 0.2193 - val_accuracy: 0.9389\n",
      "Epoch 33/100\n",
      "270/270 [==============================] - ETA: 0s - loss: 0.0204 - accuracy: 0.9935\n",
      "Epoch 33: val_loss did not improve from 0.09412\n",
      "270/270 [==============================] - 99s 367ms/step - loss: 0.0204 - accuracy: 0.9935 - val_loss: 0.5393 - val_accuracy: 0.9481\n",
      "Epoch 34/100\n",
      "270/270 [==============================] - ETA: 0s - loss: 0.0404 - accuracy: 0.9877\n",
      "Epoch 34: val_loss did not improve from 0.09412\n",
      "270/270 [==============================] - 99s 368ms/step - loss: 0.0404 - accuracy: 0.9877 - val_loss: 0.8105 - val_accuracy: 0.8861\n",
      "Epoch 35/100\n",
      "270/270 [==============================] - ETA: 0s - loss: 0.0625 - accuracy: 0.9812\n",
      "Epoch 35: val_loss did not improve from 0.09412\n",
      "270/270 [==============================] - 100s 369ms/step - loss: 0.0625 - accuracy: 0.9812 - val_loss: 0.3454 - val_accuracy: 0.9296\n",
      "Epoch 36/100\n",
      "270/270 [==============================] - ETA: 0s - loss: 0.0101 - accuracy: 0.9968\n",
      "Epoch 36: val_loss did not improve from 0.09412\n",
      "270/270 [==============================] - 100s 369ms/step - loss: 0.0101 - accuracy: 0.9968 - val_loss: 0.3069 - val_accuracy: 0.9556\n",
      "Epoch 37/100\n",
      "270/270 [==============================] - ETA: 0s - loss: 0.0046 - accuracy: 0.9984\n",
      "Epoch 37: val_loss did not improve from 0.09412\n",
      "270/270 [==============================] - 99s 368ms/step - loss: 0.0046 - accuracy: 0.9984 - val_loss: 0.3927 - val_accuracy: 0.9454\n",
      "Epoch 38/100\n",
      "270/270 [==============================] - ETA: 0s - loss: 0.0512 - accuracy: 0.9840\n",
      "Epoch 38: val_loss did not improve from 0.09412\n",
      "270/270 [==============================] - 100s 370ms/step - loss: 0.0512 - accuracy: 0.9840 - val_loss: 0.1988 - val_accuracy: 0.9565\n",
      "Epoch 39/100\n",
      "270/270 [==============================] - ETA: 0s - loss: 0.0118 - accuracy: 0.9972\n",
      "Epoch 39: val_loss did not improve from 0.09412\n",
      "270/270 [==============================] - 100s 370ms/step - loss: 0.0118 - accuracy: 0.9972 - val_loss: 0.3179 - val_accuracy: 0.9648\n",
      "Epoch 40/100\n",
      "270/270 [==============================] - ETA: 0s - loss: 0.0355 - accuracy: 0.9912\n",
      "Epoch 40: val_loss did not improve from 0.09412\n",
      "270/270 [==============================] - 99s 368ms/step - loss: 0.0355 - accuracy: 0.9912 - val_loss: 0.1600 - val_accuracy: 0.9685\n",
      "Epoch 41/100\n",
      "270/270 [==============================] - ETA: 0s - loss: 0.0224 - accuracy: 0.9931\n",
      "Epoch 41: val_loss did not improve from 0.09412\n",
      "270/270 [==============================] - 100s 369ms/step - loss: 0.0224 - accuracy: 0.9931 - val_loss: 0.2767 - val_accuracy: 0.9583\n",
      "Epoch 42/100\n",
      "270/270 [==============================] - ETA: 0s - loss: 0.0109 - accuracy: 0.9963\n",
      "Epoch 42: val_loss did not improve from 0.09412\n",
      "270/270 [==============================] - 100s 369ms/step - loss: 0.0109 - accuracy: 0.9963 - val_loss: 0.2124 - val_accuracy: 0.9648\n",
      "Epoch 43/100\n",
      "270/270 [==============================] - ETA: 0s - loss: 0.0417 - accuracy: 0.9868\n",
      "Epoch 43: val_loss did not improve from 0.09412\n",
      "270/270 [==============================] - 99s 368ms/step - loss: 0.0417 - accuracy: 0.9868 - val_loss: 0.6903 - val_accuracy: 0.9231\n",
      "Epoch 44/100\n",
      "270/270 [==============================] - ETA: 0s - loss: 0.0424 - accuracy: 0.9877\n",
      "Epoch 44: val_loss did not improve from 0.09412\n",
      "270/270 [==============================] - 99s 368ms/step - loss: 0.0424 - accuracy: 0.9877 - val_loss: 0.2218 - val_accuracy: 0.9648\n",
      "Epoch 45/100\n",
      "270/270 [==============================] - ETA: 0s - loss: 0.0159 - accuracy: 0.9942\n",
      "Epoch 45: val_loss did not improve from 0.09412\n",
      "270/270 [==============================] - 100s 370ms/step - loss: 0.0159 - accuracy: 0.9942 - val_loss: 0.2030 - val_accuracy: 0.9639\n",
      "Epoch 46/100\n",
      "270/270 [==============================] - ETA: 0s - loss: 0.0082 - accuracy: 0.9970\n",
      "Epoch 46: val_loss did not improve from 0.09412\n",
      "270/270 [==============================] - 100s 370ms/step - loss: 0.0082 - accuracy: 0.9970 - val_loss: 0.4343 - val_accuracy: 0.9611\n",
      "Epoch 47/100\n",
      "270/270 [==============================] - ETA: 0s - loss: 0.0269 - accuracy: 0.9924\n",
      "Epoch 47: val_loss did not improve from 0.09412\n",
      "270/270 [==============================] - 100s 369ms/step - loss: 0.0269 - accuracy: 0.9924 - val_loss: 0.1478 - val_accuracy: 0.9694\n",
      "Epoch 48/100\n",
      "270/270 [==============================] - ETA: 0s - loss: 0.0384 - accuracy: 0.9894\n",
      "Epoch 48: val_loss did not improve from 0.09412\n",
      "270/270 [==============================] - 97s 361ms/step - loss: 0.0384 - accuracy: 0.9894 - val_loss: 0.2890 - val_accuracy: 0.9583\n",
      "Epoch 49/100\n",
      "270/270 [==============================] - ETA: 0s - loss: 0.0331 - accuracy: 0.9900\n",
      "Epoch 49: val_loss did not improve from 0.09412\n",
      "270/270 [==============================] - 98s 362ms/step - loss: 0.0331 - accuracy: 0.9900 - val_loss: 0.1378 - val_accuracy: 0.9713\n",
      "Epoch 50/100\n",
      "270/270 [==============================] - ETA: 0s - loss: 0.0106 - accuracy: 0.9972\n",
      "Epoch 50: val_loss did not improve from 0.09412\n",
      "270/270 [==============================] - 98s 361ms/step - loss: 0.0106 - accuracy: 0.9972 - val_loss: 0.1766 - val_accuracy: 0.9676\n",
      "Epoch 51/100\n",
      "270/270 [==============================] - ETA: 0s - loss: 0.0231 - accuracy: 0.9937\n",
      "Epoch 51: val_loss did not improve from 0.09412\n",
      "270/270 [==============================] - 98s 361ms/step - loss: 0.0231 - accuracy: 0.9937 - val_loss: 0.1969 - val_accuracy: 0.9685\n",
      "Epoch 52/100\n",
      "270/270 [==============================] - ETA: 0s - loss: 0.0089 - accuracy: 0.9977\n",
      "Epoch 52: val_loss did not improve from 0.09412\n",
      "270/270 [==============================] - 98s 362ms/step - loss: 0.0089 - accuracy: 0.9977 - val_loss: 0.3832 - val_accuracy: 0.9528\n",
      "Epoch 53/100\n",
      "270/270 [==============================] - ETA: 0s - loss: 0.0150 - accuracy: 0.9956\n",
      "Epoch 53: val_loss did not improve from 0.09412\n",
      "270/270 [==============================] - 99s 366ms/step - loss: 0.0150 - accuracy: 0.9956 - val_loss: 0.2510 - val_accuracy: 0.9546\n",
      "Epoch 54/100\n",
      "270/270 [==============================] - ETA: 0s - loss: 0.0115 - accuracy: 0.9963\n",
      "Epoch 54: val_loss did not improve from 0.09412\n",
      "270/270 [==============================] - 98s 362ms/step - loss: 0.0115 - accuracy: 0.9963 - val_loss: 0.3216 - val_accuracy: 0.9593\n",
      "Epoch 55/100\n",
      "270/270 [==============================] - ETA: 0s - loss: 0.0607 - accuracy: 0.9836\n",
      "Epoch 55: val_loss did not improve from 0.09412\n",
      "270/270 [==============================] - 97s 359ms/step - loss: 0.0607 - accuracy: 0.9836 - val_loss: 0.4584 - val_accuracy: 0.9472\n",
      "Epoch 56/100\n",
      "270/270 [==============================] - ETA: 0s - loss: 0.0110 - accuracy: 0.9970\n",
      "Epoch 56: val_loss did not improve from 0.09412\n",
      "270/270 [==============================] - 98s 363ms/step - loss: 0.0110 - accuracy: 0.9970 - val_loss: 0.2093 - val_accuracy: 0.9472\n",
      "Epoch 57/100\n",
      "270/270 [==============================] - ETA: 0s - loss: 0.0462 - accuracy: 0.9882\n",
      "Epoch 57: val_loss did not improve from 0.09412\n",
      "270/270 [==============================] - 98s 362ms/step - loss: 0.0462 - accuracy: 0.9882 - val_loss: 0.2863 - val_accuracy: 0.9574\n",
      "Epoch 58/100\n",
      "270/270 [==============================] - ETA: 0s - loss: 0.0123 - accuracy: 0.9961\n",
      "Epoch 58: val_loss did not improve from 0.09412\n",
      "270/270 [==============================] - 98s 362ms/step - loss: 0.0123 - accuracy: 0.9961 - val_loss: 0.1416 - val_accuracy: 0.9704\n",
      "Epoch 59/100\n",
      "270/270 [==============================] - ETA: 0s - loss: 0.0054 - accuracy: 0.9988\n",
      "Epoch 59: val_loss did not improve from 0.09412\n",
      "270/270 [==============================] - 98s 361ms/step - loss: 0.0054 - accuracy: 0.9988 - val_loss: 0.2037 - val_accuracy: 0.9657\n",
      "Epoch 60/100\n",
      "270/270 [==============================] - ETA: 0s - loss: 0.0112 - accuracy: 0.9970\n",
      "Epoch 60: val_loss did not improve from 0.09412\n",
      "270/270 [==============================] - 97s 360ms/step - loss: 0.0112 - accuracy: 0.9970 - val_loss: 0.1815 - val_accuracy: 0.9435\n",
      "Epoch 61/100\n",
      "270/270 [==============================] - ETA: 0s - loss: 0.0362 - accuracy: 0.9910\n",
      "Epoch 61: val_loss did not improve from 0.09412\n",
      "270/270 [==============================] - 99s 366ms/step - loss: 0.0362 - accuracy: 0.9910 - val_loss: 0.1262 - val_accuracy: 0.9667\n",
      "Epoch 62/100\n",
      "270/270 [==============================] - ETA: 0s - loss: 0.0150 - accuracy: 0.9942\n",
      "Epoch 62: val_loss did not improve from 0.09412\n",
      "270/270 [==============================] - 98s 361ms/step - loss: 0.0150 - accuracy: 0.9942 - val_loss: 0.1363 - val_accuracy: 0.9685\n",
      "Epoch 63/100\n",
      "270/270 [==============================] - ETA: 0s - loss: 0.0101 - accuracy: 0.9975\n",
      "Epoch 63: val_loss did not improve from 0.09412\n",
      "270/270 [==============================] - 98s 362ms/step - loss: 0.0101 - accuracy: 0.9975 - val_loss: 0.1709 - val_accuracy: 0.9574\n",
      "Epoch 64/100\n",
      "270/270 [==============================] - ETA: 0s - loss: 0.0581 - accuracy: 0.9850\n",
      "Epoch 64: val_loss did not improve from 0.09412\n",
      "270/270 [==============================] - 96s 357ms/step - loss: 0.0581 - accuracy: 0.9850 - val_loss: 0.2132 - val_accuracy: 0.9556\n",
      "Epoch 65/100\n",
      "270/270 [==============================] - ETA: 0s - loss: 0.0234 - accuracy: 0.9928\n",
      "Epoch 65: val_loss did not improve from 0.09412\n",
      "270/270 [==============================] - 96s 356ms/step - loss: 0.0234 - accuracy: 0.9928 - val_loss: 0.2062 - val_accuracy: 0.9509\n",
      "Epoch 66/100\n",
      "270/270 [==============================] - ETA: 0s - loss: 0.0042 - accuracy: 0.9986\n",
      "Epoch 66: val_loss did not improve from 0.09412\n",
      "270/270 [==============================] - 97s 359ms/step - loss: 0.0042 - accuracy: 0.9986 - val_loss: 0.1923 - val_accuracy: 0.9519\n",
      "Epoch 67/100\n",
      "270/270 [==============================] - ETA: 0s - loss: 0.0199 - accuracy: 0.9942\n",
      "Epoch 67: val_loss did not improve from 0.09412\n",
      "270/270 [==============================] - 97s 358ms/step - loss: 0.0199 - accuracy: 0.9942 - val_loss: 0.3183 - val_accuracy: 0.9287\n",
      "Epoch 68/100\n",
      "270/270 [==============================] - ETA: 0s - loss: 0.0260 - accuracy: 0.9912\n",
      "Epoch 68: val_loss improved from 0.09412 to 0.08760, saving model to /content/drive/MyDrive/Thesis/modelCNN2.model.best.hdf5\n",
      "270/270 [==============================] - 97s 361ms/step - loss: 0.0260 - accuracy: 0.9912 - val_loss: 0.0876 - val_accuracy: 0.9741\n",
      "Epoch 69/100\n",
      "270/270 [==============================] - ETA: 0s - loss: 0.0083 - accuracy: 0.9968\n",
      "Epoch 69: val_loss improved from 0.08760 to 0.05095, saving model to /content/drive/MyDrive/Thesis/modelCNN2.model.best.hdf5\n",
      "270/270 [==============================] - 97s 360ms/step - loss: 0.0083 - accuracy: 0.9968 - val_loss: 0.0510 - val_accuracy: 0.9852\n",
      "Epoch 70/100\n",
      "270/270 [==============================] - ETA: 0s - loss: 0.0071 - accuracy: 0.9979\n",
      "Epoch 70: val_loss did not improve from 0.05095\n",
      "270/270 [==============================] - 97s 360ms/step - loss: 0.0071 - accuracy: 0.9979 - val_loss: 0.1270 - val_accuracy: 0.9778\n",
      "Epoch 71/100\n",
      "270/270 [==============================] - ETA: 0s - loss: 0.0048 - accuracy: 0.9984\n",
      "Epoch 71: val_loss did not improve from 0.05095\n",
      "270/270 [==============================] - 97s 358ms/step - loss: 0.0048 - accuracy: 0.9984 - val_loss: 0.2000 - val_accuracy: 0.9639\n",
      "Epoch 72/100\n",
      "270/270 [==============================] - ETA: 0s - loss: 0.0031 - accuracy: 0.9993\n",
      "Epoch 72: val_loss did not improve from 0.05095\n",
      "270/270 [==============================] - 96s 356ms/step - loss: 0.0031 - accuracy: 0.9993 - val_loss: 0.3285 - val_accuracy: 0.9602\n",
      "Epoch 73/100\n",
      "270/270 [==============================] - ETA: 0s - loss: 0.0066 - accuracy: 0.9984\n",
      "Epoch 73: val_loss did not improve from 0.05095\n",
      "270/270 [==============================] - 97s 360ms/step - loss: 0.0066 - accuracy: 0.9984 - val_loss: 0.4374 - val_accuracy: 0.9731\n",
      "Epoch 74/100\n",
      "270/270 [==============================] - ETA: 0s - loss: 0.0011 - accuracy: 0.9995\n",
      "Epoch 74: val_loss did not improve from 0.05095\n",
      "270/270 [==============================] - 98s 364ms/step - loss: 0.0011 - accuracy: 0.9995 - val_loss: 0.2650 - val_accuracy: 0.9667\n",
      "Epoch 75/100\n",
      "270/270 [==============================] - ETA: 0s - loss: 0.0272 - accuracy: 0.9924\n",
      "Epoch 75: val_loss did not improve from 0.05095\n",
      "270/270 [==============================] - 98s 361ms/step - loss: 0.0272 - accuracy: 0.9924 - val_loss: 0.3631 - val_accuracy: 0.9130\n",
      "Epoch 76/100\n",
      "270/270 [==============================] - ETA: 0s - loss: 0.0192 - accuracy: 0.9942\n",
      "Epoch 76: val_loss did not improve from 0.05095\n",
      "270/270 [==============================] - 98s 361ms/step - loss: 0.0192 - accuracy: 0.9942 - val_loss: 0.2415 - val_accuracy: 0.9361\n",
      "Epoch 77/100\n",
      "270/270 [==============================] - ETA: 0s - loss: 0.0409 - accuracy: 0.9889\n",
      "Epoch 77: val_loss did not improve from 0.05095\n",
      "270/270 [==============================] - 97s 359ms/step - loss: 0.0409 - accuracy: 0.9889 - val_loss: 0.2047 - val_accuracy: 0.9537\n",
      "Epoch 78/100\n",
      "270/270 [==============================] - ETA: 0s - loss: 0.0141 - accuracy: 0.9963\n",
      "Epoch 78: val_loss did not improve from 0.05095\n",
      "270/270 [==============================] - 97s 358ms/step - loss: 0.0141 - accuracy: 0.9963 - val_loss: 0.4115 - val_accuracy: 0.9444\n",
      "Epoch 79/100\n",
      "270/270 [==============================] - ETA: 0s - loss: 0.0305 - accuracy: 0.9928\n",
      "Epoch 79: val_loss did not improve from 0.05095\n",
      "270/270 [==============================] - 97s 357ms/step - loss: 0.0305 - accuracy: 0.9928 - val_loss: 0.7209 - val_accuracy: 0.9528\n",
      "Epoch 80/100\n",
      "270/270 [==============================] - ETA: 0s - loss: 0.0937 - accuracy: 0.9734\n",
      "Epoch 80: val_loss did not improve from 0.05095\n",
      "270/270 [==============================] - 97s 359ms/step - loss: 0.0937 - accuracy: 0.9734 - val_loss: 0.1266 - val_accuracy: 0.9583\n",
      "Epoch 81/100\n",
      "270/270 [==============================] - ETA: 0s - loss: 0.0165 - accuracy: 0.9949\n",
      "Epoch 81: val_loss did not improve from 0.05095\n",
      "270/270 [==============================] - 97s 359ms/step - loss: 0.0165 - accuracy: 0.9949 - val_loss: 0.1674 - val_accuracy: 0.9648\n",
      "Epoch 82/100\n",
      "270/270 [==============================] - ETA: 0s - loss: 0.0070 - accuracy: 0.9979\n",
      "Epoch 82: val_loss did not improve from 0.05095\n",
      "270/270 [==============================] - 97s 357ms/step - loss: 0.0070 - accuracy: 0.9979 - val_loss: 0.2593 - val_accuracy: 0.9435\n",
      "Epoch 83/100\n",
      "270/270 [==============================] - ETA: 0s - loss: 0.0189 - accuracy: 0.9947\n",
      "Epoch 83: val_loss did not improve from 0.05095\n",
      "270/270 [==============================] - 97s 360ms/step - loss: 0.0189 - accuracy: 0.9947 - val_loss: 0.3143 - val_accuracy: 0.9444\n",
      "Epoch 84/100\n",
      "270/270 [==============================] - ETA: 0s - loss: 0.0124 - accuracy: 0.9961\n",
      "Epoch 84: val_loss did not improve from 0.05095\n",
      "270/270 [==============================] - 97s 358ms/step - loss: 0.0124 - accuracy: 0.9961 - val_loss: 0.5365 - val_accuracy: 0.9574\n",
      "Epoch 85/100\n",
      "270/270 [==============================] - ETA: 0s - loss: 0.0028 - accuracy: 0.9991\n",
      "Epoch 85: val_loss did not improve from 0.05095\n",
      "270/270 [==============================] - 97s 358ms/step - loss: 0.0028 - accuracy: 0.9991 - val_loss: 0.3543 - val_accuracy: 0.9417\n",
      "Epoch 86/100\n",
      "270/270 [==============================] - ETA: 0s - loss: 0.0115 - accuracy: 0.9961\n",
      "Epoch 86: val_loss did not improve from 0.05095\n",
      "270/270 [==============================] - 98s 364ms/step - loss: 0.0115 - accuracy: 0.9961 - val_loss: 0.4149 - val_accuracy: 0.9546\n",
      "Epoch 87/100\n",
      "270/270 [==============================] - ETA: 0s - loss: 0.0401 - accuracy: 0.9884\n",
      "Epoch 87: val_loss did not improve from 0.05095\n",
      "270/270 [==============================] - 97s 358ms/step - loss: 0.0401 - accuracy: 0.9884 - val_loss: 0.3967 - val_accuracy: 0.9639\n",
      "Epoch 88/100\n",
      "270/270 [==============================] - ETA: 0s - loss: 0.0091 - accuracy: 0.9972\n",
      "Epoch 88: val_loss did not improve from 0.05095\n",
      "270/270 [==============================] - 97s 357ms/step - loss: 0.0091 - accuracy: 0.9972 - val_loss: 0.1603 - val_accuracy: 0.9722\n",
      "Epoch 89/100\n",
      "270/270 [==============================] - ETA: 0s - loss: 0.0039 - accuracy: 0.9988\n",
      "Epoch 89: val_loss did not improve from 0.05095\n",
      "270/270 [==============================] - 97s 358ms/step - loss: 0.0039 - accuracy: 0.9988 - val_loss: 0.0830 - val_accuracy: 0.9815\n",
      "Epoch 90/100\n",
      "270/270 [==============================] - ETA: 0s - loss: 0.0352 - accuracy: 0.9921\n",
      "Epoch 90: val_loss did not improve from 0.05095\n",
      "270/270 [==============================] - 97s 359ms/step - loss: 0.0352 - accuracy: 0.9921 - val_loss: 0.3204 - val_accuracy: 0.9306\n",
      "Epoch 91/100\n",
      "270/270 [==============================] - ETA: 0s - loss: 0.0156 - accuracy: 0.9958\n",
      "Epoch 91: val_loss did not improve from 0.05095\n",
      "270/270 [==============================] - 101s 374ms/step - loss: 0.0156 - accuracy: 0.9958 - val_loss: 0.2362 - val_accuracy: 0.9583\n",
      "Epoch 92/100\n",
      "270/270 [==============================] - ETA: 0s - loss: 0.0140 - accuracy: 0.9977\n",
      "Epoch 92: val_loss did not improve from 0.05095\n",
      "270/270 [==============================] - 98s 363ms/step - loss: 0.0140 - accuracy: 0.9977 - val_loss: 0.2063 - val_accuracy: 0.9741\n",
      "Epoch 93/100\n",
      "270/270 [==============================] - ETA: 0s - loss: 0.0040 - accuracy: 0.9986\n",
      "Epoch 93: val_loss did not improve from 0.05095\n",
      "270/270 [==============================] - 99s 364ms/step - loss: 0.0040 - accuracy: 0.9986 - val_loss: 0.2048 - val_accuracy: 0.9722\n",
      "Epoch 94/100\n",
      "270/270 [==============================] - ETA: 0s - loss: 0.0037 - accuracy: 0.9986\n",
      "Epoch 94: val_loss did not improve from 0.05095\n",
      "270/270 [==============================] - 98s 363ms/step - loss: 0.0037 - accuracy: 0.9986 - val_loss: 0.3373 - val_accuracy: 0.9657\n",
      "Epoch 95/100\n",
      "270/270 [==============================] - ETA: 0s - loss: 6.7269e-04 - accuracy: 1.0000\n",
      "Epoch 95: val_loss did not improve from 0.05095\n",
      "270/270 [==============================] - 99s 365ms/step - loss: 6.7269e-04 - accuracy: 1.0000 - val_loss: 0.4009 - val_accuracy: 0.9667\n",
      "Epoch 96/100\n",
      "270/270 [==============================] - ETA: 0s - loss: 0.0068 - accuracy: 0.9975\n",
      "Epoch 96: val_loss did not improve from 0.05095\n",
      "270/270 [==============================] - 99s 364ms/step - loss: 0.0068 - accuracy: 0.9975 - val_loss: 0.3149 - val_accuracy: 0.9556\n",
      "Epoch 97/100\n",
      "270/270 [==============================] - ETA: 0s - loss: 0.0241 - accuracy: 0.9940\n",
      "Epoch 97: val_loss did not improve from 0.05095\n",
      "270/270 [==============================] - 98s 364ms/step - loss: 0.0241 - accuracy: 0.9940 - val_loss: 0.3804 - val_accuracy: 0.9602\n",
      "Epoch 98/100\n",
      "270/270 [==============================] - ETA: 0s - loss: 0.0242 - accuracy: 0.9937\n",
      "Epoch 98: val_loss did not improve from 0.05095\n",
      "270/270 [==============================] - 98s 364ms/step - loss: 0.0242 - accuracy: 0.9937 - val_loss: 0.2356 - val_accuracy: 0.9481\n",
      "Epoch 99/100\n",
      "270/270 [==============================] - ETA: 0s - loss: 0.0082 - accuracy: 0.9965\n",
      "Epoch 99: val_loss did not improve from 0.05095\n",
      "270/270 [==============================] - 100s 369ms/step - loss: 0.0082 - accuracy: 0.9965 - val_loss: 0.5180 - val_accuracy: 0.9009\n",
      "Epoch 100/100\n",
      "270/270 [==============================] - ETA: 0s - loss: 0.0142 - accuracy: 0.9942\n",
      "Epoch 100: val_loss did not improve from 0.05095\n",
      "270/270 [==============================] - 98s 364ms/step - loss: 0.0142 - accuracy: 0.9942 - val_loss: 0.3424 - val_accuracy: 0.9250\n"
     ]
    }
   ],
   "source": [
    "history=cnn.fit(training_set,\n",
    "                batch_size=BATCH_SIZE,\n",
    "                epochs=100,\n",
    "                validation_data=validation_set,\n",
    "                callbacks=[checkpointer])"
   ]
  },
  {
   "cell_type": "code",
   "execution_count": null,
   "metadata": {
    "colab": {
     "base_uri": "https://localhost:8080/",
     "height": 295
    },
    "executionInfo": {
     "elapsed": 835,
     "status": "ok",
     "timestamp": 1647963024369,
     "user": {
      "displayName": "16_038 Niloy Banik",
      "photoUrl": "https://lh3.googleusercontent.com/a-/AOh14GgRGQZD8Tl4xOLCNeLcfxfcPprIAW7QZ1CwfRM8=s64",
      "userId": "08142048259396518017"
     },
     "user_tz": -360
    },
    "id": "4B4Pin8tUO0e",
    "outputId": "b36a06b6-473c-43ae-dd2f-f383d15fd641"
   },
   "outputs": [
    {
     "data": {
      "image/png": "[encoded data removed]",
      "text/plain": [
       "<Figure size 432x288 with 1 Axes>"
      ]
     },
     "metadata": {
      "needs_background": "light"
     },
     "output_type": "display_data"
    }
   ],
   "source": [
    "plt.xlabel('epochs')\n",
    "plt.ylabel('accuracy')\n",
    "plt.title('Training accuracy graph')\n",
    "plt.plot(history.history['accuracy'],label='accuracy')\n",
    "plt.plot(history.history['val_accuracy'],label='val_accuracy')\n",
    "plt.legend()\n",
    "plt.show()"
   ]
  },
  {
   "cell_type": "code",
   "execution_count": null,
   "metadata": {
    "colab": {
     "base_uri": "https://localhost:8080/",
     "height": 295
    },
    "executionInfo": {
     "elapsed": 5,
     "status": "ok",
     "timestamp": 1647963036036,
     "user": {
      "displayName": "16_038 Niloy Banik",
      "photoUrl": "https://lh3.googleusercontent.com/a-/AOh14GgRGQZD8Tl4xOLCNeLcfxfcPprIAW7QZ1CwfRM8=s64",
      "userId": "08142048259396518017"
     },
     "user_tz": -360
    },
    "id": "hVMTyjZEQAZa",
    "outputId": "43a365ed-a650-4fac-cb7b-65349bf7db1e"
   },
   "outputs": [
    {
     "data": {
      "image/png": "[encoded data removed]",
      "text/plain": [
       "<Figure size 432x288 with 1 Axes>"
      ]
     },
     "metadata": {
      "needs_background": "light"
     },
     "output_type": "display_data"
    }
   ],
   "source": [
    "plt.xlabel('epochs')\n",
    "plt.ylabel('loss')\n",
    "plt.title('Loss training graph')\n",
    "plt.plot(history.history['loss'],label='loss')\n",
    "plt.plot(history.history['val_loss'],label='val_loss')\n",
    "plt.legend()\n",
    "plt.show()"
   ]
  },
  {
   "cell_type": "code",
   "execution_count": null,
   "metadata": {
    "colab": {
     "base_uri": "https://localhost:8080/"
    },
    "executionInfo": {
     "elapsed": 342025,
     "status": "ok",
     "timestamp": 1647963391134,
     "user": {
      "displayName": "16_038 Niloy Banik",
      "photoUrl": "https://lh3.googleusercontent.com/a-/AOh14GgRGQZD8Tl4xOLCNeLcfxfcPprIAW7QZ1CwfRM8=s64",
      "userId": "08142048259396518017"
     },
     "user_tz": -360
    },
    "id": "tnZYCChiUO3H",
    "outputId": "71bab924-b047-4bd9-fa38-379491825892"
   },
   "outputs": [
    {
     "name": "stdout",
     "output_type": "stream",
     "text": [
      "36/36 [==============================] - 333s 9s/step - loss: 0.0315 - accuracy: 0.9913\n",
      "Test Loss:  0.03146125003695488\n",
      "Test Accuracy:  0.991304337978363\n"
     ]
    }
   ],
   "source": [
    "test_loss,test_accuracy=cnn.evaluate(test_set)\n",
    "print('Test Loss: ',test_loss)\n",
    "print('Test Accuracy: ',test_accuracy)"
   ]
  },
  {
   "cell_type": "code",
   "execution_count": null,
   "metadata": {
    "colab": {
     "base_uri": "https://localhost:8080/"
    },
    "executionInfo": {
     "elapsed": 667,
     "status": "ok",
     "timestamp": 1647963400227,
     "user": {
      "displayName": "16_038 Niloy Banik",
      "photoUrl": "https://lh3.googleusercontent.com/a-/AOh14GgRGQZD8Tl4xOLCNeLcfxfcPprIAW7QZ1CwfRM8=s64",
      "userId": "08142048259396518017"
     },
     "user_tz": -360
    },
    "id": "C0U_V3SkUO5t",
    "outputId": "a9f1271d-4f98-4c68-f25b-d8d8aa9c12f8"
   },
   "outputs": [
    {
     "name": "stdout",
     "output_type": "stream",
     "text": [
      "Accuracy of the model is :  99.1304337978363\n"
     ]
    }
   ],
   "source": [
    "print('Accuracy of the model is : ',test_accuracy*100)"
   ]
  },
  {
   "cell_type": "code",
   "execution_count": null,
   "metadata": {
    "colab": {
     "base_uri": "https://localhost:8080/"
    },
    "executionInfo": {
     "elapsed": 4721,
     "status": "ok",
     "timestamp": 1647963408675,
     "user": {
      "displayName": "16_038 Niloy Banik",
      "photoUrl": "https://lh3.googleusercontent.com/a-/AOh14GgRGQZD8Tl4xOLCNeLcfxfcPprIAW7QZ1CwfRM8=s64",
      "userId": "08142048259396518017"
     },
     "user_tz": -360
    },
    "id": "PN7YlWtyUO8I",
    "outputId": "942bf0a8-1950-465b-ff52-46c883843137"
   },
   "outputs": [
    {
     "data": {
      "text/plain": [
       "array([[9.9999893e-01, 9.9479678e-07, 1.7071243e-07, 4.4601381e-10,\n",
       "        4.9235761e-11, 1.4395050e-10, 2.8942324e-08, 1.2167812e-09,\n",
       "        9.9217445e-10],\n",
       "       [9.9999988e-01, 4.1704499e-08, 1.0577570e-07, 1.1320926e-10,\n",
       "        8.4106194e-12, 1.4113266e-11, 3.3149468e-09, 4.0854237e-10,\n",
       "        3.3502853e-11],\n",
       "       [9.9999976e-01, 2.4454692e-08, 2.1449247e-07, 9.0137349e-11,\n",
       "        4.8615682e-12, 8.4282512e-12, 7.2014039e-10, 3.3576558e-10,\n",
       "        9.9662570e-12],\n",
       "       [9.9999952e-01, 5.3267144e-08, 4.8971032e-07, 1.8478441e-10,\n",
       "        1.6787426e-11, 1.8992556e-11, 1.6704336e-09, 9.4336206e-10,\n",
       "        2.3483292e-11],\n",
       "       [1.0000000e+00, 1.2886687e-13, 1.9826872e-13, 1.5648795e-12,\n",
       "        4.3967190e-21, 1.9072099e-15, 1.4609211e-10, 3.6898955e-17,\n",
       "        7.8556202e-16]], dtype=float32)"
      ]
     },
     "execution_count": 24,
     "metadata": {},
     "output_type": "execute_result"
    }
   ],
   "source": [
    "predicted_result=cnn.predict(test_set)\n",
    "predicted_result[:5]"
   ]
  },
  {
   "cell_type": "code",
   "execution_count": null,
   "metadata": {
    "colab": {
     "base_uri": "https://localhost:8080/"
    },
    "executionInfo": {
     "elapsed": 562,
     "status": "ok",
     "timestamp": 1647963412255,
     "user": {
      "displayName": "16_038 Niloy Banik",
      "photoUrl": "https://lh3.googleusercontent.com/a-/AOh14GgRGQZD8Tl4xOLCNeLcfxfcPprIAW7QZ1CwfRM8=s64",
      "userId": "08142048259396518017"
     },
     "user_tz": -360
    },
    "id": "q-abhCIfUPAI",
    "outputId": "14d2a721-f85e-4666-f261-b512245fc842"
   },
   "outputs": [
    {
     "data": {
      "text/plain": [
       "array([0, 0, 0, 0, 0])"
      ]
     },
     "execution_count": 25,
     "metadata": {},
     "output_type": "execute_result"
    }
   ],
   "source": [
    "predicted_class=np.argmax(predicted_result,axis=-1)\n",
    "predicted_class[:5]"
   ]
  },
  {
   "cell_type": "code",
   "execution_count": null,
   "metadata": {
    "colab": {
     "base_uri": "https://localhost:8080/"
    },
    "executionInfo": {
     "elapsed": 640,
     "status": "ok",
     "timestamp": 1647963416423,
     "user": {
      "displayName": "16_038 Niloy Banik",
      "photoUrl": "https://lh3.googleusercontent.com/a-/AOh14GgRGQZD8Tl4xOLCNeLcfxfcPprIAW7QZ1CwfRM8=s64",
      "userId": "08142048259396518017"
     },
     "user_tz": -360
    },
    "id": "PZpnhkZaUPG-",
    "outputId": "27ffd14d-7854-4e12-de15-86a7a476dac3"
   },
   "outputs": [
    {
     "data": {
      "text/plain": [
       "array([0, 0, 0, 0, 0, 0, 0, 0, 0, 0, 0, 0, 0, 0, 0, 0, 0, 0, 0, 0, 0, 0,\n",
       "       0, 0, 0, 0, 0, 0, 0, 0, 0, 0, 0, 0, 0, 0, 0, 0, 0, 0, 0, 0, 0, 0,\n",
       "       0, 0, 0, 0, 0, 0, 0, 0, 0, 0, 0, 0, 0, 0, 0, 0, 0, 0, 0, 0, 0, 0,\n",
       "       0, 0, 0, 0, 0, 0, 1, 1, 1, 1, 1, 1, 1, 1, 1, 1, 1, 1, 1, 1, 1, 1,\n",
       "       1, 1, 1, 1, 1, 1, 1, 1, 1, 1, 1, 1, 1, 1, 1, 1, 1, 1, 1, 1, 1, 1,\n",
       "       1, 1, 1, 1, 1, 1, 1, 1, 1, 1, 1, 1, 1, 1, 1, 1, 1, 1, 1, 1, 1, 1,\n",
       "       2, 2, 2, 2, 2, 2, 2, 2, 2, 2, 2, 2, 2, 2, 2, 2, 2, 2, 2, 2, 2, 2,\n",
       "       2, 2, 2, 2, 2, 2, 2, 2, 2, 2, 2, 2, 2, 2, 2, 2, 2, 2, 2, 2, 2, 2,\n",
       "       2, 2, 2, 2, 2, 2, 2, 2, 2, 2, 2, 2, 2, 2, 2, 2, 3, 3, 3, 3, 3, 3,\n",
       "       3, 3, 3, 3, 3, 3, 3, 3, 3, 3, 3, 3, 3, 3, 3, 3, 3, 3, 3, 3, 3, 3,\n",
       "       3, 3, 3, 3, 3, 3, 3, 3, 3, 3, 3, 3, 3, 3, 3, 3, 3, 3, 3, 3, 3, 3,\n",
       "       3, 3, 3, 3, 3, 3, 3, 3, 3, 3, 4, 4, 4, 4, 4, 4, 4, 4, 4, 4, 4, 4,\n",
       "       4, 4, 4, 4, 4, 4, 4, 4, 4, 4, 4, 4, 4, 4, 4, 4, 4, 4, 4, 4, 4, 4,\n",
       "       4, 4, 4, 4, 4, 4, 4, 4, 4, 4, 4, 4, 4, 4, 4, 4, 4, 4, 4, 4, 4, 4,\n",
       "       4, 4, 4, 4, 5, 5, 5, 5, 5, 5, 5, 5, 5, 5, 5, 5, 5, 5, 5, 5, 5, 5,\n",
       "       5, 5, 5, 5, 5, 5, 5, 5, 5, 5, 5, 5, 5, 5, 5, 5, 5, 5, 5, 5, 5, 5,\n",
       "       5, 5, 5, 5, 5, 5, 5, 5, 5, 5, 5, 5, 5, 5, 5, 5, 5, 5, 5, 5, 5, 5,\n",
       "       5, 5, 5, 5, 5, 5, 5, 5, 5, 5, 6, 6, 6, 6, 6, 6, 6, 6, 6, 6, 6, 6,\n",
       "       6, 6, 6, 6, 6, 6, 6, 6, 6, 6, 6, 6, 6, 6, 6, 6, 6, 6, 6, 6, 6, 6,\n",
       "       6, 6, 6, 6, 6, 6, 6, 6, 6, 6, 6, 6, 6, 7, 7, 7, 7, 7, 7, 7, 7, 7,\n",
       "       7, 7, 7, 7, 7, 7, 7, 7, 7, 7, 7, 7, 7, 7, 7, 7, 7, 7, 7, 7, 7, 7,\n",
       "       7, 7, 7, 7, 7, 7, 7, 7, 7, 7, 7, 7, 7, 7, 7, 7, 7, 7, 7, 7, 7, 7,\n",
       "       7, 7, 7, 7, 7, 7, 7, 7, 7, 7, 7, 7, 7, 7, 7, 7, 7, 7, 7, 8, 8, 8,\n",
       "       8, 8, 8, 8, 8, 8, 8, 8, 8, 8, 8, 8, 8, 8, 8, 8, 8, 8, 8, 8, 8, 8,\n",
       "       8, 8, 8, 8, 8, 8, 8, 8, 8, 8, 8, 8, 8, 8, 8, 8, 8, 8, 8, 8, 8, 8,\n",
       "       8, 8, 8, 8, 8, 8, 8, 8, 8, 8, 8, 8, 8, 8, 8, 8, 8, 8, 8, 8, 8, 8,\n",
       "       8, 8, 8], dtype=int32)"
      ]
     },
     "execution_count": 26,
     "metadata": {},
     "output_type": "execute_result"
    }
   ],
   "source": [
    "test_classes=test_set.classes\n",
    "test_classes"
   ]
  },
  {
   "cell_type": "code",
   "execution_count": null,
   "metadata": {
    "colab": {
     "base_uri": "https://localhost:8080/"
    },
    "executionInfo": {
     "elapsed": 564,
     "status": "ok",
     "timestamp": 1647963420195,
     "user": {
      "displayName": "16_038 Niloy Banik",
      "photoUrl": "https://lh3.googleusercontent.com/a-/AOh14GgRGQZD8Tl4xOLCNeLcfxfcPprIAW7QZ1CwfRM8=s64",
      "userId": "08142048259396518017"
     },
     "user_tz": -360
    },
    "id": "kXP7M-d1Q2A_",
    "outputId": "e5c8601c-40af-4384-f88d-5bc042e6c33f"
   },
   "outputs": [
    {
     "name": "stdout",
     "output_type": "stream",
     "text": [
      "[[72  0  0  0  0  0  0  0  0]\n",
      " [ 0 60  0  0  0  0  0  0  0]\n",
      " [ 0  0 60  0  0  0  0  0  0]\n",
      " [ 0  0  0 60  0  0  0  0  0]\n",
      " [ 0  5  0  0 55  0  0  0  0]\n",
      " [ 0  0  0  0  0 72  0  0  0]\n",
      " [ 0  0  0  0  0  0 47  0  0]\n",
      " [ 0  0  0  0  0  0  0 72  0]\n",
      " [ 0  0  0  0  0  0  0  0 72]]\n"
     ]
    }
   ],
   "source": [
    "from sklearn.metrics import confusion_matrix\n",
    "cm=confusion_matrix(test_classes,predicted_class)\n",
    "print(cm)"
   ]
  },
  {
   "cell_type": "code",
   "execution_count": null,
   "metadata": {
    "colab": {
     "base_uri": "https://localhost:8080/",
     "height": 290
    },
    "executionInfo": {
     "elapsed": 1325,
     "status": "ok",
     "timestamp": 1647963423918,
     "user": {
      "displayName": "16_038 Niloy Banik",
      "photoUrl": "https://lh3.googleusercontent.com/a-/AOh14GgRGQZD8Tl4xOLCNeLcfxfcPprIAW7QZ1CwfRM8=s64",
      "userId": "08142048259396518017"
     },
     "user_tz": -360
    },
    "id": "XAtQoNU9Q2iY",
    "outputId": "7a75da7f-998d-4a5e-e0c1-be0de00eb4fc"
   },
   "outputs": [
    {
     "data": {
      "text/plain": [
       "<matplotlib.axes._subplots.AxesSubplot at 0x7f0dc77e2f10>"
      ]
     },
     "execution_count": 28,
     "metadata": {},
     "output_type": "execute_result"
    },
    {
     "data": {
      "image/png": "[encoded data removed]",
      "text/plain": [
       "<Figure size 432x288 with 2 Axes>"
      ]
     },
     "metadata": {},
     "output_type": "display_data"
    }
   ],
   "source": [
    "import seaborn as sns\n",
    "sns.set(font_scale=1.4)\n",
    "sns.heatmap(cm, annot=True,fmt='d',cmap=\"Blues\")"
   ]
  },
  {
   "cell_type": "code",
   "execution_count": null,
   "metadata": {
    "colab": {
     "base_uri": "https://localhost:8080/"
    },
    "executionInfo": {
     "elapsed": 650,
     "status": "ok",
     "timestamp": 1647963427914,
     "user": {
      "displayName": "16_038 Niloy Banik",
      "photoUrl": "https://lh3.googleusercontent.com/a-/AOh14GgRGQZD8Tl4xOLCNeLcfxfcPprIAW7QZ1CwfRM8=s64",
      "userId": "08142048259396518017"
     },
     "user_tz": -360
    },
    "id": "kCnmzaQGQ91e",
    "outputId": "66c625bb-8163-4a45-f923-9182a04b723b"
   },
   "outputs": [
    {
     "name": "stdout",
     "output_type": "stream",
     "text": [
      "Accuracy score:  0.991304347826087\n"
     ]
    }
   ],
   "source": [
    "from sklearn.metrics import accuracy_score\n",
    "print('Accuracy score: ',accuracy_score(test_classes,predicted_class))"
   ]
  },
  {
   "cell_type": "code",
   "execution_count": null,
   "metadata": {
    "colab": {
     "base_uri": "https://localhost:8080/"
    },
    "executionInfo": {
     "elapsed": 5,
     "status": "ok",
     "timestamp": 1647963430714,
     "user": {
      "displayName": "16_038 Niloy Banik",
      "photoUrl": "https://lh3.googleusercontent.com/a-/AOh14GgRGQZD8Tl4xOLCNeLcfxfcPprIAW7QZ1CwfRM8=s64",
      "userId": "08142048259396518017"
     },
     "user_tz": -360
    },
    "id": "DjKVOcgsQ-sS",
    "outputId": "61c1f5ef-d69e-41f4-f6c4-d188b2646f90"
   },
   "outputs": [
    {
     "name": "stdout",
     "output_type": "stream",
     "text": [
      "Classification Report \n",
      "               precision    recall  f1-score   support\n",
      "\n",
      "           0       1.00      1.00      1.00        72\n",
      "           1       0.92      1.00      0.96        60\n",
      "           2       1.00      1.00      1.00        60\n",
      "           3       1.00      1.00      1.00        60\n",
      "           4       1.00      0.92      0.96        60\n",
      "           5       1.00      1.00      1.00        72\n",
      "           6       1.00      1.00      1.00        47\n",
      "           7       1.00      1.00      1.00        72\n",
      "           8       1.00      1.00      1.00        72\n",
      "\n",
      "    accuracy                           0.99       575\n",
      "   macro avg       0.99      0.99      0.99       575\n",
      "weighted avg       0.99      0.99      0.99       575\n",
      "\n"
     ]
    }
   ],
   "source": [
    "from sklearn.metrics import classification_report\n",
    "print('Classification Report \\n',classification_report(test_classes,predicted_class))"
   ]
  },
  {
   "cell_type": "code",
   "execution_count": null,
   "metadata": {
    "colab": {
     "base_uri": "https://localhost:8080/"
    },
    "executionInfo": {
     "elapsed": 817,
     "status": "ok",
     "timestamp": 1647963834145,
     "user": {
      "displayName": "16_038 Niloy Banik",
      "photoUrl": "https://lh3.googleusercontent.com/a-/AOh14GgRGQZD8Tl4xOLCNeLcfxfcPprIAW7QZ1CwfRM8=s64",
      "userId": "08142048259396518017"
     },
     "user_tz": -360
    },
    "id": "dx_EHs7NRBLD",
    "outputId": "273b8bc9-b7cd-44e2-9ed8-2d3d48189d46"
   },
   "outputs": [
    {
     "name": "stdout",
     "output_type": "stream",
     "text": [
      "/content/drive/MyDrive/Model/Model_2_CNN.h5\n"
     ]
    }
   ],
   "source": [
    "\n",
    "export_path_keras = \"Final Thesis/Saved Model/Model_2_CNN.h5\"\n",
    "print(export_path_keras)\n",
    "cnn.save(export_path_keras)"
   ]
  },
  {
   "cell_type": "code",
   "execution_count": 1,
   "metadata": {
    "executionInfo": {
     "elapsed": 3,
     "status": "ok",
     "timestamp": 1648229647411,
     "user": {
      "displayName": "16_038 Niloy Banik",
      "photoUrl": "https://lh3.googleusercontent.com/a-/AOh14GgRGQZD8Tl4xOLCNeLcfxfcPprIAW7QZ1CwfRM8=s64",
      "userId": "08142048259396518017"
     },
     "user_tz": -360
    },
    "id": "H0NVDQpRRBWg"
   },
   "outputs": [],
   "source": []
  },
  {
   "cell_type": "code",
   "execution_count": null,
   "metadata": {
    "colab": {
     "base_uri": "https://localhost:8080/"
    },
    "executionInfo": {
     "elapsed": 35669,
     "status": "ok",
     "timestamp": 1648009274215,
     "user": {
      "displayName": "16_038 Niloy Banik",
      "photoUrl": "https://lh3.googleusercontent.com/a-/AOh14GgRGQZD8Tl4xOLCNeLcfxfcPprIAW7QZ1CwfRM8=s64",
      "userId": "08142048259396518017"
     },
     "user_tz": -360
    },
    "id": "rrqL0hOEAN2c",
    "outputId": "a5926871-0b2c-46cd-efaf-386e8cf3fc1d"
   },
   "outputs": [
    {
     "name": "stdout",
     "output_type": "stream",
     "text": [
      "Mounted at /content/drive\n"
     ]
    }
   ],
   "source": [
    "from google.colab import drive\n",
    "drive.mount('/content/drive')"
   ]
  },
  {
   "cell_type": "code",
   "execution_count": 2,
   "metadata": {
    "executionInfo": {
     "elapsed": 3548,
     "status": "ok",
     "timestamp": 1648229655782,
     "user": {
      "displayName": "16_038 Niloy Banik",
      "photoUrl": "https://lh3.googleusercontent.com/a-/AOh14GgRGQZD8Tl4xOLCNeLcfxfcPprIAW7QZ1CwfRM8=s64",
      "userId": "08142048259396518017"
     },
     "user_tz": -360
    },
    "id": "hdROOk9OwzMX"
   },
   "outputs": [],
   "source": [
    "import os\n",
    "import numpy as np\n",
    "import matplotlib.pyplot as plt\n",
    "import random\n",
    "import cv2\n",
    "import PIL\n",
    "import glob\n",
    "import tensorflow as tf\n",
    "from tensorflow import keras\n",
    "from tensorflow.keras import layers\n",
    "from keras.preprocessing.image import ImageDataGenerator\n",
    "from tensorflow.keras.models import load_model\n",
    "from tensorflow.keras.preprocessing import image"
   ]
  },
  {
   "cell_type": "code",
   "execution_count": 3,
   "metadata": {
    "colab": {
     "base_uri": "https://localhost:8080/"
    },
    "executionInfo": {
     "elapsed": 4791,
     "status": "ok",
     "timestamp": 1648229669163,
     "user": {
      "displayName": "16_038 Niloy Banik",
      "photoUrl": "https://lh3.googleusercontent.com/a-/AOh14GgRGQZD8Tl4xOLCNeLcfxfcPprIAW7QZ1CwfRM8=s64",
      "userId": "08142048259396518017"
     },
     "user_tz": -360
    },
    "id": "vBf0oKGxRBeI",
    "outputId": "e5f8568c-4638-4086-baab-076f7978e5ab"
   },
   "outputs": [
    {
     "name": "stdout",
     "output_type": "stream",
     "text": [
      "/content/drive/MyDrive/Model/Model_2_CNN.h5\n",
      "Model: \"sequential\"\n",
      "_________________________________________________________________\n",
      " Layer (type)                Output Shape              Param #   \n",
      "=================================================================\n",
      " conv2d (Conv2D)             (None, 224, 224, 256)     7168      \n",
      "                                                                 \n",
      " max_pooling2d (MaxPooling2D  (None, 112, 112, 256)    0         \n",
      " )                                                               \n",
      "                                                                 \n",
      " conv2d_1 (Conv2D)           (None, 112, 112, 128)     295040    \n",
      "                                                                 \n",
      " max_pooling2d_1 (MaxPooling  (None, 56, 56, 128)      0         \n",
      " 2D)                                                             \n",
      "                                                                 \n",
      " conv2d_2 (Conv2D)           (None, 56, 56, 64)        73792     \n",
      "                                                                 \n",
      " max_pooling2d_2 (MaxPooling  (None, 28, 28, 64)       0         \n",
      " 2D)                                                             \n",
      "                                                                 \n",
      " conv2d_3 (Conv2D)           (None, 28, 28, 64)        36928     \n",
      "                                                                 \n",
      " max_pooling2d_3 (MaxPooling  (None, 14, 14, 64)       0         \n",
      " 2D)                                                             \n",
      "                                                                 \n",
      " conv2d_4 (Conv2D)           (None, 14, 14, 32)        18464     \n",
      "                                                                 \n",
      " max_pooling2d_4 (MaxPooling  (None, 7, 7, 32)         0         \n",
      " 2D)                                                             \n",
      "                                                                 \n",
      " conv2d_5 (Conv2D)           (None, 7, 7, 32)          9248      \n",
      "                                                                 \n",
      " max_pooling2d_5 (MaxPooling  (None, 3, 3, 32)         0         \n",
      " 2D)                                                             \n",
      "                                                                 \n",
      " dropout (Dropout)           (None, 3, 3, 32)          0         \n",
      "                                                                 \n",
      " flatten (Flatten)           (None, 288)               0         \n",
      "                                                                 \n",
      " dense (Dense)               (None, 128)               36992     \n",
      "                                                                 \n",
      " dense_1 (Dense)             (None, 9)                 1161      \n",
      "                                                                 \n",
      "=================================================================\n",
      "Total params: 478,793\n",
      "Trainable params: 478,793\n",
      "Non-trainable params: 0\n",
      "_________________________________________________________________\n"
     ]
    }
   ],
   "source": [
    "\n",
    "export_path_keras = \"/content/drive/MyDrive/Model/Model_2_CNN.h5\"\n",
    "print(export_path_keras)\n",
    "model_path=export_path_keras\n",
    "reload_model=load_model(model_path)\n",
    "reload_model.summary()"
   ]
  },
  {
   "cell_type": "code",
   "execution_count": null,
   "metadata": {
    "colab": {
     "base_uri": "https://localhost:8080/"
    },
    "executionInfo": {
     "elapsed": 506,
     "status": "ok",
     "timestamp": 1648206526993,
     "user": {
      "displayName": "16_038 Niloy Banik",
      "photoUrl": "https://lh3.googleusercontent.com/a-/AOh14GgRGQZD8Tl4xOLCNeLcfxfcPprIAW7QZ1CwfRM8=s64",
      "userId": "08142048259396518017"
     },
     "user_tz": -360
    },
    "id": "UJqDYjrDTUi2",
    "outputId": "bb2409f2-5199-4be3-c3cd-1e3201f1b23a"
   },
   "outputs": [
    {
     "name": "stdout",
     "output_type": "stream",
     "text": [
      "16\n",
      "(None, 9)\n"
     ]
    }
   ],
   "source": [
    "print(len(reload_model.weights))\n",
    "print(reload_model.output_shape)"
   ]
  },
  {
   "cell_type": "code",
   "execution_count": 4,
   "metadata": {
    "colab": {
     "base_uri": "https://localhost:8080/"
    },
    "executionInfo": {
     "elapsed": 464,
     "status": "ok",
     "timestamp": 1648229676267,
     "user": {
      "displayName": "16_038 Niloy Banik",
      "photoUrl": "https://lh3.googleusercontent.com/a-/AOh14GgRGQZD8Tl4xOLCNeLcfxfcPprIAW7QZ1CwfRM8=s64",
      "userId": "08142048259396518017"
     },
     "user_tz": -360
    },
    "id": "fR6QcXeBTUv5",
    "outputId": "8b5451c8-841a-4f97-cb2b-e919509c50a8"
   },
   "outputs": [
    {
     "data": {
      "text/plain": [
       "[<keras.layers.convolutional.Conv2D at 0x7f5f93e5d490>,\n",
       " <keras.layers.pooling.MaxPooling2D at 0x7f5f9044fa90>,\n",
       " <keras.layers.convolutional.Conv2D at 0x7f5f9040ffd0>,\n",
       " <keras.layers.pooling.MaxPooling2D at 0x7f5f90422690>,\n",
       " <keras.layers.convolutional.Conv2D at 0x7f5f904224d0>,\n",
       " <keras.layers.pooling.MaxPooling2D at 0x7f5f93e5da50>,\n",
       " <keras.layers.convolutional.Conv2D at 0x7f5f93ea4650>,\n",
       " <keras.layers.pooling.MaxPooling2D at 0x7f5f9043cad0>,\n",
       " <keras.layers.convolutional.Conv2D at 0x7f5f9042c690>,\n",
       " <keras.layers.pooling.MaxPooling2D at 0x7f5f903c5710>,\n",
       " <keras.layers.convolutional.Conv2D at 0x7f5f90442750>,\n",
       " <keras.layers.pooling.MaxPooling2D at 0x7f5f903c8990>,\n",
       " <keras.layers.core.dropout.Dropout at 0x7f5f9043cd50>,\n",
       " <keras.layers.core.flatten.Flatten at 0x7f5f9848d150>,\n",
       " <keras.layers.core.dense.Dense at 0x7f5f9044f350>,\n",
       " <keras.layers.core.dense.Dense at 0x7f5f9046fb50>]"
      ]
     },
     "execution_count": 4,
     "metadata": {},
     "output_type": "execute_result"
    }
   ],
   "source": [
    "reload_model.layers"
   ]
  },
  {
   "cell_type": "code",
   "execution_count": 1,
   "metadata": {
    "colab": {
     "base_uri": "https://localhost:8080/"
    },
    "executionInfo": {
     "elapsed": 28949,
     "status": "ok",
     "timestamp": 1648229633499,
     "user": {
      "displayName": "16_038 Niloy Banik",
      "photoUrl": "https://lh3.googleusercontent.com/a-/AOh14GgRGQZD8Tl4xOLCNeLcfxfcPprIAW7QZ1CwfRM8=s64",
      "userId": "08142048259396518017"
     },
     "user_tz": -360
    },
    "id": "8aFH32ZWwUTO",
    "outputId": "e91b80e6-6b7a-4819-d7b5-c4be2aea3bee"
   },
   "outputs": [
    {
     "name": "stdout",
     "output_type": "stream",
     "text": [
      "Mounted at /content/drive\n"
     ]
    }
   ],
   "source": [
    "from google.colab import drive\n",
    "drive.mount('/content/drive')"
   ]
  },
  {
   "cell_type": "code",
   "execution_count": null,
   "metadata": {
    "id": "L4Hp475NwUYB"
   },
   "outputs": [],
   "source": []
  },
  {
   "cell_type": "code",
   "execution_count": null,
   "metadata": {
    "id": "pYI5gcrkW9I6"
   },
   "outputs": [],
   "source": []
  },
  {
   "cell_type": "code",
   "execution_count": 5,
   "metadata": {
    "colab": {
     "base_uri": "https://localhost:8080/",
     "height": 338
    },
    "executionInfo": {
     "elapsed": 12834,
     "status": "ok",
     "timestamp": 1648229693656,
     "user": {
      "displayName": "16_038 Niloy Banik",
      "photoUrl": "https://lh3.googleusercontent.com/a-/AOh14GgRGQZD8Tl4xOLCNeLcfxfcPprIAW7QZ1CwfRM8=s64",
      "userId": "08142048259396518017"
     },
     "user_tz": -360
    },
    "id": "N8VUoRsCTU5U",
    "outputId": "d0c280fa-31b8-488a-b1e9-0ccda5020f2c"
   },
   "outputs": [
    {
     "name": "stdout",
     "output_type": "stream",
     "text": [
      "(1, 224, 224, 3)\n",
      "[[9.1364526e-04 3.3270176e-08 9.9900925e-01 5.1780703e-06 5.5762648e-05\n",
      "  3.3658714e-07 4.5313420e-10 1.5819107e-05 5.5252419e-10]]\n",
      "2\n"
     ]
    },
    {
     "data": {
      "image/png": "[encoded data removed]",
      "text/plain": [
       "<Figure size 432x288 with 1 Axes>"
      ]
     },
     "metadata": {
      "needs_background": "light"
     },
     "output_type": "display_data"
    }
   ],
   "source": [
    "random_image=image.load_img('/content/drive/MyDrive/Thesis/testing_set/3.ten/ten1.png',target_size=(224,224))\n",
    "plt.imshow(random_image)\n",
    "random_image=image.img_to_array(random_image)\n",
    "test_image=random_image.reshape((1,)+random_image.shape)\n",
    "test_image=test_image/255.0\n",
    "print(test_image.shape)\n",
    "predicted_class=reload_model.predict(test_image)\n",
    "print(predicted_class)\n",
    "#print('True classification')\n",
    "print(np.argmax(predicted_class))"
   ]
  },
  {
   "cell_type": "code",
   "execution_count": 6,
   "metadata": {},
   "outputs": [],
   "source": [
    "import os\n",
    "import pyttsx3 \n",
    "import numpy as np\n",
    "import matplotlib.pyplot as plt\n",
    "import random\n",
    "import cv2\n",
    "import PIL\n",
    "import glob\n",
    "import tensorflow as tf\n",
    "from tensorflow import keras\n",
    "from tensorflow.keras import layers\n",
    "from tensorflow.keras.preprocessing.image import ImageDataGenerator"
   ]
  },
  {
   "cell_type": "code",
   "execution_count": 7,
   "metadata": {},
   "outputs": [],
   "source": [
    "from tensorflow.keras.models import load_model\n",
    "from tensorflow.keras.preprocessing import image"
   ]
  },
  {
   "cell_type": "code",
   "execution_count": 8,
   "metadata": {},
   "outputs": [
    {
     "name": "stdout",
     "output_type": "stream",
     "text": [
      "Model: \"sequential\"\n",
      "_________________________________________________________________\n",
      "Layer (type)                 Output Shape              Param #   \n",
      "=================================================================\n",
      "conv2d (Conv2D)              (None, 224, 224, 256)     7168      \n",
      "_________________________________________________________________\n",
      "max_pooling2d (MaxPooling2D) (None, 112, 112, 256)     0         \n",
      "_________________________________________________________________\n",
      "conv2d_1 (Conv2D)            (None, 112, 112, 128)     295040    \n",
      "_________________________________________________________________\n",
      "max_pooling2d_1 (MaxPooling2 (None, 56, 56, 128)       0         \n",
      "_________________________________________________________________\n",
      "conv2d_2 (Conv2D)            (None, 56, 56, 64)        73792     \n",
      "_________________________________________________________________\n",
      "max_pooling2d_2 (MaxPooling2 (None, 28, 28, 64)        0         \n",
      "_________________________________________________________________\n",
      "conv2d_3 (Conv2D)            (None, 28, 28, 64)        36928     \n",
      "_________________________________________________________________\n",
      "max_pooling2d_3 (MaxPooling2 (None, 14, 14, 64)        0         \n",
      "_________________________________________________________________\n",
      "conv2d_4 (Conv2D)            (None, 14, 14, 32)        18464     \n",
      "_________________________________________________________________\n",
      "max_pooling2d_4 (MaxPooling2 (None, 7, 7, 32)          0         \n",
      "_________________________________________________________________\n",
      "conv2d_5 (Conv2D)            (None, 7, 7, 32)          9248      \n",
      "_________________________________________________________________\n",
      "max_pooling2d_5 (MaxPooling2 (None, 3, 3, 32)          0         \n",
      "_________________________________________________________________\n",
      "dropout (Dropout)            (None, 3, 3, 32)          0         \n",
      "_________________________________________________________________\n",
      "flatten (Flatten)            (None, 288)               0         \n",
      "_________________________________________________________________\n",
      "dense (Dense)                (None, 128)               36992     \n",
      "_________________________________________________________________\n",
      "dense_1 (Dense)              (None, 9)                 1161      \n",
      "=================================================================\n",
      "Total params: 478,793\n",
      "Trainable params: 478,793\n",
      "Non-trainable params: 0\n",
      "_________________________________________________________________\n"
     ]
    }
   ],
   "source": [
    "export_path_keras = \"Final Thesis/Saved Model/2.Model_CNN2.h5\"\n",
    "model_path=export_path_keras\n",
    "reload_model=load_model(model_path)\n",
    "reload_model.summary()"
   ]
  },
  {
   "cell_type": "code",
   "execution_count": 9,
   "metadata": {},
   "outputs": [],
   "source": [
    "def noteclass(cls):\n",
    "    txt=pyttsx3.init()\n",
    "    if cls==0:\n",
    "        ans=\"Two Taka\"\n",
    "        print(ans)\n",
    "        txt.say(ans)\n",
    "        txt.runAndWait()\n",
    "    elif cls==1:\n",
    "        ans=\"Five Taka\"\n",
    "        print(ans)\n",
    "        txt.say(ans)\n",
    "        txt.runAndWait()\n",
    "    elif cls==2:\n",
    "        ans=\"Ten Taka\"\n",
    "        print(ans)\n",
    "        txt.say(ans)\n",
    "        txt.runAndWait()\n",
    "    elif cls==3:\n",
    "        ans=\"Twenty Taka\"\n",
    "        print(ans)\n",
    "        txt.say(ans)\n",
    "       # txt.runAndWait()\n",
    "    elif cls==4:\n",
    "        ans=\"Fifty Taka\"\n",
    "        print(ans)\n",
    "        txt.say(ans)\n",
    "        txt.runAndWait()\n",
    "    elif cls==5:\n",
    "        ans=\"One Hundred Taka\"\n",
    "        print(ans)\n",
    "        txt.say(ans)\n",
    "        txt.runAndWait()\n",
    "    elif cls==6:\n",
    "        ans=\"Two Hundred Taka\"\n",
    "        print(ans)\n",
    "        txt.say(ans)\n",
    "        txt.runAndWait()\n",
    "    elif cls==7:\n",
    "        ans=\"Five Hundred Taka\"\n",
    "        print(ans)\n",
    "        txt.say(ans)\n",
    "        txt.runAndWait()\n",
    "    else:\n",
    "        ans=\"One Thousand Taka\"\n",
    "        print(ans)\n",
    "        txt.say(ans)\n",
    "        txt.runAndWait()\n",
    "    "
   ]
  },
  {
   "cell_type": "code",
   "execution_count": 10,
   "metadata": {},
   "outputs": [
    {
     "name": "stdout",
     "output_type": "stream",
     "text": [
      "Twenty Taka\n"
     ]
    },
    {
     "data": {
      "image/png": "[encoded data removed]",
      "text/plain": [
       "<Figure size 432x288 with 1 Axes>"
      ]
     },
     "metadata": {
      "needs_background": "light"
     },
     "output_type": "display_data"
    }
   ],
   "source": [
    "#\"\"E:\\AThesis\\anotation\\anotated img\\5\\new687.png\"\"\"\n",
    "random_image=image.load_img('E:/AThesis/anotation/anotated img/5/new680.png',target_size=(224,224))\n",
    "plt.imshow(random_image)\n",
    "random_image=image.img_to_array(random_image)\n",
    "test_image=random_image.reshape((1,)+random_image.shape)\n",
    "test_image=test_image/255.0\n",
    "#print(test_image.shape)\n",
    "predicted_class=reload_model.predict(test_image)\n",
    "#print(predicted_class)\n",
    "#print('True classification')\n",
    "noteclass(np.argmax(predicted_class))"
   ]
  },
  {
   "cell_type": "code",
   "execution_count": null,
   "metadata": {},
   "outputs": [],
   "source": []
  }
 ],
 "metadata": {
  "accelerator": "GPU",
  "colab": {
   "collapsed_sections": [],
   "machine_shape": "hm",
   "name": "Model_1_CNN2.ipynb",
   "provenance": [
    {
     "file_id": "1GqZu6zmCy2vMNMZqO78DDuHvwv_9vJcp",
     "timestamp": 1647091002952
    },
    {
     "file_id": "1IzPbxNFQmmSYk9s14L4YjBfUgACn9mW2",
     "timestamp": 1593978024316
    },
    {
     "file_id": "1G7NKeneJNyRtcRxLVbbF9jYtRyuTOa-R",
     "timestamp": 1592749700622
    },
    {
     "file_id": "https://github.com/satyajitghana/TSAI-DeepVision-EVA4.0/blob/master/Utils/Colab_25GBRAM_GPU.ipynb",
     "timestamp": 1592043804148
    }
   ]
  },
  "kernelspec": {
   "display_name": "Python 3",
   "language": "python",
   "name": "python3"
  },
  "language_info": {
   "codemirror_mode": {
    "name": "ipython",
    "version": 3
   },
   "file_extension": ".py",
   "mimetype": "text/x-python",
   "name": "python",
   "nbconvert_exporter": "python",
   "pygments_lexer": "ipython3",
   "version": "3.6.13"
  }
 },
 "nbformat": 4,
 "nbformat_minor": 1
}
