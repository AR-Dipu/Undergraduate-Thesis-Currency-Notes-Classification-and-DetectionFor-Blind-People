{
 "cells": [
  {
   "cell_type": "markdown",
   "metadata": {
    "id": "4cbgwZWWfWpp"
   },
   "source": [
    "# New Section"
   ]
  },
  {
   "cell_type": "code",
   "execution_count": 1,
   "metadata": {
    "colab": {
     "base_uri": "https://localhost:8080/"
    },
    "executionInfo": {
     "elapsed": 19734,
     "status": "ok",
     "timestamp": 1648264781080,
     "user": {
      "displayName": "16_038 Niloy Banik",
      "photoUrl": "https://lh3.googleusercontent.com/a-/AOh14GgRGQZD8Tl4xOLCNeLcfxfcPprIAW7QZ1CwfRM8=s64",
      "userId": "08142048259396518017"
     },
     "user_tz": -360
    },
    "id": "tAb77yZ9fzMG",
    "outputId": "8c994ff8-1f07-40a9-9455-ffdd3df4f04f"
   },
   "outputs": [
    {
     "name": "stdout",
     "output_type": "stream",
     "text": [
      "Mounted at /content/drive\n"
     ]
    }
   ],
   "source": [
    "from google.colab import drive\n",
    "drive.mount('/content/drive')"
   ]
  },
  {
   "cell_type": "code",
   "execution_count": 2,
   "metadata": {
    "colab": {
     "base_uri": "https://localhost:8080/"
    },
    "executionInfo": {
     "elapsed": 341,
     "status": "ok",
     "timestamp": 1648264783907,
     "user": {
      "displayName": "16_038 Niloy Banik",
      "photoUrl": "https://lh3.googleusercontent.com/a-/AOh14GgRGQZD8Tl4xOLCNeLcfxfcPprIAW7QZ1CwfRM8=s64",
      "userId": "08142048259396518017"
     },
     "user_tz": -360
    },
    "id": "pafL7Li0jyXW",
    "outputId": "01c7babd-0e1e-4df9-ce86-24af6e9c04f7"
   },
   "outputs": [
    {
     "name": "stdout",
     "output_type": "stream",
     "text": [
      "drive  sample_data\n"
     ]
    }
   ],
   "source": [
    "! ls"
   ]
  },
  {
   "cell_type": "code",
   "execution_count": 3,
   "metadata": {
    "executionInfo": {
     "elapsed": 3483,
     "status": "ok",
     "timestamp": 1648264790740,
     "user": {
      "displayName": "16_038 Niloy Banik",
      "photoUrl": "https://lh3.googleusercontent.com/a-/AOh14GgRGQZD8Tl4xOLCNeLcfxfcPprIAW7QZ1CwfRM8=s64",
      "userId": "08142048259396518017"
     },
     "user_tz": -360
    },
    "id": "t3ac-xYDSn6Z"
   },
   "outputs": [],
   "source": [
    "import os\n",
    "import numpy as np\n",
    "import matplotlib.pyplot as plt\n",
    "import random\n",
    "import cv2\n",
    "import PIL\n",
    "import glob\n",
    "import tensorflow as tf\n",
    "from tensorflow import keras\n",
    "from tensorflow.keras import layers\n",
    "from tensorflow.keras.regularizers import l2\n",
    "from keras.preprocessing.image import ImageDataGenerator"
   ]
  },
  {
   "cell_type": "code",
   "execution_count": 4,
   "metadata": {
    "executionInfo": {
     "elapsed": 324,
     "status": "ok",
     "timestamp": 1648264794852,
     "user": {
      "displayName": "16_038 Niloy Banik",
      "photoUrl": "https://lh3.googleusercontent.com/a-/AOh14GgRGQZD8Tl4xOLCNeLcfxfcPprIAW7QZ1CwfRM8=s64",
      "userId": "08142048259396518017"
     },
     "user_tz": -360
    },
    "id": "L77UjleckfmE"
   },
   "outputs": [],
   "source": [
    "ROOTPATH = '/content/drive/MyDrive'\n",
    "DATAPATH = ROOTPATH+'/Thesis/training_set'\n",
    "TRAINPATH = ROOTPATH+'/Thesis/training_set'\n",
    "TESTPATH = ROOTPATH+'/Thesis/testing_set'\n",
    "MODEL_PATH = ROOTPATH+'/Thesis/model'"
   ]
  },
  {
   "cell_type": "code",
   "execution_count": 5,
   "metadata": {
    "executionInfo": {
     "elapsed": 15878,
     "status": "ok",
     "timestamp": 1648264813396,
     "user": {
      "displayName": "16_038 Niloy Banik",
      "photoUrl": "https://lh3.googleusercontent.com/a-/AOh14GgRGQZD8Tl4xOLCNeLcfxfcPprIAW7QZ1CwfRM8=s64",
      "userId": "08142048259396518017"
     },
     "user_tz": -360
    },
    "id": "w3UX6pg9Sn_I"
   },
   "outputs": [],
   "source": [
    "two=glob.glob(DATAPATH+'/1.two/*.*')\n",
    "five=glob.glob(DATAPATH+'/2.five/*.*')\n",
    "ten=glob.glob(DATAPATH+'/3.ten/*.*')\n",
    "twenty=glob.glob(DATAPATH+'/4.twenty/*.*')\n",
    "fifty=glob.glob(DATAPATH+'/5.fifty/*.*')\n",
    "one_hundred=glob.glob(DATAPATH+'/6.one_hundred/*.*')\n",
    "two_hundred=glob.glob(DATAPATH+'/7.two_hundred/*.*')\n",
    "five_hundred=glob.glob(DATAPATH+'/8.five_hundred/*.*')\n",
    "one_thousand=glob.glob(DATAPATH+'/9.one_thousand/*.*')"
   ]
  },
  {
   "cell_type": "code",
   "execution_count": 6,
   "metadata": {
    "colab": {
     "base_uri": "https://localhost:8080/"
    },
    "executionInfo": {
     "elapsed": 3,
     "status": "ok",
     "timestamp": 1648264817286,
     "user": {
      "displayName": "16_038 Niloy Banik",
      "photoUrl": "https://lh3.googleusercontent.com/a-/AOh14GgRGQZD8Tl4xOLCNeLcfxfcPprIAW7QZ1CwfRM8=s64",
      "userId": "08142048259396518017"
     },
     "user_tz": -360
    },
    "id": "QMwuLmC3SoBu",
    "outputId": "32f12bee-b15e-49a0-ecaa-446e62bec2fa"
   },
   "outputs": [
    {
     "name": "stdout",
     "output_type": "stream",
     "text": [
      "two:  600\n",
      "five :  600\n",
      "ten:  600\n",
      "twenty:  600\n",
      "fifty:  600\n",
      "one_hundred:  600\n",
      "two_hundred:  600\n",
      "five_hundred:  600\n",
      "one_thousand:  600\n"
     ]
    }
   ],
   "source": [
    "print('two: ',len(two))\n",
    "print('five : ',len(five))\n",
    "print('ten: ',len(ten))\n",
    "print('twenty: ',len(twenty))\n",
    "print('fifty: ',len(fifty))\n",
    "print('one_hundred: ',len(one_hundred))\n",
    "print('two_hundred: ',len(two_hundred))\n",
    "print('five_hundred: ',len(five_hundred))\n",
    "print('one_thousand: ',len(one_thousand))"
   ]
  },
  {
   "cell_type": "code",
   "execution_count": 7,
   "metadata": {
    "colab": {
     "base_uri": "https://localhost:8080/"
    },
    "executionInfo": {
     "elapsed": 324,
     "status": "ok",
     "timestamp": 1648264821594,
     "user": {
      "displayName": "16_038 Niloy Banik",
      "photoUrl": "https://lh3.googleusercontent.com/a-/AOh14GgRGQZD8Tl4xOLCNeLcfxfcPprIAW7QZ1CwfRM8=s64",
      "userId": "08142048259396518017"
     },
     "user_tz": -360
    },
    "id": "fnfW1i79SoEe",
    "outputId": "b720f744-bb17-4109-a7c6-b3cbe1c17317"
   },
   "outputs": [
    {
     "name": "stdout",
     "output_type": "stream",
     "text": [
      "Total dataset class:  9\n"
     ]
    }
   ],
   "source": [
    "dataset_classes=[two,five,ten,twenty,fifty,one_hundred,two_hundred,five_hundred,one_thousand]\n",
    "total_class=len(dataset_classes)\n",
    "print('Total dataset class: ',total_class)"
   ]
  },
  {
   "cell_type": "code",
   "execution_count": null,
   "metadata": {
    "id": "fC9fBS8NSoHB"
   },
   "outputs": [],
   "source": []
  },
  {
   "cell_type": "code",
   "execution_count": 8,
   "metadata": {
    "colab": {
     "base_uri": "https://localhost:8080/"
    },
    "executionInfo": {
     "elapsed": 790,
     "status": "ok",
     "timestamp": 1648264825165,
     "user": {
      "displayName": "16_038 Niloy Banik",
      "photoUrl": "https://lh3.googleusercontent.com/a-/AOh14GgRGQZD8Tl4xOLCNeLcfxfcPprIAW7QZ1CwfRM8=s64",
      "userId": "08142048259396518017"
     },
     "user_tz": -360
    },
    "id": "wVFtUhelpX7g",
    "outputId": "e99828fe-1a6f-424e-ffab-7dd803368674"
   },
   "outputs": [
    {
     "name": "stdout",
     "output_type": "stream",
     "text": [
      "Found 4320 images belonging to 9 classes.\n",
      "Found 1080 images belonging to 9 classes.\n"
     ]
    }
   ],
   "source": [
    "IMAGE_SIZE=224\n",
    "BATCH_SIZE=16\n",
    "\n",
    "#pre_processing_training\n",
    "train_datagen = ImageDataGenerator(\n",
    "        rescale=1./255,\n",
    "        shear_range=0.2,\n",
    "        zoom_range=0.2,\n",
    "        horizontal_flip=True,\n",
    "        fill_mode='nearest',\n",
    "        validation_split=0.2)\n",
    "\n",
    "training_set = train_datagen.flow_from_directory(\n",
    "        DATAPATH,\n",
    "        shuffle=True,\n",
    "        target_size=(IMAGE_SIZE,IMAGE_SIZE),\n",
    "        batch_size=BATCH_SIZE,\n",
    "        class_mode='categorical',\n",
    "        subset='training')\n",
    "\n",
    "\n",
    "validation_set = train_datagen.flow_from_directory(\n",
    "        DATAPATH,\n",
    "         shuffle=True,\n",
    "        target_size=(IMAGE_SIZE,IMAGE_SIZE),\n",
    "        batch_size=BATCH_SIZE,\n",
    "        class_mode='categorical',\n",
    "        subset='validation')\n"
   ]
  },
  {
   "cell_type": "code",
   "execution_count": null,
   "metadata": {
    "id": "QIMQzD7mSoJs"
   },
   "outputs": [],
   "source": []
  },
  {
   "cell_type": "code",
   "execution_count": 9,
   "metadata": {
    "colab": {
     "base_uri": "https://localhost:8080/"
    },
    "executionInfo": {
     "elapsed": 2624,
     "status": "ok",
     "timestamp": 1648264831352,
     "user": {
      "displayName": "16_038 Niloy Banik",
      "photoUrl": "https://lh3.googleusercontent.com/a-/AOh14GgRGQZD8Tl4xOLCNeLcfxfcPprIAW7QZ1CwfRM8=s64",
      "userId": "08142048259396518017"
     },
     "user_tz": -360
    },
    "id": "99MAgCVRpX-8",
    "outputId": "5ec8a97e-5afb-427c-df74-7a0e0c8d66cf"
   },
   "outputs": [
    {
     "name": "stdout",
     "output_type": "stream",
     "text": [
      "Found 575 images belonging to 9 classes.\n"
     ]
    }
   ],
   "source": [
    "test_datagen = ImageDataGenerator(rescale=1./255)\n",
    "test_set = test_datagen.flow_from_directory(\n",
    "        TESTPATH,\n",
    "         shuffle=False,\n",
    "        target_size=(IMAGE_SIZE,IMAGE_SIZE),\n",
    "        batch_size=BATCH_SIZE,\n",
    "        class_mode='categorical')"
   ]
  },
  {
   "cell_type": "code",
   "execution_count": 10,
   "metadata": {
    "colab": {
     "base_uri": "https://localhost:8080/"
    },
    "executionInfo": {
     "elapsed": 319,
     "status": "ok",
     "timestamp": 1648264841805,
     "user": {
      "displayName": "16_038 Niloy Banik",
      "photoUrl": "https://lh3.googleusercontent.com/a-/AOh14GgRGQZD8Tl4xOLCNeLcfxfcPprIAW7QZ1CwfRM8=s64",
      "userId": "08142048259396518017"
     },
     "user_tz": -360
    },
    "id": "OrfsI-NNSoP7",
    "outputId": "a78ce2c3-8e92-4ba7-d67f-d4eef87aa4eb"
   },
   "outputs": [
    {
     "data": {
      "text/plain": [
       "{'1.two': 0,\n",
       " '2.five': 1,\n",
       " '3.ten': 2,\n",
       " '4.twenty': 3,\n",
       " '5.fifty': 4,\n",
       " '6.one_hundred': 5,\n",
       " '7.two_hundred': 6,\n",
       " '8.five_hundred': 7,\n",
       " '9.one_thousand': 8}"
      ]
     },
     "execution_count": 10,
     "metadata": {},
     "output_type": "execute_result"
    }
   ],
   "source": [
    "training_set.class_indices"
   ]
  },
  {
   "cell_type": "code",
   "execution_count": 11,
   "metadata": {
    "colab": {
     "base_uri": "https://localhost:8080/"
    },
    "executionInfo": {
     "elapsed": 350,
     "status": "ok",
     "timestamp": 1648264845151,
     "user": {
      "displayName": "16_038 Niloy Banik",
      "photoUrl": "https://lh3.googleusercontent.com/a-/AOh14GgRGQZD8Tl4xOLCNeLcfxfcPprIAW7QZ1CwfRM8=s64",
      "userId": "08142048259396518017"
     },
     "user_tz": -360
    },
    "id": "YDaobaUPSoSi",
    "outputId": "5b2f3e5d-bf1d-466a-848e-a905cc896942"
   },
   "outputs": [
    {
     "name": "stdout",
     "output_type": "stream",
     "text": [
      "Number of classes in dataset:  9\n"
     ]
    }
   ],
   "source": [
    "total_class=len(training_set.class_indices)\n",
    "print('Number of classes in dataset: ',total_class)"
   ]
  },
  {
   "cell_type": "code",
   "execution_count": 12,
   "metadata": {
    "executionInfo": {
     "elapsed": 3785,
     "status": "ok",
     "timestamp": 1648264948797,
     "user": {
      "displayName": "16_038 Niloy Banik",
      "photoUrl": "https://lh3.googleusercontent.com/a-/AOh14GgRGQZD8Tl4xOLCNeLcfxfcPprIAW7QZ1CwfRM8=s64",
      "userId": "08142048259396518017"
     },
     "user_tz": -360
    },
    "id": "xj5BVQXhSolB"
   },
   "outputs": [],
   "source": [
    "cnn = tf.keras.models.Sequential()\n",
    "\n",
    "cnn.add(tf.keras.layers.Conv2D(filters=256 , kernel_size=3 , activation='relu' , input_shape=[224,224,3],padding='same'))\n",
    "cnn.add(tf.keras.layers.MaxPool2D(pool_size=2))\n",
    "\n",
    "\n",
    "cnn.add(tf.keras.layers.Conv2D(filters=128 , kernel_size=3 , activation='relu', padding='same'))\n",
    "cnn.add(tf.keras.layers.MaxPool2D(pool_size=2))\n",
    "\n",
    "cnn.add(tf.keras.layers.Conv2D(filters=64 , kernel_size=3 , activation='relu', padding='same' ))\n",
    "cnn.add(tf.keras.layers.MaxPool2D(pool_size=2))\n",
    "\n",
    "\n",
    "cnn.add(tf.keras.layers.Conv2D(filters=64 , kernel_size=3 , activation='relu', padding='same' ))\n",
    "cnn.add(tf.keras.layers.MaxPool2D(pool_size=2))\n",
    "\n",
    "cnn.add(tf.keras.layers.Conv2D(filters=32 , kernel_size=3 ,  activation='relu', padding='same' ))\n",
    "cnn.add(tf.keras.layers.MaxPool2D(pool_size=2 ))\n",
    "\n",
    "cnn.add(tf.keras.layers.Conv2D(filters=32 , kernel_size=3 ,  activation='relu', padding='same' ))\n",
    "cnn.add(tf.keras.layers.MaxPool2D(pool_size=2))\n",
    "\n",
    "cnn.add(tf.keras.layers.Dropout(0.3))\n",
    "\n",
    "cnn.add(tf.keras.layers.Flatten())\n",
    "\n",
    "cnn.add(tf.keras.layers.Dense(units=128, activation='relu'))\n",
    "cnn.add(tf.keras.layers.Dense(units=9, kernel_regularizer=tf.keras.regularizers.l2(0.01),activation ='softmax'))"
   ]
  },
  {
   "cell_type": "code",
   "execution_count": 13,
   "metadata": {
    "colab": {
     "base_uri": "https://localhost:8080/"
    },
    "executionInfo": {
     "elapsed": 370,
     "status": "ok",
     "timestamp": 1648264953377,
     "user": {
      "displayName": "16_038 Niloy Banik",
      "photoUrl": "https://lh3.googleusercontent.com/a-/AOh14GgRGQZD8Tl4xOLCNeLcfxfcPprIAW7QZ1CwfRM8=s64",
      "userId": "08142048259396518017"
     },
     "user_tz": -360
    },
    "id": "ezDg6NkZSonT",
    "outputId": "55fa0790-a482-48f9-c037-66d85dca958e"
   },
   "outputs": [
    {
     "name": "stdout",
     "output_type": "stream",
     "text": [
      "Model: \"sequential\"\n",
      "_________________________________________________________________\n",
      " Layer (type)                Output Shape              Param #   \n",
      "=================================================================\n",
      " conv2d (Conv2D)             (None, 224, 224, 256)     7168      \n",
      "                                                                 \n",
      " max_pooling2d (MaxPooling2D  (None, 112, 112, 256)    0         \n",
      " )                                                               \n",
      "                                                                 \n",
      " conv2d_1 (Conv2D)           (None, 112, 112, 128)     295040    \n",
      "                                                                 \n",
      " max_pooling2d_1 (MaxPooling  (None, 56, 56, 128)      0         \n",
      " 2D)                                                             \n",
      "                                                                 \n",
      " conv2d_2 (Conv2D)           (None, 56, 56, 64)        73792     \n",
      "                                                                 \n",
      " max_pooling2d_2 (MaxPooling  (None, 28, 28, 64)       0         \n",
      " 2D)                                                             \n",
      "                                                                 \n",
      " conv2d_3 (Conv2D)           (None, 28, 28, 64)        36928     \n",
      "                                                                 \n",
      " max_pooling2d_3 (MaxPooling  (None, 14, 14, 64)       0         \n",
      " 2D)                                                             \n",
      "                                                                 \n",
      " conv2d_4 (Conv2D)           (None, 14, 14, 32)        18464     \n",
      "                                                                 \n",
      " max_pooling2d_4 (MaxPooling  (None, 7, 7, 32)         0         \n",
      " 2D)                                                             \n",
      "                                                                 \n",
      " conv2d_5 (Conv2D)           (None, 7, 7, 32)          9248      \n",
      "                                                                 \n",
      " max_pooling2d_5 (MaxPooling  (None, 3, 3, 32)         0         \n",
      " 2D)                                                             \n",
      "                                                                 \n",
      " dropout (Dropout)           (None, 3, 3, 32)          0         \n",
      "                                                                 \n",
      " flatten (Flatten)           (None, 288)               0         \n",
      "                                                                 \n",
      " dense (Dense)               (None, 128)               36992     \n",
      "                                                                 \n",
      " dense_1 (Dense)             (None, 9)                 1161      \n",
      "                                                                 \n",
      "=================================================================\n",
      "Total params: 478,793\n",
      "Trainable params: 478,793\n",
      "Non-trainable params: 0\n",
      "_________________________________________________________________\n"
     ]
    }
   ],
   "source": [
    "cnn.summary()"
   ]
  },
  {
   "cell_type": "code",
   "execution_count": 14,
   "metadata": {
    "executionInfo": {
     "elapsed": 333,
     "status": "ok",
     "timestamp": 1648264960919,
     "user": {
      "displayName": "16_038 Niloy Banik",
      "photoUrl": "https://lh3.googleusercontent.com/a-/AOh14GgRGQZD8Tl4xOLCNeLcfxfcPprIAW7QZ1CwfRM8=s64",
      "userId": "08142048259396518017"
     },
     "user_tz": -360
    },
    "id": "6d4I3aicUOtA"
   },
   "outputs": [],
   "source": [
    "cnn.compile(optimizer = 'adam' , loss = 'categorical_crossentropy' , metrics = ['accuracy'])"
   ]
  },
  {
   "cell_type": "code",
   "execution_count": 15,
   "metadata": {
    "executionInfo": {
     "elapsed": 321,
     "status": "ok",
     "timestamp": 1648264974329,
     "user": {
      "displayName": "16_038 Niloy Banik",
      "photoUrl": "https://lh3.googleusercontent.com/a-/AOh14GgRGQZD8Tl4xOLCNeLcfxfcPprIAW7QZ1CwfRM8=s64",
      "userId": "08142048259396518017"
     },
     "user_tz": -360
    },
    "id": "cokYL1e-ljsC"
   },
   "outputs": [],
   "source": [
    "from tensorflow.keras.callbacks import ModelCheckpoint\n",
    "checkpointer = ModelCheckpoint(filepath=MODEL_PATH+'SVM_CNN2.model.best.hdf5', verbose=1 ,save_best_only=True)"
   ]
  },
  {
   "cell_type": "code",
   "execution_count": null,
   "metadata": {
    "colab": {
     "base_uri": "https://localhost:8080/"
    },
    "id": "TspO7t25UOx_",
    "outputId": "7711d01c-cd45-4efa-b558-2b716d5b157d"
   },
   "outputs": [
    {
     "name": "stdout",
     "output_type": "stream",
     "text": [
      "Epoch 1/50\n",
      "270/270 [==============================] - ETA: 0s - loss: 1.1732 - accuracy: 0.5752\n",
      "Epoch 1: val_loss improved from inf to 0.82699, saving model to /content/drive/MyDrive/Thesis/modelSVM_CNN2.model.best.hdf5\n",
      "270/270 [==============================] - 584s 2s/step - loss: 1.1732 - accuracy: 0.5752 - val_loss: 0.8270 - val_accuracy: 0.7028\n",
      "Epoch 2/50\n",
      "270/270 [==============================] - ETA: 0s - loss: 0.5625 - accuracy: 0.8190\n",
      "Epoch 2: val_loss improved from 0.82699 to 0.43893, saving model to /content/drive/MyDrive/Thesis/modelSVM_CNN2.model.best.hdf5\n",
      "270/270 [==============================] - 99s 365ms/step - loss: 0.5625 - accuracy: 0.8190 - val_loss: 0.4389 - val_accuracy: 0.8593\n",
      "Epoch 3/50\n",
      "270/270 [==============================] - ETA: 0s - loss: 0.2689 - accuracy: 0.9227\n",
      "Epoch 3: val_loss improved from 0.43893 to 0.40489, saving model to /content/drive/MyDrive/Thesis/modelSVM_CNN2.model.best.hdf5\n",
      "270/270 [==============================] - 102s 376ms/step - loss: 0.2689 - accuracy: 0.9227 - val_loss: 0.4049 - val_accuracy: 0.8611\n",
      "Epoch 4/50\n",
      "270/270 [==============================] - ETA: 0s - loss: 0.2149 - accuracy: 0.9417\n",
      "Epoch 4: val_loss did not improve from 0.40489\n",
      "270/270 [==============================] - 99s 366ms/step - loss: 0.2149 - accuracy: 0.9417 - val_loss: 0.6583 - val_accuracy: 0.7926\n",
      "Epoch 5/50\n",
      "270/270 [==============================] - ETA: 0s - loss: 0.2159 - accuracy: 0.9440\n",
      "Epoch 5: val_loss improved from 0.40489 to 0.38986, saving model to /content/drive/MyDrive/Thesis/modelSVM_CNN2.model.best.hdf5\n",
      "270/270 [==============================] - 99s 368ms/step - loss: 0.2159 - accuracy: 0.9440 - val_loss: 0.3899 - val_accuracy: 0.9000\n",
      "Epoch 6/50\n",
      "270/270 [==============================] - ETA: 0s - loss: 0.1513 - accuracy: 0.9625\n",
      "Epoch 6: val_loss did not improve from 0.38986\n",
      "270/270 [==============================] - 97s 360ms/step - loss: 0.1513 - accuracy: 0.9625 - val_loss: 0.4102 - val_accuracy: 0.9194\n",
      "Epoch 7/50\n",
      "270/270 [==============================] - ETA: 0s - loss: 0.1312 - accuracy: 0.9669\n",
      "Epoch 7: val_loss improved from 0.38986 to 0.38323, saving model to /content/drive/MyDrive/Thesis/modelSVM_CNN2.model.best.hdf5\n",
      "270/270 [==============================] - 97s 358ms/step - loss: 0.1312 - accuracy: 0.9669 - val_loss: 0.3832 - val_accuracy: 0.9231\n",
      "Epoch 8/50\n",
      "270/270 [==============================] - ETA: 0s - loss: 0.1396 - accuracy: 0.9662\n",
      "Epoch 8: val_loss improved from 0.38323 to 0.37272, saving model to /content/drive/MyDrive/Thesis/modelSVM_CNN2.model.best.hdf5\n",
      "270/270 [==============================] - 97s 360ms/step - loss: 0.1396 - accuracy: 0.9662 - val_loss: 0.3727 - val_accuracy: 0.9287\n",
      "Epoch 9/50\n",
      "270/270 [==============================] - ETA: 0s - loss: 0.1023 - accuracy: 0.9785\n",
      "Epoch 9: val_loss improved from 0.37272 to 0.31896, saving model to /content/drive/MyDrive/Thesis/modelSVM_CNN2.model.best.hdf5\n",
      "270/270 [==============================] - 97s 357ms/step - loss: 0.1023 - accuracy: 0.9785 - val_loss: 0.3190 - val_accuracy: 0.9389\n",
      "Epoch 10/50\n",
      "270/270 [==============================] - ETA: 0s - loss: 0.0706 - accuracy: 0.9873\n",
      "Epoch 10: val_loss did not improve from 0.31896\n",
      "270/270 [==============================] - 97s 360ms/step - loss: 0.0706 - accuracy: 0.9873 - val_loss: 0.3313 - val_accuracy: 0.9074\n",
      "Epoch 11/50\n",
      "270/270 [==============================] - ETA: 0s - loss: 0.1064 - accuracy: 0.9745\n",
      "Epoch 11: val_loss did not improve from 0.31896\n",
      "270/270 [==============================] - 96s 357ms/step - loss: 0.1064 - accuracy: 0.9745 - val_loss: 0.3329 - val_accuracy: 0.9130\n",
      "Epoch 12/50\n",
      "270/270 [==============================] - ETA: 0s - loss: 0.0808 - accuracy: 0.9847\n",
      "Epoch 12: val_loss improved from 0.31896 to 0.19937, saving model to /content/drive/MyDrive/Thesis/modelSVM_CNN2.model.best.hdf5\n",
      "270/270 [==============================] - 97s 360ms/step - loss: 0.0808 - accuracy: 0.9847 - val_loss: 0.1994 - val_accuracy: 0.9583\n",
      "Epoch 13/50\n",
      "270/270 [==============================] - ETA: 0s - loss: 0.0737 - accuracy: 0.9824\n",
      "Epoch 13: val_loss did not improve from 0.19937\n",
      "270/270 [==============================] - 97s 359ms/step - loss: 0.0737 - accuracy: 0.9824 - val_loss: 0.4481 - val_accuracy: 0.9046\n",
      "Epoch 14/50\n",
      "270/270 [==============================] - ETA: 0s - loss: 0.0627 - accuracy: 0.9866\n",
      "Epoch 14: val_loss did not improve from 0.19937\n",
      "270/270 [==============================] - 95s 353ms/step - loss: 0.0627 - accuracy: 0.9866 - val_loss: 0.2465 - val_accuracy: 0.9602\n",
      "Epoch 15/50\n",
      "270/270 [==============================] - ETA: 0s - loss: 0.0599 - accuracy: 0.9875\n",
      "Epoch 15: val_loss did not improve from 0.19937\n",
      "270/270 [==============================] - 96s 353ms/step - loss: 0.0599 - accuracy: 0.9875 - val_loss: 0.2434 - val_accuracy: 0.9593\n",
      "Epoch 16/50\n",
      "270/270 [==============================] - ETA: 0s - loss: 0.0524 - accuracy: 0.9887\n",
      "Epoch 16: val_loss did not improve from 0.19937\n",
      "270/270 [==============================] - 97s 357ms/step - loss: 0.0524 - accuracy: 0.9887 - val_loss: 0.3002 - val_accuracy: 0.9546\n",
      "Epoch 17/50\n",
      "270/270 [==============================] - ETA: 0s - loss: 0.0476 - accuracy: 0.9924\n",
      "Epoch 17: val_loss did not improve from 0.19937\n",
      "270/270 [==============================] - 97s 359ms/step - loss: 0.0476 - accuracy: 0.9924 - val_loss: 0.3435 - val_accuracy: 0.9204\n",
      "Epoch 18/50\n",
      "270/270 [==============================] - ETA: 0s - loss: 0.0707 - accuracy: 0.9822\n",
      "Epoch 18: val_loss did not improve from 0.19937\n",
      "270/270 [==============================] - 97s 359ms/step - loss: 0.0707 - accuracy: 0.9822 - val_loss: 0.4312 - val_accuracy: 0.9352\n",
      "Epoch 19/50\n",
      "270/270 [==============================] - ETA: 0s - loss: 0.0782 - accuracy: 0.9806\n",
      "Epoch 19: val_loss did not improve from 0.19937\n",
      "270/270 [==============================] - 98s 364ms/step - loss: 0.0782 - accuracy: 0.9806 - val_loss: 0.4473 - val_accuracy: 0.9306\n",
      "Epoch 20/50\n",
      "270/270 [==============================] - ETA: 0s - loss: 0.0457 - accuracy: 0.9900\n",
      "Epoch 20: val_loss improved from 0.19937 to 0.14331, saving model to /content/drive/MyDrive/Thesis/modelSVM_CNN2.model.best.hdf5\n",
      "270/270 [==============================] - 99s 365ms/step - loss: 0.0457 - accuracy: 0.9900 - val_loss: 0.1433 - val_accuracy: 0.9750\n",
      "Epoch 21/50\n",
      "270/270 [==============================] - ETA: 0s - loss: 0.0398 - accuracy: 0.9914\n",
      "Epoch 21: val_loss did not improve from 0.14331\n",
      "270/270 [==============================] - 98s 362ms/step - loss: 0.0398 - accuracy: 0.9914 - val_loss: 0.2280 - val_accuracy: 0.9509\n",
      "Epoch 22/50\n",
      "270/270 [==============================] - ETA: 0s - loss: 0.1013 - accuracy: 0.9743\n",
      "Epoch 22: val_loss did not improve from 0.14331\n",
      "270/270 [==============================] - 101s 372ms/step - loss: 0.1013 - accuracy: 0.9743 - val_loss: 0.2673 - val_accuracy: 0.9602\n",
      "Epoch 23/50\n",
      "270/270 [==============================] - ETA: 0s - loss: 0.0312 - accuracy: 0.9958\n",
      "Epoch 23: val_loss did not improve from 0.14331\n",
      "270/270 [==============================] - 98s 363ms/step - loss: 0.0312 - accuracy: 0.9958 - val_loss: 0.1627 - val_accuracy: 0.9713\n",
      "Epoch 24/50\n",
      "270/270 [==============================] - ETA: 0s - loss: 0.0538 - accuracy: 0.9875\n",
      "Epoch 24: val_loss did not improve from 0.14331\n",
      "270/270 [==============================] - 98s 364ms/step - loss: 0.0538 - accuracy: 0.9875 - val_loss: 0.2028 - val_accuracy: 0.9574\n",
      "Epoch 25/50\n",
      "270/270 [==============================] - ETA: 0s - loss: 0.0500 - accuracy: 0.9882\n",
      "Epoch 25: val_loss did not improve from 0.14331\n",
      "270/270 [==============================] - 97s 359ms/step - loss: 0.0500 - accuracy: 0.9882 - val_loss: 0.3059 - val_accuracy: 0.9213\n",
      "Epoch 26/50\n",
      "270/270 [==============================] - ETA: 0s - loss: 0.0596 - accuracy: 0.9887\n",
      "Epoch 26: val_loss did not improve from 0.14331\n",
      "270/270 [==============================] - 98s 362ms/step - loss: 0.0596 - accuracy: 0.9887 - val_loss: 0.3029 - val_accuracy: 0.9222\n",
      "Epoch 27/50\n",
      "270/270 [==============================] - ETA: 0s - loss: 0.0408 - accuracy: 0.9919\n",
      "Epoch 27: val_loss did not improve from 0.14331\n",
      "270/270 [==============================] - 99s 365ms/step - loss: 0.0408 - accuracy: 0.9919 - val_loss: 0.2243 - val_accuracy: 0.9611\n",
      "Epoch 28/50\n",
      "270/270 [==============================] - ETA: 0s - loss: 0.0721 - accuracy: 0.9836\n",
      "Epoch 28: val_loss improved from 0.14331 to 0.13063, saving model to /content/drive/MyDrive/Thesis/modelSVM_CNN2.model.best.hdf5\n",
      "270/270 [==============================] - 97s 359ms/step - loss: 0.0721 - accuracy: 0.9836 - val_loss: 0.1306 - val_accuracy: 0.9639\n",
      "Epoch 29/50\n",
      "270/270 [==============================] - ETA: 0s - loss: 0.0748 - accuracy: 0.9833\n",
      "Epoch 29: val_loss did not improve from 0.13063\n",
      "270/270 [==============================] - 97s 357ms/step - loss: 0.0748 - accuracy: 0.9833 - val_loss: 0.2377 - val_accuracy: 0.9556\n",
      "Epoch 30/50\n",
      "270/270 [==============================] - ETA: 0s - loss: 0.0434 - accuracy: 0.9921\n",
      "Epoch 30: val_loss did not improve from 0.13063\n",
      "270/270 [==============================] - 97s 359ms/step - loss: 0.0434 - accuracy: 0.9921 - val_loss: 0.2212 - val_accuracy: 0.9630\n",
      "Epoch 31/50\n",
      "270/270 [==============================] - ETA: 0s - loss: 0.0304 - accuracy: 0.9944\n",
      "Epoch 31: val_loss improved from 0.13063 to 0.09534, saving model to /content/drive/MyDrive/Thesis/modelSVM_CNN2.model.best.hdf5\n",
      "270/270 [==============================] - 98s 364ms/step - loss: 0.0304 - accuracy: 0.9944 - val_loss: 0.0953 - val_accuracy: 0.9676\n",
      "Epoch 32/50\n",
      "270/270 [==============================] - ETA: 0s - loss: 0.0392 - accuracy: 0.9942\n",
      "Epoch 32: val_loss improved from 0.09534 to 0.07127, saving model to /content/drive/MyDrive/Thesis/modelSVM_CNN2.model.best.hdf5\n",
      "270/270 [==============================] - 98s 362ms/step - loss: 0.0392 - accuracy: 0.9942 - val_loss: 0.0713 - val_accuracy: 0.9824\n",
      "Epoch 33/50\n",
      "270/270 [==============================] - ETA: 0s - loss: 0.0368 - accuracy: 0.9940\n",
      "Epoch 33: val_loss did not improve from 0.07127\n",
      "270/270 [==============================] - 98s 364ms/step - loss: 0.0368 - accuracy: 0.9940 - val_loss: 0.4413 - val_accuracy: 0.9056\n",
      "Epoch 34/50\n",
      "270/270 [==============================] - ETA: 0s - loss: 0.0454 - accuracy: 0.9905\n",
      "Epoch 34: val_loss did not improve from 0.07127\n",
      "270/270 [==============================] - 97s 359ms/step - loss: 0.0454 - accuracy: 0.9905 - val_loss: 0.2046 - val_accuracy: 0.9611\n",
      "Epoch 35/50\n",
      "270/270 [==============================] - ETA: 0s - loss: 0.0488 - accuracy: 0.9887\n",
      "Epoch 35: val_loss did not improve from 0.07127\n",
      "270/270 [==============================] - 96s 356ms/step - loss: 0.0488 - accuracy: 0.9887 - val_loss: 0.1605 - val_accuracy: 0.9593\n",
      "Epoch 36/50\n",
      "270/270 [==============================] - ETA: 0s - loss: 0.0374 - accuracy: 0.9937\n",
      "Epoch 36: val_loss did not improve from 0.07127\n",
      "270/270 [==============================] - 98s 361ms/step - loss: 0.0374 - accuracy: 0.9937 - val_loss: 0.3211 - val_accuracy: 0.9324\n",
      "Epoch 37/50\n",
      "270/270 [==============================] - ETA: 0s - loss: 0.0360 - accuracy: 0.9937\n",
      "Epoch 37: val_loss did not improve from 0.07127\n",
      "270/270 [==============================] - 98s 362ms/step - loss: 0.0360 - accuracy: 0.9937 - val_loss: 0.2264 - val_accuracy: 0.9583\n",
      "Epoch 38/50\n",
      "270/270 [==============================] - ETA: 0s - loss: 0.0502 - accuracy: 0.9900\n",
      "Epoch 38: val_loss did not improve from 0.07127\n",
      "270/270 [==============================] - 97s 358ms/step - loss: 0.0502 - accuracy: 0.9900 - val_loss: 0.2099 - val_accuracy: 0.9472\n",
      "Epoch 39/50\n",
      "270/270 [==============================] - ETA: 0s - loss: 0.0522 - accuracy: 0.9882\n",
      "Epoch 39: val_loss did not improve from 0.07127\n",
      "270/270 [==============================] - 96s 356ms/step - loss: 0.0522 - accuracy: 0.9882 - val_loss: 0.2686 - val_accuracy: 0.9315\n",
      "Epoch 40/50\n",
      "270/270 [==============================] - ETA: 0s - loss: 0.0278 - accuracy: 0.9956\n",
      "Epoch 40: val_loss did not improve from 0.07127\n",
      "270/270 [==============================] - 99s 368ms/step - loss: 0.0278 - accuracy: 0.9956 - val_loss: 0.2863 - val_accuracy: 0.9491\n",
      "Epoch 41/50\n",
      "270/270 [==============================] - ETA: 0s - loss: 0.0393 - accuracy: 0.9919\n",
      "Epoch 41: val_loss did not improve from 0.07127\n",
      "270/270 [==============================] - 98s 361ms/step - loss: 0.0393 - accuracy: 0.9919 - val_loss: 0.2857 - val_accuracy: 0.9537\n",
      "Epoch 42/50\n",
      "270/270 [==============================] - ETA: 0s - loss: 0.0468 - accuracy: 0.9880\n",
      "Epoch 42: val_loss did not improve from 0.07127\n",
      "270/270 [==============================] - 98s 363ms/step - loss: 0.0468 - accuracy: 0.9880 - val_loss: 0.3742 - val_accuracy: 0.9306\n",
      "Epoch 43/50\n",
      "270/270 [==============================] - ETA: 0s - loss: 0.0257 - accuracy: 0.9961\n",
      "Epoch 43: val_loss did not improve from 0.07127\n",
      "270/270 [==============================] - 98s 362ms/step - loss: 0.0257 - accuracy: 0.9961 - val_loss: 0.4623 - val_accuracy: 0.9602\n",
      "Epoch 44/50\n",
      "270/270 [==============================] - ETA: 0s - loss: 0.0266 - accuracy: 0.9949\n",
      "Epoch 44: val_loss did not improve from 0.07127\n",
      "270/270 [==============================] - 96s 357ms/step - loss: 0.0266 - accuracy: 0.9949 - val_loss: 0.3489 - val_accuracy: 0.9481\n",
      "Epoch 45/50\n",
      "270/270 [==============================] - ETA: 0s - loss: 0.0440 - accuracy: 0.9910\n",
      "Epoch 45: val_loss did not improve from 0.07127\n",
      "270/270 [==============================] - 97s 360ms/step - loss: 0.0440 - accuracy: 0.9910 - val_loss: 0.3552 - val_accuracy: 0.9417\n",
      "Epoch 46/50\n",
      "270/270 [==============================] - ETA: 0s - loss: 0.0302 - accuracy: 0.9947\n",
      "Epoch 46: val_loss did not improve from 0.07127\n",
      "270/270 [==============================] - 100s 368ms/step - loss: 0.0302 - accuracy: 0.9947 - val_loss: 0.4688 - val_accuracy: 0.9509\n",
      "Epoch 47/50\n",
      "270/270 [==============================] - ETA: 0s - loss: 0.0667 - accuracy: 0.9882\n",
      "Epoch 47: val_loss did not improve from 0.07127\n",
      "270/270 [==============================] - 98s 362ms/step - loss: 0.0667 - accuracy: 0.9882 - val_loss: 0.1661 - val_accuracy: 0.9509\n",
      "Epoch 48/50\n",
      "270/270 [==============================] - ETA: 0s - loss: 0.0275 - accuracy: 0.9958\n",
      "Epoch 48: val_loss did not improve from 0.07127\n",
      "270/270 [==============================] - 102s 379ms/step - loss: 0.0275 - accuracy: 0.9958 - val_loss: 0.2378 - val_accuracy: 0.9704\n",
      "Epoch 49/50\n",
      "152/270 [===============>..............] - ETA: 36s - loss: 0.0266 - accuracy: 0.9942"
     ]
    }
   ],
   "source": [
    "history=cnn.fit(training_set,\n",
    "                batch_size=BATCH_SIZE,\n",
    "                epochs=50,\n",
    "                validation_data=validation_set,\n",
    "                callbacks=[checkpointer])"
   ]
  },
  {
   "cell_type": "code",
   "execution_count": 18,
   "metadata": {
    "colab": {
     "base_uri": "https://localhost:8080/",
     "height": 295
    },
    "executionInfo": {
     "elapsed": 1733,
     "status": "ok",
     "timestamp": 1648271525504,
     "user": {
      "displayName": "16_038 Niloy Banik",
      "photoUrl": "https://lh3.googleusercontent.com/a-/AOh14GgRGQZD8Tl4xOLCNeLcfxfcPprIAW7QZ1CwfRM8=s64",
      "userId": "08142048259396518017"
     },
     "user_tz": -360
    },
    "id": "4B4Pin8tUO0e",
    "outputId": "b85c34a2-c0c6-4891-b483-63a7296fb956"
   },
   "outputs": [
    {
     "data": {
      "image/png": "[encoded data removed]",
      "text/plain": [
       "<Figure size 432x288 with 1 Axes>"
      ]
     },
     "metadata": {
      "needs_background": "light"
     },
     "output_type": "display_data"
    }
   ],
   "source": [
    "plt.xlabel('epochs')\n",
    "plt.ylabel('accuracy')\n",
    "plt.title('Training accuracy graph')\n",
    "plt.plot(history.history['accuracy'],label='accuracy')\n",
    "plt.plot(history.history['val_accuracy'],label='val_accuracy')\n",
    "plt.legend()\n",
    "plt.show()"
   ]
  },
  {
   "cell_type": "code",
   "execution_count": 19,
   "metadata": {
    "colab": {
     "base_uri": "https://localhost:8080/",
     "height": 295
    },
    "executionInfo": {
     "elapsed": 694,
     "status": "ok",
     "timestamp": 1648271533896,
     "user": {
      "displayName": "16_038 Niloy Banik",
      "photoUrl": "https://lh3.googleusercontent.com/a-/AOh14GgRGQZD8Tl4xOLCNeLcfxfcPprIAW7QZ1CwfRM8=s64",
      "userId": "08142048259396518017"
     },
     "user_tz": -360
    },
    "id": "hVMTyjZEQAZa",
    "outputId": "08fc4474-41c6-44c6-c4f5-811c0489abbe"
   },
   "outputs": [
    {
     "data": {
      "image/png": "[encoded data removed]",
      "text/plain": [
       "<Figure size 432x288 with 1 Axes>"
      ]
     },
     "metadata": {
      "needs_background": "light"
     },
     "output_type": "display_data"
    }
   ],
   "source": [
    "plt.xlabel('epochs')\n",
    "plt.ylabel('loss')\n",
    "plt.title('Loss training graph')\n",
    "plt.plot(history.history['loss'],label='loss')\n",
    "plt.plot(history.history['val_loss'],label='val_loss')\n",
    "plt.legend()\n",
    "plt.show()"
   ]
  },
  {
   "cell_type": "code",
   "execution_count": 20,
   "metadata": {
    "colab": {
     "base_uri": "https://localhost:8080/"
    },
    "executionInfo": {
     "elapsed": 135343,
     "status": "ok",
     "timestamp": 1648271675268,
     "user": {
      "displayName": "16_038 Niloy Banik",
      "photoUrl": "https://lh3.googleusercontent.com/a-/AOh14GgRGQZD8Tl4xOLCNeLcfxfcPprIAW7QZ1CwfRM8=s64",
      "userId": "08142048259396518017"
     },
     "user_tz": -360
    },
    "id": "tnZYCChiUO3H",
    "outputId": "3c2e6164-3aad-44d1-be69-1a98aa4a1d41"
   },
   "outputs": [
    {
     "name": "stdout",
     "output_type": "stream",
     "text": [
      "36/36 [==============================] - 131s 4s/step - loss: 0.5429 - accuracy: 0.9304\n",
      "Test Loss:  0.5428751707077026\n",
      "Test Accuracy:  0.9304347634315491\n"
     ]
    }
   ],
   "source": [
    "test_loss,test_accuracy=cnn.evaluate(test_set)\n",
    "print('Test Loss: ',test_loss)\n",
    "print('Test Accuracy: ',test_accuracy)"
   ]
  },
  {
   "cell_type": "code",
   "execution_count": 21,
   "metadata": {
    "colab": {
     "base_uri": "https://localhost:8080/"
    },
    "executionInfo": {
     "elapsed": 661,
     "status": "ok",
     "timestamp": 1648271728009,
     "user": {
      "displayName": "16_038 Niloy Banik",
      "photoUrl": "https://lh3.googleusercontent.com/a-/AOh14GgRGQZD8Tl4xOLCNeLcfxfcPprIAW7QZ1CwfRM8=s64",
      "userId": "08142048259396518017"
     },
     "user_tz": -360
    },
    "id": "C0U_V3SkUO5t",
    "outputId": "794f33d9-3cf6-4b69-e504-15090b72776a"
   },
   "outputs": [
    {
     "name": "stdout",
     "output_type": "stream",
     "text": [
      "Accuracy of the model is :  93.04347634315491\n"
     ]
    }
   ],
   "source": [
    "print('Accuracy of the model is : ',test_accuracy*100)"
   ]
  },
  {
   "cell_type": "code",
   "execution_count": 22,
   "metadata": {
    "colab": {
     "base_uri": "https://localhost:8080/"
    },
    "executionInfo": {
     "elapsed": 5244,
     "status": "ok",
     "timestamp": 1648271736459,
     "user": {
      "displayName": "16_038 Niloy Banik",
      "photoUrl": "https://lh3.googleusercontent.com/a-/AOh14GgRGQZD8Tl4xOLCNeLcfxfcPprIAW7QZ1CwfRM8=s64",
      "userId": "08142048259396518017"
     },
     "user_tz": -360
    },
    "id": "PN7YlWtyUO8I",
    "outputId": "4b2f32db-b3b4-4a0e-ef77-8246208d5ab3"
   },
   "outputs": [
    {
     "data": {
      "text/plain": [
       "array([[1.00000000e+00, 2.81519497e-09, 3.03114711e-13, 1.91854518e-12,\n",
       "        4.79752651e-14, 6.12047847e-14, 8.85958092e-15, 6.66377164e-13,\n",
       "        1.07680469e-14],\n",
       "       [1.00000000e+00, 4.67748285e-09, 3.25101443e-14, 3.51261961e-13,\n",
       "        2.34115773e-14, 3.16668621e-14, 4.14322482e-15, 2.23190512e-13,\n",
       "        8.19233495e-15],\n",
       "       [1.00000000e+00, 5.43222933e-09, 4.50748651e-14, 4.82676236e-13,\n",
       "        2.70154179e-14, 3.59129027e-14, 4.67708469e-15, 2.54898858e-13,\n",
       "        9.45161206e-15],\n",
       "       [1.00000000e+00, 4.49337723e-09, 4.05706488e-14, 4.43759829e-13,\n",
       "        2.33508383e-14, 3.25778019e-14, 3.98608157e-15, 2.41048636e-13,\n",
       "        8.24525757e-15],\n",
       "       [9.99998450e-01, 1.52320047e-06, 7.97414046e-09, 3.37098918e-08,\n",
       "        6.55038468e-09, 1.25139685e-08, 2.11966578e-09, 1.44983607e-08,\n",
       "        8.89491414e-09]], dtype=float32)"
      ]
     },
     "execution_count": 22,
     "metadata": {},
     "output_type": "execute_result"
    }
   ],
   "source": [
    "predicted_result=cnn.predict(test_set)\n",
    "predicted_result[:5]"
   ]
  },
  {
   "cell_type": "code",
   "execution_count": 23,
   "metadata": {
    "colab": {
     "base_uri": "https://localhost:8080/"
    },
    "executionInfo": {
     "elapsed": 549,
     "status": "ok",
     "timestamp": 1648271740387,
     "user": {
      "displayName": "16_038 Niloy Banik",
      "photoUrl": "https://lh3.googleusercontent.com/a-/AOh14GgRGQZD8Tl4xOLCNeLcfxfcPprIAW7QZ1CwfRM8=s64",
      "userId": "08142048259396518017"
     },
     "user_tz": -360
    },
    "id": "q-abhCIfUPAI",
    "outputId": "0d56b8b8-545f-40f4-945f-4ad70b8cf89f"
   },
   "outputs": [
    {
     "data": {
      "text/plain": [
       "array([0, 0, 0, 0, 0])"
      ]
     },
     "execution_count": 23,
     "metadata": {},
     "output_type": "execute_result"
    }
   ],
   "source": [
    "predicted_class=np.argmax(predicted_result,axis=-1)\n",
    "predicted_class[:5]"
   ]
  },
  {
   "cell_type": "code",
   "execution_count": 24,
   "metadata": {
    "colab": {
     "base_uri": "https://localhost:8080/"
    },
    "executionInfo": {
     "elapsed": 536,
     "status": "ok",
     "timestamp": 1648271743907,
     "user": {
      "displayName": "16_038 Niloy Banik",
      "photoUrl": "https://lh3.googleusercontent.com/a-/AOh14GgRGQZD8Tl4xOLCNeLcfxfcPprIAW7QZ1CwfRM8=s64",
      "userId": "08142048259396518017"
     },
     "user_tz": -360
    },
    "id": "PZpnhkZaUPG-",
    "outputId": "58888899-7ff8-4d33-c845-e536c6e4aabe"
   },
   "outputs": [
    {
     "data": {
      "text/plain": [
       "array([0, 0, 0, 0, 0, 0, 0, 0, 0, 0, 0, 0, 0, 0, 0, 0, 0, 0, 0, 0, 0, 0,\n",
       "       0, 0, 0, 0, 0, 0, 0, 0, 0, 0, 0, 0, 0, 0, 0, 0, 0, 0, 0, 0, 0, 0,\n",
       "       0, 0, 0, 0, 0, 0, 0, 0, 0, 0, 0, 0, 0, 0, 0, 0, 0, 0, 0, 0, 0, 0,\n",
       "       0, 0, 0, 0, 0, 0, 1, 1, 1, 1, 1, 1, 1, 1, 1, 1, 1, 1, 1, 1, 1, 1,\n",
       "       1, 1, 1, 1, 1, 1, 1, 1, 1, 1, 1, 1, 1, 1, 1, 1, 1, 1, 1, 1, 1, 1,\n",
       "       1, 1, 1, 1, 1, 1, 1, 1, 1, 1, 1, 1, 1, 1, 1, 1, 1, 1, 1, 1, 1, 1,\n",
       "       2, 2, 2, 2, 2, 2, 2, 2, 2, 2, 2, 2, 2, 2, 2, 2, 2, 2, 2, 2, 2, 2,\n",
       "       2, 2, 2, 2, 2, 2, 2, 2, 2, 2, 2, 2, 2, 2, 2, 2, 2, 2, 2, 2, 2, 2,\n",
       "       2, 2, 2, 2, 2, 2, 2, 2, 2, 2, 2, 2, 2, 2, 2, 2, 3, 3, 3, 3, 3, 3,\n",
       "       3, 3, 3, 3, 3, 3, 3, 3, 3, 3, 3, 3, 3, 3, 3, 3, 3, 3, 3, 3, 3, 3,\n",
       "       3, 3, 3, 3, 3, 3, 3, 3, 3, 3, 3, 3, 3, 3, 3, 3, 3, 3, 3, 3, 3, 3,\n",
       "       3, 3, 3, 3, 3, 3, 3, 3, 3, 3, 4, 4, 4, 4, 4, 4, 4, 4, 4, 4, 4, 4,\n",
       "       4, 4, 4, 4, 4, 4, 4, 4, 4, 4, 4, 4, 4, 4, 4, 4, 4, 4, 4, 4, 4, 4,\n",
       "       4, 4, 4, 4, 4, 4, 4, 4, 4, 4, 4, 4, 4, 4, 4, 4, 4, 4, 4, 4, 4, 4,\n",
       "       4, 4, 4, 4, 5, 5, 5, 5, 5, 5, 5, 5, 5, 5, 5, 5, 5, 5, 5, 5, 5, 5,\n",
       "       5, 5, 5, 5, 5, 5, 5, 5, 5, 5, 5, 5, 5, 5, 5, 5, 5, 5, 5, 5, 5, 5,\n",
       "       5, 5, 5, 5, 5, 5, 5, 5, 5, 5, 5, 5, 5, 5, 5, 5, 5, 5, 5, 5, 5, 5,\n",
       "       5, 5, 5, 5, 5, 5, 5, 5, 5, 5, 6, 6, 6, 6, 6, 6, 6, 6, 6, 6, 6, 6,\n",
       "       6, 6, 6, 6, 6, 6, 6, 6, 6, 6, 6, 6, 6, 6, 6, 6, 6, 6, 6, 6, 6, 6,\n",
       "       6, 6, 6, 6, 6, 6, 6, 6, 6, 6, 6, 6, 6, 7, 7, 7, 7, 7, 7, 7, 7, 7,\n",
       "       7, 7, 7, 7, 7, 7, 7, 7, 7, 7, 7, 7, 7, 7, 7, 7, 7, 7, 7, 7, 7, 7,\n",
       "       7, 7, 7, 7, 7, 7, 7, 7, 7, 7, 7, 7, 7, 7, 7, 7, 7, 7, 7, 7, 7, 7,\n",
       "       7, 7, 7, 7, 7, 7, 7, 7, 7, 7, 7, 7, 7, 7, 7, 7, 7, 7, 7, 8, 8, 8,\n",
       "       8, 8, 8, 8, 8, 8, 8, 8, 8, 8, 8, 8, 8, 8, 8, 8, 8, 8, 8, 8, 8, 8,\n",
       "       8, 8, 8, 8, 8, 8, 8, 8, 8, 8, 8, 8, 8, 8, 8, 8, 8, 8, 8, 8, 8, 8,\n",
       "       8, 8, 8, 8, 8, 8, 8, 8, 8, 8, 8, 8, 8, 8, 8, 8, 8, 8, 8, 8, 8, 8,\n",
       "       8, 8, 8], dtype=int32)"
      ]
     },
     "execution_count": 24,
     "metadata": {},
     "output_type": "execute_result"
    }
   ],
   "source": [
    "test_classes=test_set.classes\n",
    "test_classes"
   ]
  },
  {
   "cell_type": "code",
   "execution_count": 25,
   "metadata": {
    "colab": {
     "base_uri": "https://localhost:8080/"
    },
    "executionInfo": {
     "elapsed": 563,
     "status": "ok",
     "timestamp": 1648271749919,
     "user": {
      "displayName": "16_038 Niloy Banik",
      "photoUrl": "https://lh3.googleusercontent.com/a-/AOh14GgRGQZD8Tl4xOLCNeLcfxfcPprIAW7QZ1CwfRM8=s64",
      "userId": "08142048259396518017"
     },
     "user_tz": -360
    },
    "id": "kXP7M-d1Q2A_",
    "outputId": "118c587e-8ffc-42aa-e6e1-434468434e72"
   },
   "outputs": [
    {
     "name": "stdout",
     "output_type": "stream",
     "text": [
      "[[72  0  0  0  0  0  0  0  0]\n",
      " [ 0 60  0  0  0  0  0  0  0]\n",
      " [ 0  0 60  0  0  0  0  0  0]\n",
      " [ 0  0  0 60  0  0  0  0  0]\n",
      " [ 0  0  0  0 60  0  0  0  0]\n",
      " [ 0  0  0 29  0 38  0  0  5]\n",
      " [ 0  0  0  0  0  0 47  0  0]\n",
      " [ 0  0  5  0  1  0  0 66  0]\n",
      " [ 0  0  0  0  0  0  0  0 72]]\n"
     ]
    }
   ],
   "source": [
    "from sklearn.metrics import confusion_matrix\n",
    "cm=confusion_matrix(test_classes,predicted_class)\n",
    "print(cm)"
   ]
  },
  {
   "cell_type": "code",
   "execution_count": 26,
   "metadata": {
    "colab": {
     "base_uri": "https://localhost:8080/",
     "height": 290
    },
    "executionInfo": {
     "elapsed": 2243,
     "status": "ok",
     "timestamp": 1648271758723,
     "user": {
      "displayName": "16_038 Niloy Banik",
      "photoUrl": "https://lh3.googleusercontent.com/a-/AOh14GgRGQZD8Tl4xOLCNeLcfxfcPprIAW7QZ1CwfRM8=s64",
      "userId": "08142048259396518017"
     },
     "user_tz": -360
    },
    "id": "XAtQoNU9Q2iY",
    "outputId": "d07610fb-9411-44df-e89c-da07e44424eb"
   },
   "outputs": [
    {
     "data": {
      "text/plain": [
       "<matplotlib.axes._subplots.AxesSubplot at 0x7f8bbea63d10>"
      ]
     },
     "execution_count": 26,
     "metadata": {},
     "output_type": "execute_result"
    },
    {
     "data": {
      "image/png": "[encoded data removed]",
      "text/plain": [
       "<Figure size 432x288 with 2 Axes>"
      ]
     },
     "metadata": {},
     "output_type": "display_data"
    }
   ],
   "source": [
    "import seaborn as sns\n",
    "sns.set(font_scale=1.4)\n",
    "sns.heatmap(cm, annot=True,fmt='d',cmap=\"Blues\")"
   ]
  },
  {
   "cell_type": "code",
   "execution_count": 27,
   "metadata": {
    "colab": {
     "base_uri": "https://localhost:8080/"
    },
    "executionInfo": {
     "elapsed": 1298,
     "status": "ok",
     "timestamp": 1648271765455,
     "user": {
      "displayName": "16_038 Niloy Banik",
      "photoUrl": "https://lh3.googleusercontent.com/a-/AOh14GgRGQZD8Tl4xOLCNeLcfxfcPprIAW7QZ1CwfRM8=s64",
      "userId": "08142048259396518017"
     },
     "user_tz": -360
    },
    "id": "kCnmzaQGQ91e",
    "outputId": "5d4c03bc-05f9-4339-edfc-d494ddc93ed6"
   },
   "outputs": [
    {
     "name": "stdout",
     "output_type": "stream",
     "text": [
      "Accuracy score:  0.9304347826086956\n"
     ]
    }
   ],
   "source": [
    "from sklearn.metrics import accuracy_score\n",
    "print('Accuracy score: ',accuracy_score(test_classes,predicted_class))"
   ]
  },
  {
   "cell_type": "code",
   "execution_count": 28,
   "metadata": {
    "colab": {
     "base_uri": "https://localhost:8080/"
    },
    "executionInfo": {
     "elapsed": 794,
     "status": "ok",
     "timestamp": 1648271770884,
     "user": {
      "displayName": "16_038 Niloy Banik",
      "photoUrl": "https://lh3.googleusercontent.com/a-/AOh14GgRGQZD8Tl4xOLCNeLcfxfcPprIAW7QZ1CwfRM8=s64",
      "userId": "08142048259396518017"
     },
     "user_tz": -360
    },
    "id": "DjKVOcgsQ-sS",
    "outputId": "30294d16-fe13-4d81-face-5f4cae8741ac"
   },
   "outputs": [
    {
     "name": "stdout",
     "output_type": "stream",
     "text": [
      "Classification Report \n",
      "               precision    recall  f1-score   support\n",
      "\n",
      "           0       1.00      1.00      1.00        72\n",
      "           1       1.00      1.00      1.00        60\n",
      "           2       0.92      1.00      0.96        60\n",
      "           3       0.67      1.00      0.81        60\n",
      "           4       0.98      1.00      0.99        60\n",
      "           5       1.00      0.53      0.69        72\n",
      "           6       1.00      1.00      1.00        47\n",
      "           7       1.00      0.92      0.96        72\n",
      "           8       0.94      1.00      0.97        72\n",
      "\n",
      "    accuracy                           0.93       575\n",
      "   macro avg       0.95      0.94      0.93       575\n",
      "weighted avg       0.95      0.93      0.93       575\n",
      "\n"
     ]
    }
   ],
   "source": [
    "from sklearn.metrics import classification_report\n",
    "print('Classification Report \\n',classification_report(test_classes,predicted_class))"
   ]
  },
  {
   "cell_type": "code",
   "execution_count": 29,
   "metadata": {
    "colab": {
     "base_uri": "https://localhost:8080/"
    },
    "executionInfo": {
     "elapsed": 655,
     "status": "ok",
     "timestamp": 1648271801945,
     "user": {
      "displayName": "16_038 Niloy Banik",
      "photoUrl": "https://lh3.googleusercontent.com/a-/AOh14GgRGQZD8Tl4xOLCNeLcfxfcPprIAW7QZ1CwfRM8=s64",
      "userId": "08142048259396518017"
     },
     "user_tz": -360
    },
    "id": "dx_EHs7NRBLD",
    "outputId": "d482db92-105a-4da5-9772-24c069ac3b6c"
   },
   "outputs": [
    {
     "name": "stdout",
     "output_type": "stream",
     "text": [
      "/content/drive/MyDrive/Model/SVM_Model_1_CNN2.h5\n"
     ]
    }
   ],
   "source": [
    "\n",
    "export_path_keras = \"/content/drive/MyDrive/Model/SVM_Model_1_CNN2.h5\"\n",
    "print(export_path_keras)\n",
    "cnn.save(export_path_keras)"
   ]
  },
  {
   "cell_type": "code",
   "execution_count": null,
   "metadata": {
    "id": "H0NVDQpRRBWg"
   },
   "outputs": [],
   "source": []
  },
  {
   "cell_type": "code",
   "execution_count": null,
   "metadata": {
    "colab": {
     "base_uri": "https://localhost:8080/"
    },
    "executionInfo": {
     "elapsed": 35669,
     "status": "ok",
     "timestamp": 1648009274215,
     "user": {
      "displayName": "16_038 Niloy Banik",
      "photoUrl": "https://lh3.googleusercontent.com/a-/AOh14GgRGQZD8Tl4xOLCNeLcfxfcPprIAW7QZ1CwfRM8=s64",
      "userId": "08142048259396518017"
     },
     "user_tz": -360
    },
    "id": "rrqL0hOEAN2c",
    "outputId": "a5926871-0b2c-46cd-efaf-386e8cf3fc1d"
   },
   "outputs": [
    {
     "name": "stdout",
     "output_type": "stream",
     "text": [
      "Mounted at /content/drive\n"
     ]
    }
   ],
   "source": [
    "from google.colab import drive\n",
    "drive.mount('/content/drive')"
   ]
  },
  {
   "cell_type": "code",
   "execution_count": 5,
   "metadata": {
    "executionInfo": {
     "elapsed": 665,
     "status": "ok",
     "timestamp": 1648271820807,
     "user": {
      "displayName": "16_038 Niloy Banik",
      "photoUrl": "https://lh3.googleusercontent.com/a-/AOh14GgRGQZD8Tl4xOLCNeLcfxfcPprIAW7QZ1CwfRM8=s64",
      "userId": "08142048259396518017"
     },
     "user_tz": -360
    },
    "id": "hdROOk9OwzMX"
   },
   "outputs": [],
   "source": [
    "import os\n",
    "import numpy as np\n",
    "import matplotlib.pyplot as plt\n",
    "import random\n",
    "import cv2\n",
    "import pyttsx3 \n",
    "import PIL\n",
    "import glob\n",
    "import tensorflow as tf\n",
    "from tensorflow import keras\n",
    "from tensorflow.keras import layers\n",
    "from keras.preprocessing.image import ImageDataGenerator\n",
    "from tensorflow.keras.models import load_model\n",
    "from tensorflow.keras.preprocessing import image"
   ]
  },
  {
   "cell_type": "code",
   "execution_count": 6,
   "metadata": {
    "colab": {
     "base_uri": "https://localhost:8080/"
    },
    "executionInfo": {
     "elapsed": 1756,
     "status": "ok",
     "timestamp": 1648271825416,
     "user": {
      "displayName": "16_038 Niloy Banik",
      "photoUrl": "https://lh3.googleusercontent.com/a-/AOh14GgRGQZD8Tl4xOLCNeLcfxfcPprIAW7QZ1CwfRM8=s64",
      "userId": "08142048259396518017"
     },
     "user_tz": -360
    },
    "id": "vBf0oKGxRBeI",
    "outputId": "950a37e2-0ab1-4a58-f042-e33440332899"
   },
   "outputs": [
    {
     "name": "stdout",
     "output_type": "stream",
     "text": [
      "Final Thesis/Saved Model/2.SVM_with_CNN2.h5\n",
      "Model: \"sequential\"\n",
      "_________________________________________________________________\n",
      "Layer (type)                 Output Shape              Param #   \n",
      "=================================================================\n",
      "conv2d (Conv2D)              (None, 224, 224, 256)     7168      \n",
      "_________________________________________________________________\n",
      "max_pooling2d (MaxPooling2D) (None, 112, 112, 256)     0         \n",
      "_________________________________________________________________\n",
      "conv2d_1 (Conv2D)            (None, 112, 112, 128)     295040    \n",
      "_________________________________________________________________\n",
      "max_pooling2d_1 (MaxPooling2 (None, 56, 56, 128)       0         \n",
      "_________________________________________________________________\n",
      "conv2d_2 (Conv2D)            (None, 56, 56, 64)        73792     \n",
      "_________________________________________________________________\n",
      "max_pooling2d_2 (MaxPooling2 (None, 28, 28, 64)        0         \n",
      "_________________________________________________________________\n",
      "conv2d_3 (Conv2D)            (None, 28, 28, 64)        36928     \n",
      "_________________________________________________________________\n",
      "max_pooling2d_3 (MaxPooling2 (None, 14, 14, 64)        0         \n",
      "_________________________________________________________________\n",
      "conv2d_4 (Conv2D)            (None, 14, 14, 32)        18464     \n",
      "_________________________________________________________________\n",
      "max_pooling2d_4 (MaxPooling2 (None, 7, 7, 32)          0         \n",
      "_________________________________________________________________\n",
      "conv2d_5 (Conv2D)            (None, 7, 7, 32)          9248      \n",
      "_________________________________________________________________\n",
      "max_pooling2d_5 (MaxPooling2 (None, 3, 3, 32)          0         \n",
      "_________________________________________________________________\n",
      "dropout (Dropout)            (None, 3, 3, 32)          0         \n",
      "_________________________________________________________________\n",
      "flatten (Flatten)            (None, 288)               0         \n",
      "_________________________________________________________________\n",
      "dense (Dense)                (None, 128)               36992     \n",
      "_________________________________________________________________\n",
      "dense_1 (Dense)              (None, 9)                 1161      \n",
      "=================================================================\n",
      "Total params: 478,793\n",
      "Trainable params: 478,793\n",
      "Non-trainable params: 0\n",
      "_________________________________________________________________\n"
     ]
    }
   ],
   "source": [
    "\n",
    "export_path_keras = \"Final Thesis/Saved Model/2.SVM_with_CNN2.h5\"\n",
    "print(export_path_keras)\n",
    "model_path=export_path_keras\n",
    "reload_model=load_model(model_path)\n",
    "reload_model.summary()"
   ]
  },
  {
   "cell_type": "code",
   "execution_count": 7,
   "metadata": {
    "colab": {
     "base_uri": "https://localhost:8080/"
    },
    "executionInfo": {
     "elapsed": 1081,
     "status": "ok",
     "timestamp": 1648271832605,
     "user": {
      "displayName": "16_038 Niloy Banik",
      "photoUrl": "https://lh3.googleusercontent.com/a-/AOh14GgRGQZD8Tl4xOLCNeLcfxfcPprIAW7QZ1CwfRM8=s64",
      "userId": "08142048259396518017"
     },
     "user_tz": -360
    },
    "id": "UJqDYjrDTUi2",
    "outputId": "9347066b-d79a-4469-fd6b-6bd25efd75a6"
   },
   "outputs": [
    {
     "name": "stdout",
     "output_type": "stream",
     "text": [
      "16\n",
      "(None, 9)\n"
     ]
    }
   ],
   "source": [
    "print(len(reload_model.weights))\n",
    "print(reload_model.output_shape)"
   ]
  },
  {
   "cell_type": "code",
   "execution_count": 4,
   "metadata": {
    "colab": {
     "base_uri": "https://localhost:8080/"
    },
    "executionInfo": {
     "elapsed": 1691,
     "status": "ok",
     "timestamp": 1648271837493,
     "user": {
      "displayName": "16_038 Niloy Banik",
      "photoUrl": "https://lh3.googleusercontent.com/a-/AOh14GgRGQZD8Tl4xOLCNeLcfxfcPprIAW7QZ1CwfRM8=s64",
      "userId": "08142048259396518017"
     },
     "user_tz": -360
    },
    "id": "fR6QcXeBTUv5",
    "outputId": "de7cf68f-1ad9-4661-b964-d7403ee2195c"
   },
   "outputs": [
    {
     "data": {
      "text/plain": [
       "[<keras.layers.convolutional.Conv2D at 0x14d4d5847f0>,\n",
       " <keras.layers.pooling.MaxPooling2D at 0x14d4d5ff208>,\n",
       " <keras.layers.convolutional.Conv2D at 0x14d4bb23518>,\n",
       " <keras.layers.pooling.MaxPooling2D at 0x14d4d5ffe10>,\n",
       " <keras.layers.convolutional.Conv2D at 0x14d4d643a58>,\n",
       " <keras.layers.pooling.MaxPooling2D at 0x14d4d5ffac8>,\n",
       " <keras.layers.convolutional.Conv2D at 0x14d4d65f390>,\n",
       " <keras.layers.pooling.MaxPooling2D at 0x14d4d697320>,\n",
       " <keras.layers.convolutional.Conv2D at 0x14d4d657eb8>,\n",
       " <keras.layers.pooling.MaxPooling2D at 0x14d4d697860>,\n",
       " <keras.layers.convolutional.Conv2D at 0x14d4d69d5f8>,\n",
       " <keras.layers.pooling.MaxPooling2D at 0x14d4d69d128>,\n",
       " <keras.layers.core.Dropout at 0x14d4d657908>,\n",
       " <keras.layers.core.Flatten at 0x14d4d6a3828>,\n",
       " <keras.layers.core.Dense at 0x14d4d6a3cf8>,\n",
       " <keras.layers.core.Dense at 0x14d4d6b14a8>]"
      ]
     },
     "execution_count": 4,
     "metadata": {},
     "output_type": "execute_result"
    }
   ],
   "source": [
    "reload_model.layers"
   ]
  },
  {
   "cell_type": "code",
   "execution_count": null,
   "metadata": {
    "colab": {
     "base_uri": "https://localhost:8080/"
    },
    "executionInfo": {
     "elapsed": 28949,
     "status": "ok",
     "timestamp": 1648229633499,
     "user": {
      "displayName": "16_038 Niloy Banik",
      "photoUrl": "https://lh3.googleusercontent.com/a-/AOh14GgRGQZD8Tl4xOLCNeLcfxfcPprIAW7QZ1CwfRM8=s64",
      "userId": "08142048259396518017"
     },
     "user_tz": -360
    },
    "id": "8aFH32ZWwUTO",
    "outputId": "e91b80e6-6b7a-4819-d7b5-c4be2aea3bee"
   },
   "outputs": [
    {
     "name": "stdout",
     "output_type": "stream",
     "text": [
      "Mounted at /content/drive\n"
     ]
    }
   ],
   "source": [
    "from google.colab import drive\n",
    "drive.mount('/content/drive')"
   ]
  },
  {
   "cell_type": "code",
   "execution_count": null,
   "metadata": {
    "id": "L4Hp475NwUYB"
   },
   "outputs": [],
   "source": []
  },
  {
   "cell_type": "code",
   "execution_count": 8,
   "metadata": {
    "id": "pYI5gcrkW9I6"
   },
   "outputs": [],
   "source": [
    "def noteclass(cls):\n",
    "    txt=pyttsx3.init()\n",
    "    if cls==0:\n",
    "        ans=\"Two Taka\"\n",
    "        print(ans)\n",
    "        txt.say(ans)\n",
    "        txt.runAndWait()\n",
    "    elif cls==1:\n",
    "        ans=\"Five Taka\"\n",
    "        print(ans)\n",
    "        txt.say(ans)\n",
    "        txt.runAndWait()\n",
    "    elif cls==2:\n",
    "        ans=\"Ten Taka\"\n",
    "        print(ans)\n",
    "        txt.say(ans)\n",
    "        txt.runAndWait()\n",
    "    elif cls==3:\n",
    "        ans=\"Twenty Taka\"\n",
    "        print(ans)\n",
    "        txt.say(ans)\n",
    "       # txt.runAndWait()\n",
    "    elif cls==4:\n",
    "        ans=\"Fifty Taka\"\n",
    "        print(ans)\n",
    "        txt.say(ans)\n",
    "        txt.runAndWait()\n",
    "    elif cls==5:\n",
    "        ans=\"One Hundred Taka\"\n",
    "        print(ans)\n",
    "        txt.say(ans)\n",
    "        txt.runAndWait()\n",
    "    elif cls==6:\n",
    "        ans=\"Two Hundred Taka\"\n",
    "        print(ans)\n",
    "        txt.say(ans)\n",
    "        txt.runAndWait()\n",
    "    elif cls==7:\n",
    "        ans=\"Five Hundred Taka\"\n",
    "        print(ans)\n",
    "        txt.say(ans)\n",
    "        txt.runAndWait()\n",
    "    else:\n",
    "        ans=\"One Thousand Taka\"\n",
    "        print(ans)\n",
    "        txt.say(ans)\n",
    "        txt.runAndWait()\n",
    "    "
   ]
  },
  {
   "cell_type": "code",
   "execution_count": 9,
   "metadata": {
    "colab": {
     "base_uri": "https://localhost:8080/",
     "height": 347
    },
    "executionInfo": {
     "elapsed": 2567,
     "status": "ok",
     "timestamp": 1648271845880,
     "user": {
      "displayName": "16_038 Niloy Banik",
      "photoUrl": "https://lh3.googleusercontent.com/a-/AOh14GgRGQZD8Tl4xOLCNeLcfxfcPprIAW7QZ1CwfRM8=s64",
      "userId": "08142048259396518017"
     },
     "user_tz": -360
    },
    "id": "N8VUoRsCTU5U",
    "outputId": "ea03de07-fe4c-4631-f60c-079571bc8d30"
   },
   "outputs": [
    {
     "name": "stdout",
     "output_type": "stream",
     "text": [
      "One Hundred Taka\n"
     ]
    },
    {
     "data": {
      "image/png": "[encoded data removed]",
      "text/plain": [
       "<Figure size 432x288 with 1 Axes>"
      ]
     },
     "metadata": {
      "needs_background": "light"
     },
     "output_type": "display_data"
    }
   ],
   "source": [
    "random_image=image.load_img('E:/AThesis/anotation/anotated img/5/new680.png',target_size=(224,224))\n",
    "plt.imshow(random_image)\n",
    "random_image=image.img_to_array(random_image)\n",
    "test_image=random_image.reshape((1,)+random_image.shape)\n",
    "test_image=test_image/255.0\n",
    "#print(test_image.shape)\n",
    "predicted_class=reload_model.predict(test_image)\n",
    "#print(predicted_class)\n",
    "#print('True classification')\n",
    "noteclass(np.argmax(predicted_class))"
   ]
  },
  {
   "cell_type": "code",
   "execution_count": null,
   "metadata": {},
   "outputs": [],
   "source": [
    "2.SVM_with_CNN2.h5"
   ]
  },
  {
   "cell_type": "code",
   "execution_count": null,
   "metadata": {},
   "outputs": [],
   "source": []
  },
  {
   "cell_type": "code",
   "execution_count": null,
   "metadata": {},
   "outputs": [],
   "source": []
  },
  {
   "cell_type": "code",
   "execution_count": null,
   "metadata": {},
   "outputs": [],
   "source": []
  }
 ],
 "metadata": {
  "accelerator": "GPU",
  "colab": {
   "collapsed_sections": [],
   "machine_shape": "hm",
   "name": "Copy of Model_1_CNN2.ipynb",
   "provenance": [
    {
     "file_id": "1SCLLTgyxlPkW4dTLpdN6QoFaAqQUxu5L",
     "timestamp": 1648229879685
    },
    {
     "file_id": "1GqZu6zmCy2vMNMZqO78DDuHvwv_9vJcp",
     "timestamp": 1647091002952
    },
    {
     "file_id": "1IzPbxNFQmmSYk9s14L4YjBfUgACn9mW2",
     "timestamp": 1593978024316
    },
    {
     "file_id": "1G7NKeneJNyRtcRxLVbbF9jYtRyuTOa-R",
     "timestamp": 1592749700622
    },
    {
     "file_id": "https://github.com/satyajitghana/TSAI-DeepVision-EVA4.0/blob/master/Utils/Colab_25GBRAM_GPU.ipynb",
     "timestamp": 1592043804148
    }
   ]
  },
  "kernelspec": {
   "display_name": "Python 3",
   "language": "python",
   "name": "python3"
  },
  "language_info": {
   "codemirror_mode": {
    "name": "ipython",
    "version": 3
   },
   "file_extension": ".py",
   "mimetype": "text/x-python",
   "name": "python",
   "nbconvert_exporter": "python",
   "pygments_lexer": "ipython3",
   "version": "3.6.13"
  }
 },
 "nbformat": 4,
 "nbformat_minor": 1
}
