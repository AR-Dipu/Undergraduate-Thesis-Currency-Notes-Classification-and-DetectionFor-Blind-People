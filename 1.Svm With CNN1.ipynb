{
 "cells": [
  {
   "cell_type": "code",
   "execution_count": null,
   "metadata": {
    "colab": {
     "base_uri": "https://localhost:8080/"
    },
    "executionInfo": {
     "elapsed": 5928,
     "status": "ok",
     "timestamp": 1647973156052,
     "user": {
      "displayName": "16_039 Sayeed Raihan",
      "photoUrl": "https://lh3.googleusercontent.com/a-/AOh14Gh_slAFe1ZLC_ZrMBYw_D5j6eTGGtCHsFQQUJLf=s64",
      "userId": "11081308100132767952"
     },
     "user_tz": -360
    },
    "id": "ZkBjHetCEdBD",
    "outputId": "93105685-377f-4460-fe72-e078eaa33ca6"
   },
   "outputs": [
    {
     "name": "stdout",
     "output_type": "stream",
     "text": [
      "Drive already mounted at /content/drive; to attempt to forcibly remount, call drive.mount(\"/content/drive\", force_remount=True).\n"
     ]
    }
   ],
   "source": [
    "from google.colab import drive\n",
    "drive.mount('/content/drive')"
   ]
  },
  {
   "cell_type": "code",
   "execution_count": null,
   "metadata": {
    "colab": {
     "base_uri": "https://localhost:8080/"
    },
    "executionInfo": {
     "elapsed": 15,
     "status": "ok",
     "timestamp": 1647973156053,
     "user": {
      "displayName": "16_039 Sayeed Raihan",
      "photoUrl": "https://lh3.googleusercontent.com/a-/AOh14Gh_slAFe1ZLC_ZrMBYw_D5j6eTGGtCHsFQQUJLf=s64",
      "userId": "11081308100132767952"
     },
     "user_tz": -360
    },
    "id": "p66K7dlPFUFh",
    "outputId": "933b86b5-c42f-46ee-9e5a-1c3bbe57c775"
   },
   "outputs": [
    {
     "name": "stdout",
     "output_type": "stream",
     "text": [
      "drive  sample_data\n"
     ]
    }
   ],
   "source": [
    "! ls"
   ]
  },
  {
   "cell_type": "code",
   "execution_count": 14,
   "metadata": {
    "id": "5kfP2ZG0F8r6"
   },
   "outputs": [],
   "source": [
    "import os\n",
    "import numpy as np\n",
    "import matplotlib.pyplot as plt\n",
    "import random\n",
    "import cv2\n",
    "import PIL\n",
    "import glob\n",
    "import tensorflow as tf\n",
    "from tensorflow import keras\n",
    "from tensorflow.keras import layers\n",
    "from keras.preprocessing.image import ImageDataGenerator"
   ]
  },
  {
   "cell_type": "code",
   "execution_count": 15,
   "metadata": {
    "id": "lbdFrECGF845"
   },
   "outputs": [],
   "source": [
    "ROOTPATH = 'E:/AThesis/Final'\n",
    "DATAPATH= ROOTPATH+'/training_set'\n",
    "TRAINPATH = ROOTPATH+'/training_set'\n",
    "TESTPATH =  ROOTPATH+'/testing_set'\n",
    "MODELPATH = ROOTPATH+'/model'"
   ]
  },
  {
   "cell_type": "code",
   "execution_count": 16,
   "metadata": {
    "id": "8aGYnhxkF9JJ"
   },
   "outputs": [],
   "source": [
    "two=glob.glob(DATAPATH+'/1.two/*.*')\n",
    "five=glob.glob(DATAPATH+'/2.five/*.*')\n",
    "ten=glob.glob(DATAPATH+'/3.ten/*.*')\n",
    "twenty=glob.glob(DATAPATH+'/4.twenty/*.*')\n",
    "fifty=glob.glob(DATAPATH+'/5.fifty/*.*')\n",
    "one_hundred=glob.glob(DATAPATH+'/6.one_hundred/*.*')\n",
    "two_hundred=glob.glob(DATAPATH+'/7.two_hundred/*.*')\n",
    "five_hundred=glob.glob(DATAPATH+'/8.five_hundred/*.*')\n",
    "one_thousand=glob.glob(DATAPATH+'/9.one_thousand/*.*')"
   ]
  },
  {
   "cell_type": "code",
   "execution_count": 17,
   "metadata": {
    "colab": {
     "base_uri": "https://localhost:8080/"
    },
    "executionInfo": {
     "elapsed": 25,
     "status": "ok",
     "timestamp": 1647973199999,
     "user": {
      "displayName": "16_039 Sayeed Raihan",
      "photoUrl": "https://lh3.googleusercontent.com/a-/AOh14Gh_slAFe1ZLC_ZrMBYw_D5j6eTGGtCHsFQQUJLf=s64",
      "userId": "11081308100132767952"
     },
     "user_tz": -360
    },
    "id": "3lk3Iv0XGgTZ",
    "outputId": "2d47afff-5691-426e-f91c-7fdcd85d6be2"
   },
   "outputs": [
    {
     "name": "stdout",
     "output_type": "stream",
     "text": [
      "two:  600\n",
      "five :  600\n",
      "ten:  600\n",
      "twenty:  600\n",
      "fifty:  600\n",
      "one_hundred:  600\n",
      "two_hundred:  600\n",
      "five_hundred:  600\n",
      "one_thousand:  600\n"
     ]
    }
   ],
   "source": [
    "print('two: ',len(two))\n",
    "print('five : ',len(five))\n",
    "print('ten: ',len(ten))\n",
    "print('twenty: ',len(twenty))\n",
    "print('fifty: ',len(fifty))\n",
    "print('one_hundred: ',len(one_hundred))\n",
    "print('two_hundred: ',len(two_hundred))\n",
    "print('five_hundred: ',len(five_hundred))\n",
    "print('one_thousand: ',len(one_thousand))"
   ]
  },
  {
   "cell_type": "code",
   "execution_count": 18,
   "metadata": {
    "colab": {
     "base_uri": "https://localhost:8080/"
    },
    "executionInfo": {
     "elapsed": 21,
     "status": "ok",
     "timestamp": 1647973200000,
     "user": {
      "displayName": "16_039 Sayeed Raihan",
      "photoUrl": "https://lh3.googleusercontent.com/a-/AOh14Gh_slAFe1ZLC_ZrMBYw_D5j6eTGGtCHsFQQUJLf=s64",
      "userId": "11081308100132767952"
     },
     "user_tz": -360
    },
    "id": "GrefcMWsGgeZ",
    "outputId": "a4e834c5-1acf-4f2f-9054-d4045b4154bc"
   },
   "outputs": [
    {
     "name": "stdout",
     "output_type": "stream",
     "text": [
      "Total dataset class:  9\n"
     ]
    }
   ],
   "source": [
    "dataset_classes=[two,five,ten,twenty,fifty,one_hundred,two_hundred,five_hundred,one_thousand]\n",
    "total_class=len(dataset_classes)\n",
    "print('Total dataset class: ',total_class)"
   ]
  },
  {
   "cell_type": "code",
   "execution_count": 19,
   "metadata": {
    "colab": {
     "base_uri": "https://localhost:8080/"
    },
    "executionInfo": {
     "elapsed": 18,
     "status": "ok",
     "timestamp": 1647973200000,
     "user": {
      "displayName": "16_039 Sayeed Raihan",
      "photoUrl": "https://lh3.googleusercontent.com/a-/AOh14Gh_slAFe1ZLC_ZrMBYw_D5j6eTGGtCHsFQQUJLf=s64",
      "userId": "11081308100132767952"
     },
     "user_tz": -360
    },
    "id": "88LbYIi6GgkB",
    "outputId": "1cb1241d-1b7f-4e13-a1e0-b1029421ee14"
   },
   "outputs": [
    {
     "name": "stdout",
     "output_type": "stream",
     "text": [
      "Found 4320 images belonging to 9 classes.\n",
      "Found 1080 images belonging to 9 classes.\n"
     ]
    }
   ],
   "source": [
    "IMAGE_SIZE=224\n",
    "BATCH_SIZE=16\n",
    "\n",
    "#pre_processing_training\n",
    "train_datagen = ImageDataGenerator(\n",
    "        rescale=1./255,\n",
    "        shear_range=0.2,\n",
    "        zoom_range=0.2,\n",
    "        horizontal_flip=True,\n",
    "        fill_mode='nearest',\n",
    "        validation_split=0.2)\n",
    "\n",
    "training_set = train_datagen.flow_from_directory(\n",
    "        DATAPATH,\n",
    "        shuffle=True,\n",
    "        target_size=(IMAGE_SIZE,IMAGE_SIZE),\n",
    "        batch_size=BATCH_SIZE,\n",
    "        class_mode='categorical',\n",
    "        subset='training')\n",
    "\n",
    "\n",
    "validation_set = train_datagen.flow_from_directory(\n",
    "        DATAPATH,\n",
    "         shuffle=True,\n",
    "        target_size=(IMAGE_SIZE,IMAGE_SIZE),\n",
    "        batch_size=BATCH_SIZE,\n",
    "        class_mode='categorical',\n",
    "        subset='validation')\n"
   ]
  },
  {
   "cell_type": "code",
   "execution_count": 20,
   "metadata": {
    "colab": {
     "base_uri": "https://localhost:8080/"
    },
    "executionInfo": {
     "elapsed": 3240,
     "status": "ok",
     "timestamp": 1647973203225,
     "user": {
      "displayName": "16_039 Sayeed Raihan",
      "photoUrl": "https://lh3.googleusercontent.com/a-/AOh14Gh_slAFe1ZLC_ZrMBYw_D5j6eTGGtCHsFQQUJLf=s64",
      "userId": "11081308100132767952"
     },
     "user_tz": -360
    },
    "id": "M90dnxWwVLNT",
    "outputId": "507786e3-df38-4108-b0fe-91cf76da6b2f"
   },
   "outputs": [
    {
     "name": "stdout",
     "output_type": "stream",
     "text": [
      "Found 575 images belonging to 9 classes.\n"
     ]
    }
   ],
   "source": [
    "test_datagen = ImageDataGenerator(rescale=1./255)\n",
    "test_set = test_datagen.flow_from_directory(\n",
    "        TESTPATH,\n",
    "         shuffle=False,\n",
    "        target_size=(IMAGE_SIZE,IMAGE_SIZE),\n",
    "        batch_size=BATCH_SIZE,\n",
    "        class_mode='categorical')"
   ]
  },
  {
   "cell_type": "code",
   "execution_count": 21,
   "metadata": {
    "colab": {
     "base_uri": "https://localhost:8080/"
    },
    "executionInfo": {
     "elapsed": 15,
     "status": "ok",
     "timestamp": 1647973203226,
     "user": {
      "displayName": "16_039 Sayeed Raihan",
      "photoUrl": "https://lh3.googleusercontent.com/a-/AOh14Gh_slAFe1ZLC_ZrMBYw_D5j6eTGGtCHsFQQUJLf=s64",
      "userId": "11081308100132767952"
     },
     "user_tz": -360
    },
    "id": "bo-7jjulmsOY",
    "outputId": "b01a7063-6f57-4c24-b0af-d78861012afe"
   },
   "outputs": [
    {
     "data": {
      "text/plain": [
       "{'1.two': 0,\n",
       " '2.five': 1,\n",
       " '3.ten': 2,\n",
       " '4.twenty': 3,\n",
       " '5.fifty': 4,\n",
       " '6.one_hundred': 5,\n",
       " '7.two_hundred': 6,\n",
       " '8.five_hundred': 7,\n",
       " '9.one_thousand': 8}"
      ]
     },
     "execution_count": 21,
     "metadata": {},
     "output_type": "execute_result"
    }
   ],
   "source": [
    "training_set.class_indices"
   ]
  },
  {
   "cell_type": "code",
   "execution_count": 22,
   "metadata": {
    "colab": {
     "base_uri": "https://localhost:8080/"
    },
    "executionInfo": {
     "elapsed": 13,
     "status": "ok",
     "timestamp": 1647973203227,
     "user": {
      "displayName": "16_039 Sayeed Raihan",
      "photoUrl": "https://lh3.googleusercontent.com/a-/AOh14Gh_slAFe1ZLC_ZrMBYw_D5j6eTGGtCHsFQQUJLf=s64",
      "userId": "11081308100132767952"
     },
     "user_tz": -360
    },
    "id": "IqdP8VMzVLTW",
    "outputId": "8325615c-5011-4b56-9dea-7c2ee6a9c0b4"
   },
   "outputs": [
    {
     "name": "stdout",
     "output_type": "stream",
     "text": [
      "Number of classes in dataset:  9\n"
     ]
    }
   ],
   "source": [
    "total_class=len(training_set.class_indices)\n",
    "print('Number of classes in dataset: ',total_class)"
   ]
  },
  {
   "cell_type": "code",
   "execution_count": null,
   "metadata": {
    "id": "B5vK53-5WVwL"
   },
   "outputs": [],
   "source": [
    "from tensorflow.keras.layers import Conv2D,Dense\n",
    "from tensorflow.keras.regularizers import l2"
   ]
  },
  {
   "cell_type": "code",
   "execution_count": null,
   "metadata": {
    "id": "hAcGbofEWV0W"
   },
   "outputs": [],
   "source": [
    "cnn = tf.keras.models.Sequential()\n",
    "\n",
    "cnn.add(tf.keras.layers.Conv2D(filters=64 , kernel_size=3 , strides=2, activation='relu' , input_shape=[224,224,3]))\n",
    "cnn.add(tf.keras.layers.MaxPool2D(pool_size=2,strides=2))\n",
    "\n",
    "cnn.add(tf.keras.layers.Conv2D(filters=32,padding=\"same\",kernel_size=3, activation='relu'))\n",
    "cnn.add(tf.keras.layers.MaxPool2D(pool_size=2))\n",
    "\n",
    "cnn.add(tf.keras.layers.Conv2D(filters=32,padding='same',kernel_size=3, activation='relu'))\n",
    "cnn.add(tf.keras.layers.MaxPool2D(pool_size=2))\n",
    "\n",
    "cnn.add(tf.keras.layers.Flatten())\n",
    "\n",
    "cnn.add(tf.keras.layers.Dense(units=128, activation='relu'))\n",
    "\n",
    "cnn.add(Dense(9, kernel_regularizer=tf.keras.regularizers.l2(0.01),activation\n",
    "             ='softmax'))\n"
   ]
  },
  {
   "cell_type": "code",
   "execution_count": null,
   "metadata": {
    "colab": {
     "base_uri": "https://localhost:8080/"
    },
    "executionInfo": {
     "elapsed": 28,
     "status": "ok",
     "timestamp": 1647973205645,
     "user": {
      "displayName": "16_039 Sayeed Raihan",
      "photoUrl": "https://lh3.googleusercontent.com/a-/AOh14Gh_slAFe1ZLC_ZrMBYw_D5j6eTGGtCHsFQQUJLf=s64",
      "userId": "11081308100132767952"
     },
     "user_tz": -360
    },
    "id": "iTWeKahIWV8r",
    "outputId": "47d803ac-a356-4715-88f0-3b93262ccb0a"
   },
   "outputs": [
    {
     "name": "stdout",
     "output_type": "stream",
     "text": [
      "Model: \"sequential\"\n",
      "_________________________________________________________________\n",
      " Layer (type)                Output Shape              Param #   \n",
      "=================================================================\n",
      " conv2d (Conv2D)             (None, 111, 111, 64)      1792      \n",
      "                                                                 \n",
      " max_pooling2d (MaxPooling2D  (None, 55, 55, 64)       0         \n",
      " )                                                               \n",
      "                                                                 \n",
      " conv2d_1 (Conv2D)           (None, 55, 55, 32)        18464     \n",
      "                                                                 \n",
      " max_pooling2d_1 (MaxPooling  (None, 27, 27, 32)       0         \n",
      " 2D)                                                             \n",
      "                                                                 \n",
      " conv2d_2 (Conv2D)           (None, 27, 27, 32)        9248      \n",
      "                                                                 \n",
      " max_pooling2d_2 (MaxPooling  (None, 13, 13, 32)       0         \n",
      " 2D)                                                             \n",
      "                                                                 \n",
      " flatten (Flatten)           (None, 5408)              0         \n",
      "                                                                 \n",
      " dense (Dense)               (None, 128)               692352    \n",
      "                                                                 \n",
      " dense_1 (Dense)             (None, 9)                 1161      \n",
      "                                                                 \n",
      "=================================================================\n",
      "Total params: 723,017\n",
      "Trainable params: 723,017\n",
      "Non-trainable params: 0\n",
      "_________________________________________________________________\n"
     ]
    }
   ],
   "source": [
    "cnn.summary()"
   ]
  },
  {
   "cell_type": "code",
   "execution_count": null,
   "metadata": {
    "id": "rWDNx4AYWWfS"
   },
   "outputs": [],
   "source": [
    "cnn.compile(optimizer = 'adam', loss = 'squared_hinge', metrics = ['accuracy'])"
   ]
  },
  {
   "cell_type": "code",
   "execution_count": null,
   "metadata": {
    "id": "TCM55S-Jm75T"
   },
   "outputs": [],
   "source": [
    "from tensorflow.keras.callbacks import ModelCheckpoint\n",
    "checkpointer = ModelCheckpoint(filepath=MODEL_PATH+'SVM_with_CNN.model.best.hdf5', verbose=1 ,save_best_only=True)"
   ]
  },
  {
   "cell_type": "code",
   "execution_count": null,
   "metadata": {
    "colab": {
     "background_save": true,
     "base_uri": "https://localhost:8080/"
    },
    "executionInfo": {
     "elapsed": 10224616,
     "status": "ok",
     "timestamp": 1647984458021,
     "user": {
      "displayName": "16_039 Sayeed Raihan",
      "photoUrl": "https://lh3.googleusercontent.com/a-/AOh14Gh_slAFe1ZLC_ZrMBYw_D5j6eTGGtCHsFQQUJLf=s64",
      "userId": "11081308100132767952"
     },
     "user_tz": -360
    },
    "id": "WALO9TY5m77c",
    "outputId": "8a782119-39c9-46cf-ae54-c6ebfb44709e"
   },
   "outputs": [
    {
     "name": "stdout",
     "output_type": "stream",
     "text": [
      "Epoch 1/100\n",
      "271/271 [==============================] - ETA: 0s - loss: 1.1212 - accuracy: 0.4998\n",
      "Epoch 1: val_loss improved from inf to 1.04051, saving model to /content/drive/MyDrive/Niloy Banik/modelSVM_with_CNN.model.best.hdf5\n",
      "271/271 [==============================] - 2923s 11s/step - loss: 1.1212 - accuracy: 0.4998 - val_loss: 1.0405 - val_accuracy: 0.6627\n",
      "Epoch 2/100\n",
      "271/271 [==============================] - ETA: 0s - loss: 0.9690 - accuracy: 0.8489\n",
      "Epoch 2: val_loss improved from 1.04051 to 0.96684, saving model to /content/drive/MyDrive/Niloy Banik/modelSVM_with_CNN.model.best.hdf5\n",
      "271/271 [==============================] - 83s 306ms/step - loss: 0.9690 - accuracy: 0.8489 - val_loss: 0.9668 - val_accuracy: 0.8484\n",
      "Epoch 3/100\n",
      "271/271 [==============================] - ETA: 0s - loss: 0.9276 - accuracy: 0.9395\n",
      "Epoch 3: val_loss did not improve from 0.96684\n",
      "271/271 [==============================] - 82s 303ms/step - loss: 0.9276 - accuracy: 0.9395 - val_loss: 0.9839 - val_accuracy: 0.7976\n",
      "Epoch 4/100\n",
      "271/271 [==============================] - ETA: 0s - loss: 0.9136 - accuracy: 0.9686\n",
      "Epoch 4: val_loss improved from 0.96684 to 0.95941, saving model to /content/drive/MyDrive/Niloy Banik/modelSVM_with_CNN.model.best.hdf5\n",
      "271/271 [==============================] - 83s 307ms/step - loss: 0.9136 - accuracy: 0.9686 - val_loss: 0.9594 - val_accuracy: 0.8475\n",
      "Epoch 5/100\n",
      "271/271 [==============================] - ETA: 0s - loss: 0.9067 - accuracy: 0.9806\n",
      "Epoch 5: val_loss improved from 0.95941 to 0.94436, saving model to /content/drive/MyDrive/Niloy Banik/modelSVM_with_CNN.model.best.hdf5\n",
      "271/271 [==============================] - 84s 312ms/step - loss: 0.9067 - accuracy: 0.9806 - val_loss: 0.9444 - val_accuracy: 0.8835\n",
      "Epoch 6/100\n",
      "271/271 [==============================] - ETA: 0s - loss: 0.9030 - accuracy: 0.9861\n",
      "Epoch 6: val_loss improved from 0.94436 to 0.92235, saving model to /content/drive/MyDrive/Niloy Banik/modelSVM_with_CNN.model.best.hdf5\n",
      "271/271 [==============================] - 84s 311ms/step - loss: 0.9030 - accuracy: 0.9861 - val_loss: 0.9223 - val_accuracy: 0.9372\n",
      "Epoch 7/100\n",
      "271/271 [==============================] - ETA: 0s - loss: 0.8994 - accuracy: 0.9912\n",
      "Epoch 7: val_loss did not improve from 0.92235\n",
      "271/271 [==============================] - 84s 309ms/step - loss: 0.8994 - accuracy: 0.9912 - val_loss: 0.9338 - val_accuracy: 0.9140\n",
      "Epoch 8/100\n",
      "271/271 [==============================] - ETA: 0s - loss: 0.8972 - accuracy: 0.9945\n",
      "Epoch 8: val_loss improved from 0.92235 to 0.92115, saving model to /content/drive/MyDrive/Niloy Banik/modelSVM_with_CNN.model.best.hdf5\n",
      "271/271 [==============================] - 84s 308ms/step - loss: 0.8972 - accuracy: 0.9945 - val_loss: 0.9212 - val_accuracy: 0.9316\n",
      "Epoch 9/100\n",
      "271/271 [==============================] - ETA: 0s - loss: 0.8993 - accuracy: 0.9861\n",
      "Epoch 9: val_loss did not improve from 0.92115\n",
      "271/271 [==============================] - 84s 311ms/step - loss: 0.8993 - accuracy: 0.9861 - val_loss: 0.9480 - val_accuracy: 0.8688\n",
      "Epoch 10/100\n",
      "271/271 [==============================] - ETA: 0s - loss: 0.8993 - accuracy: 0.9880\n",
      "Epoch 10: val_loss did not improve from 0.92115\n",
      "271/271 [==============================] - 85s 313ms/step - loss: 0.8993 - accuracy: 0.9880 - val_loss: 0.9221 - val_accuracy: 0.9316\n",
      "Epoch 11/100\n",
      "271/271 [==============================] - ETA: 0s - loss: 0.8975 - accuracy: 0.9910\n",
      "Epoch 11: val_loss improved from 0.92115 to 0.91654, saving model to /content/drive/MyDrive/Niloy Banik/modelSVM_with_CNN.model.best.hdf5\n",
      "271/271 [==============================] - 85s 312ms/step - loss: 0.8975 - accuracy: 0.9910 - val_loss: 0.9165 - val_accuracy: 0.9436\n",
      "Epoch 12/100\n",
      "271/271 [==============================] - ETA: 0s - loss: 0.8959 - accuracy: 0.9949\n",
      "Epoch 12: val_loss did not improve from 0.91654\n",
      "271/271 [==============================] - 84s 312ms/step - loss: 0.8959 - accuracy: 0.9949 - val_loss: 0.9387 - val_accuracy: 0.8854\n",
      "Epoch 13/100\n",
      "271/271 [==============================] - ETA: 0s - loss: 0.8955 - accuracy: 0.9933\n",
      "Epoch 13: val_loss did not improve from 0.91654\n",
      "271/271 [==============================] - 84s 311ms/step - loss: 0.8955 - accuracy: 0.9933 - val_loss: 0.9242 - val_accuracy: 0.9233\n",
      "Epoch 14/100\n",
      "271/271 [==============================] - ETA: 0s - loss: 0.8945 - accuracy: 0.9947\n",
      "Epoch 14: val_loss improved from 0.91654 to 0.91067, saving model to /content/drive/MyDrive/Niloy Banik/modelSVM_with_CNN.model.best.hdf5\n",
      "271/271 [==============================] - 84s 310ms/step - loss: 0.8945 - accuracy: 0.9947 - val_loss: 0.9107 - val_accuracy: 0.9547\n",
      "Epoch 15/100\n",
      "271/271 [==============================] - ETA: 0s - loss: 0.8913 - accuracy: 1.0000\n",
      "Epoch 15: val_loss improved from 0.91067 to 0.90982, saving model to /content/drive/MyDrive/Niloy Banik/modelSVM_with_CNN.model.best.hdf5\n",
      "271/271 [==============================] - 82s 304ms/step - loss: 0.8913 - accuracy: 1.0000 - val_loss: 0.9098 - val_accuracy: 0.9547\n",
      "Epoch 16/100\n",
      "271/271 [==============================] - ETA: 0s - loss: 0.8988 - accuracy: 0.9848\n",
      "Epoch 16: val_loss did not improve from 0.90982\n",
      "271/271 [==============================] - 82s 302ms/step - loss: 0.8988 - accuracy: 0.9848 - val_loss: 0.9622 - val_accuracy: 0.8309\n",
      "Epoch 17/100\n",
      "271/271 [==============================] - ETA: 0s - loss: 0.8975 - accuracy: 0.9887\n",
      "Epoch 17: val_loss did not improve from 0.90982\n",
      "271/271 [==============================] - 84s 309ms/step - loss: 0.8975 - accuracy: 0.9887 - val_loss: 0.9112 - val_accuracy: 0.9584\n",
      "Epoch 18/100\n",
      "271/271 [==============================] - ETA: 0s - loss: 0.8956 - accuracy: 0.9933\n",
      "Epoch 18: val_loss did not improve from 0.90982\n",
      "271/271 [==============================] - 83s 307ms/step - loss: 0.8956 - accuracy: 0.9933 - val_loss: 0.9116 - val_accuracy: 0.9566\n",
      "Epoch 19/100\n",
      "271/271 [==============================] - ETA: 0s - loss: 0.8942 - accuracy: 0.9942\n",
      "Epoch 19: val_loss did not improve from 0.90982\n",
      "271/271 [==============================] - 83s 306ms/step - loss: 0.8942 - accuracy: 0.9942 - val_loss: 0.9510 - val_accuracy: 0.8595\n",
      "Epoch 20/100\n",
      "271/271 [==============================] - ETA: 0s - loss: 0.8929 - accuracy: 0.9968\n",
      "Epoch 20: val_loss did not improve from 0.90982\n",
      "271/271 [==============================] - 82s 304ms/step - loss: 0.8929 - accuracy: 0.9968 - val_loss: 0.9194 - val_accuracy: 0.9335\n",
      "Epoch 21/100\n",
      "271/271 [==============================] - ETA: 0s - loss: 0.8915 - accuracy: 0.9986\n",
      "Epoch 21: val_loss did not improve from 0.90982\n",
      "271/271 [==============================] - 82s 302ms/step - loss: 0.8915 - accuracy: 0.9986 - val_loss: 0.9278 - val_accuracy: 0.9085\n",
      "Epoch 22/100\n",
      "271/271 [==============================] - ETA: 0s - loss: 0.8958 - accuracy: 0.9903\n",
      "Epoch 22: val_loss did not improve from 0.90982\n",
      "271/271 [==============================] - 81s 300ms/step - loss: 0.8958 - accuracy: 0.9903 - val_loss: 0.9230 - val_accuracy: 0.9261\n",
      "Epoch 23/100\n",
      "271/271 [==============================] - ETA: 0s - loss: 0.9050 - accuracy: 0.9709\n",
      "Epoch 23: val_loss did not improve from 0.90982\n",
      "271/271 [==============================] - 82s 302ms/step - loss: 0.9050 - accuracy: 0.9709 - val_loss: 0.9195 - val_accuracy: 0.9372\n",
      "Epoch 24/100\n",
      "271/271 [==============================] - ETA: 0s - loss: 0.8929 - accuracy: 0.9986\n",
      "Epoch 24: val_loss did not improve from 0.90982\n",
      "271/271 [==============================] - 81s 298ms/step - loss: 0.8929 - accuracy: 0.9986 - val_loss: 0.9107 - val_accuracy: 0.9529\n",
      "Epoch 25/100\n",
      "271/271 [==============================] - ETA: 0s - loss: 0.8916 - accuracy: 0.9995\n",
      "Epoch 25: val_loss improved from 0.90982 to 0.90396, saving model to /content/drive/MyDrive/Niloy Banik/modelSVM_with_CNN.model.best.hdf5\n",
      "271/271 [==============================] - 82s 302ms/step - loss: 0.8916 - accuracy: 0.9995 - val_loss: 0.9040 - val_accuracy: 0.9695\n",
      "Epoch 26/100\n",
      "271/271 [==============================] - ETA: 0s - loss: 0.8907 - accuracy: 1.0000\n",
      "Epoch 26: val_loss improved from 0.90396 to 0.90263, saving model to /content/drive/MyDrive/Niloy Banik/modelSVM_with_CNN.model.best.hdf5\n",
      "271/271 [==============================] - 82s 303ms/step - loss: 0.8907 - accuracy: 1.0000 - val_loss: 0.9026 - val_accuracy: 0.9713\n",
      "Epoch 27/100\n",
      "271/271 [==============================] - ETA: 0s - loss: 0.8903 - accuracy: 1.0000\n",
      "Epoch 27: val_loss did not improve from 0.90263\n",
      "271/271 [==============================] - 81s 300ms/step - loss: 0.8903 - accuracy: 1.0000 - val_loss: 0.9115 - val_accuracy: 0.9464\n",
      "Epoch 28/100\n",
      "271/271 [==============================] - ETA: 0s - loss: 0.8979 - accuracy: 0.9838\n",
      "Epoch 28: val_loss did not improve from 0.90263\n",
      "271/271 [==============================] - 81s 300ms/step - loss: 0.8979 - accuracy: 0.9838 - val_loss: 0.9414 - val_accuracy: 0.8835\n",
      "Epoch 29/100\n",
      "271/271 [==============================] - ETA: 0s - loss: 0.9155 - accuracy: 0.9471\n",
      "Epoch 29: val_loss did not improve from 0.90263\n",
      "271/271 [==============================] - 82s 302ms/step - loss: 0.9155 - accuracy: 0.9471 - val_loss: 0.9168 - val_accuracy: 0.9436\n",
      "Epoch 30/100\n",
      "271/271 [==============================] - ETA: 0s - loss: 0.8936 - accuracy: 0.9970\n",
      "Epoch 30: val_loss did not improve from 0.90263\n",
      "271/271 [==============================] - 82s 301ms/step - loss: 0.8936 - accuracy: 0.9970 - val_loss: 0.9111 - val_accuracy: 0.9519\n",
      "Epoch 31/100\n",
      "271/271 [==============================] - ETA: 0s - loss: 0.8985 - accuracy: 0.9854\n",
      "Epoch 31: val_loss did not improve from 0.90263\n",
      "271/271 [==============================] - 82s 302ms/step - loss: 0.8985 - accuracy: 0.9854 - val_loss: 0.9176 - val_accuracy: 0.9436\n",
      "Epoch 32/100\n",
      "271/271 [==============================] - ETA: 0s - loss: 0.8930 - accuracy: 0.9975\n",
      "Epoch 32: val_loss did not improve from 0.90263\n",
      "271/271 [==============================] - 81s 298ms/step - loss: 0.8930 - accuracy: 0.9975 - val_loss: 0.9065 - val_accuracy: 0.9649\n",
      "Epoch 33/100\n",
      "271/271 [==============================] - ETA: 0s - loss: 0.8940 - accuracy: 0.9940\n",
      "Epoch 33: val_loss did not improve from 0.90263\n",
      "271/271 [==============================] - 82s 301ms/step - loss: 0.8940 - accuracy: 0.9940 - val_loss: 0.9169 - val_accuracy: 0.9372\n",
      "Epoch 34/100\n",
      "271/271 [==============================] - ETA: 0s - loss: 0.8915 - accuracy: 0.9986\n",
      "Epoch 34: val_loss did not improve from 0.90263\n",
      "271/271 [==============================] - 81s 300ms/step - loss: 0.8915 - accuracy: 0.9986 - val_loss: 0.9201 - val_accuracy: 0.9325\n",
      "Epoch 35/100\n",
      "271/271 [==============================] - ETA: 0s - loss: 0.8912 - accuracy: 0.9988\n",
      "Epoch 35: val_loss did not improve from 0.90263\n",
      "271/271 [==============================] - 82s 301ms/step - loss: 0.8912 - accuracy: 0.9988 - val_loss: 0.9047 - val_accuracy: 0.9704\n",
      "Epoch 36/100\n",
      "271/271 [==============================] - ETA: 0s - loss: 0.8904 - accuracy: 0.9995\n",
      "Epoch 36: val_loss did not improve from 0.90263\n",
      "271/271 [==============================] - 81s 300ms/step - loss: 0.8904 - accuracy: 0.9995 - val_loss: 0.9035 - val_accuracy: 0.9677\n",
      "Epoch 37/100\n",
      "271/271 [==============================] - ETA: 0s - loss: 0.8903 - accuracy: 0.9995\n",
      "Epoch 37: val_loss did not improve from 0.90263\n",
      "271/271 [==============================] - 81s 300ms/step - loss: 0.8903 - accuracy: 0.9995 - val_loss: 0.9094 - val_accuracy: 0.9510\n",
      "Epoch 38/100\n",
      "271/271 [==============================] - ETA: 0s - loss: 0.8900 - accuracy: 0.9998\n",
      "Epoch 38: val_loss did not improve from 0.90263\n",
      "271/271 [==============================] - 81s 300ms/step - loss: 0.8900 - accuracy: 0.9998 - val_loss: 0.9039 - val_accuracy: 0.9658\n",
      "Epoch 39/100\n",
      "271/271 [==============================] - ETA: 0s - loss: 0.8896 - accuracy: 1.0000\n",
      "Epoch 39: val_loss did not improve from 0.90263\n",
      "271/271 [==============================] - 81s 298ms/step - loss: 0.8896 - accuracy: 1.0000 - val_loss: 0.9039 - val_accuracy: 0.9658\n",
      "Epoch 40/100\n",
      "271/271 [==============================] - ETA: 0s - loss: 0.8973 - accuracy: 0.9843\n",
      "Epoch 40: val_loss did not improve from 0.90263\n",
      "271/271 [==============================] - 81s 298ms/step - loss: 0.8973 - accuracy: 0.9843 - val_loss: 0.9265 - val_accuracy: 0.9187\n",
      "Epoch 41/100\n",
      "271/271 [==============================] - ETA: 0s - loss: 0.8978 - accuracy: 0.9857\n",
      "Epoch 41: val_loss did not improve from 0.90263\n",
      "271/271 [==============================] - 81s 300ms/step - loss: 0.8978 - accuracy: 0.9857 - val_loss: 0.9329 - val_accuracy: 0.8983\n",
      "Epoch 42/100\n",
      "271/271 [==============================] - ETA: 0s - loss: 0.8946 - accuracy: 0.9924\n",
      "Epoch 42: val_loss did not improve from 0.90263\n",
      "271/271 [==============================] - 81s 298ms/step - loss: 0.8946 - accuracy: 0.9924 - val_loss: 0.9272 - val_accuracy: 0.9168\n",
      "Epoch 43/100\n",
      "271/271 [==============================] - ETA: 0s - loss: 0.8942 - accuracy: 0.9926\n",
      "Epoch 43: val_loss did not improve from 0.90263\n",
      "271/271 [==============================] - 81s 300ms/step - loss: 0.8942 - accuracy: 0.9926 - val_loss: 0.9201 - val_accuracy: 0.9288\n",
      "Epoch 44/100\n",
      "271/271 [==============================] - ETA: 0s - loss: 0.8935 - accuracy: 0.9942\n",
      "Epoch 44: val_loss did not improve from 0.90263\n",
      "271/271 [==============================] - 82s 303ms/step - loss: 0.8935 - accuracy: 0.9942 - val_loss: 0.9317 - val_accuracy: 0.9067\n",
      "Epoch 45/100\n",
      "271/271 [==============================] - ETA: 0s - loss: 0.8929 - accuracy: 0.9954\n",
      "Epoch 45: val_loss did not improve from 0.90263\n",
      "271/271 [==============================] - 81s 301ms/step - loss: 0.8929 - accuracy: 0.9954 - val_loss: 0.9098 - val_accuracy: 0.9566\n",
      "Epoch 46/100\n",
      "271/271 [==============================] - ETA: 0s - loss: 0.8922 - accuracy: 0.9970\n",
      "Epoch 46: val_loss did not improve from 0.90263\n",
      "271/271 [==============================] - 82s 303ms/step - loss: 0.8922 - accuracy: 0.9970 - val_loss: 0.9150 - val_accuracy: 0.9445\n",
      "Epoch 47/100\n",
      "271/271 [==============================] - ETA: 0s - loss: 0.8915 - accuracy: 0.9977\n",
      "Epoch 47: val_loss did not improve from 0.90263\n",
      "271/271 [==============================] - 82s 301ms/step - loss: 0.8915 - accuracy: 0.9977 - val_loss: 0.9112 - val_accuracy: 0.9529\n",
      "Epoch 48/100\n",
      "271/271 [==============================] - ETA: 0s - loss: 0.8974 - accuracy: 0.9861\n",
      "Epoch 48: val_loss did not improve from 0.90263\n",
      "271/271 [==============================] - 81s 300ms/step - loss: 0.8974 - accuracy: 0.9861 - val_loss: 0.9136 - val_accuracy: 0.9473\n",
      "Epoch 49/100\n",
      "271/271 [==============================] - ETA: 0s - loss: 0.8916 - accuracy: 0.9984\n",
      "Epoch 49: val_loss did not improve from 0.90263\n",
      "271/271 [==============================] - 82s 302ms/step - loss: 0.8916 - accuracy: 0.9984 - val_loss: 0.9033 - val_accuracy: 0.9713\n",
      "Epoch 50/100\n",
      "271/271 [==============================] - ETA: 0s - loss: 0.8917 - accuracy: 0.9977\n",
      "Epoch 50: val_loss did not improve from 0.90263\n",
      "271/271 [==============================] - 81s 300ms/step - loss: 0.8917 - accuracy: 0.9977 - val_loss: 0.9058 - val_accuracy: 0.9649\n",
      "Epoch 51/100\n",
      "271/271 [==============================] - ETA: 0s - loss: 0.8934 - accuracy: 0.9928\n",
      "Epoch 51: val_loss did not improve from 0.90263\n",
      "271/271 [==============================] - 82s 303ms/step - loss: 0.8934 - accuracy: 0.9928 - val_loss: 0.9249 - val_accuracy: 0.9205\n",
      "Epoch 52/100\n",
      "271/271 [==============================] - ETA: 0s - loss: 0.8951 - accuracy: 0.9901\n",
      "Epoch 52: val_loss did not improve from 0.90263\n",
      "271/271 [==============================] - 82s 304ms/step - loss: 0.8951 - accuracy: 0.9901 - val_loss: 0.9163 - val_accuracy: 0.9418\n",
      "Epoch 53/100\n",
      "271/271 [==============================] - ETA: 0s - loss: 0.8909 - accuracy: 0.9995\n",
      "Epoch 53: val_loss did not improve from 0.90263\n",
      "271/271 [==============================] - 82s 302ms/step - loss: 0.8909 - accuracy: 0.9995 - val_loss: 0.9154 - val_accuracy: 0.9381\n",
      "Epoch 54/100\n",
      "271/271 [==============================] - ETA: 0s - loss: 0.8904 - accuracy: 0.9998\n",
      "Epoch 54: val_loss improved from 0.90263 to 0.90180, saving model to /content/drive/MyDrive/Niloy Banik/modelSVM_with_CNN.model.best.hdf5\n",
      "271/271 [==============================] - 82s 303ms/step - loss: 0.8904 - accuracy: 0.9998 - val_loss: 0.9018 - val_accuracy: 0.9713\n",
      "Epoch 55/100\n",
      "271/271 [==============================] - ETA: 0s - loss: 0.8901 - accuracy: 0.9998\n",
      "Epoch 55: val_loss improved from 0.90180 to 0.90134, saving model to /content/drive/MyDrive/Niloy Banik/modelSVM_with_CNN.model.best.hdf5\n",
      "271/271 [==============================] - 83s 307ms/step - loss: 0.8901 - accuracy: 0.9998 - val_loss: 0.9013 - val_accuracy: 0.9732\n",
      "Epoch 56/100\n",
      "271/271 [==============================] - ETA: 0s - loss: 0.8898 - accuracy: 1.0000\n",
      "Epoch 56: val_loss did not improve from 0.90134\n",
      "271/271 [==============================] - 83s 305ms/step - loss: 0.8898 - accuracy: 1.0000 - val_loss: 0.9080 - val_accuracy: 0.9510\n",
      "Epoch 57/100\n",
      "271/271 [==============================] - ETA: 0s - loss: 0.8895 - accuracy: 1.0000\n",
      "Epoch 57: val_loss did not improve from 0.90134\n",
      "271/271 [==============================] - 83s 306ms/step - loss: 0.8895 - accuracy: 1.0000 - val_loss: 0.9053 - val_accuracy: 0.9621\n",
      "Epoch 58/100\n",
      "271/271 [==============================] - ETA: 0s - loss: 0.8901 - accuracy: 0.9991\n",
      "Epoch 58: val_loss did not improve from 0.90134\n",
      "271/271 [==============================] - 83s 306ms/step - loss: 0.8901 - accuracy: 0.9991 - val_loss: 0.9137 - val_accuracy: 0.9381\n",
      "Epoch 59/100\n",
      "271/271 [==============================] - ETA: 0s - loss: 0.8939 - accuracy: 0.9917\n",
      "Epoch 59: val_loss did not improve from 0.90134\n",
      "271/271 [==============================] - 83s 306ms/step - loss: 0.8939 - accuracy: 0.9917 - val_loss: 0.9064 - val_accuracy: 0.9621\n",
      "Epoch 60/100\n",
      "271/271 [==============================] - ETA: 0s - loss: 0.8939 - accuracy: 0.9915\n",
      "Epoch 60: val_loss did not improve from 0.90134\n",
      "271/271 [==============================] - 81s 300ms/step - loss: 0.8939 - accuracy: 0.9915 - val_loss: 0.9436 - val_accuracy: 0.8752\n",
      "Epoch 61/100\n",
      "271/271 [==============================] - ETA: 0s - loss: 0.9079 - accuracy: 0.9621\n",
      "Epoch 61: val_loss did not improve from 0.90134\n",
      "271/271 [==============================] - 84s 309ms/step - loss: 0.9079 - accuracy: 0.9621 - val_loss: 0.9139 - val_accuracy: 0.9464\n",
      "Epoch 62/100\n",
      "271/271 [==============================] - ETA: 0s - loss: 0.8925 - accuracy: 0.9970\n",
      "Epoch 62: val_loss did not improve from 0.90134\n",
      "271/271 [==============================] - 82s 304ms/step - loss: 0.8925 - accuracy: 0.9970 - val_loss: 0.9266 - val_accuracy: 0.9177\n",
      "Epoch 63/100\n",
      "271/271 [==============================] - ETA: 0s - loss: 0.8919 - accuracy: 0.9977\n",
      "Epoch 63: val_loss did not improve from 0.90134\n",
      "271/271 [==============================] - 83s 306ms/step - loss: 0.8919 - accuracy: 0.9977 - val_loss: 0.9256 - val_accuracy: 0.9168\n",
      "Epoch 64/100\n",
      "271/271 [==============================] - ETA: 0s - loss: 0.8907 - accuracy: 0.9995\n",
      "Epoch 64: val_loss did not improve from 0.90134\n",
      "271/271 [==============================] - 83s 306ms/step - loss: 0.8907 - accuracy: 0.9995 - val_loss: 0.9083 - val_accuracy: 0.9593\n",
      "Epoch 65/100\n",
      "271/271 [==============================] - ETA: 0s - loss: 0.8907 - accuracy: 0.9986\n",
      "Epoch 65: val_loss did not improve from 0.90134\n",
      "271/271 [==============================] - 84s 311ms/step - loss: 0.8907 - accuracy: 0.9986 - val_loss: 0.9048 - val_accuracy: 0.9649\n",
      "Epoch 66/100\n",
      "271/271 [==============================] - ETA: 0s - loss: 0.8898 - accuracy: 1.0000\n",
      "Epoch 66: val_loss did not improve from 0.90134\n",
      "271/271 [==============================] - 83s 308ms/step - loss: 0.8898 - accuracy: 1.0000 - val_loss: 0.9034 - val_accuracy: 0.9695\n",
      "Epoch 67/100\n",
      "271/271 [==============================] - ETA: 0s - loss: 0.8896 - accuracy: 1.0000\n",
      "Epoch 67: val_loss did not improve from 0.90134\n",
      "271/271 [==============================] - 84s 309ms/step - loss: 0.8896 - accuracy: 1.0000 - val_loss: 0.9044 - val_accuracy: 0.9649\n",
      "Epoch 68/100\n",
      "271/271 [==============================] - ETA: 0s - loss: 0.8895 - accuracy: 1.0000\n",
      "Epoch 68: val_loss did not improve from 0.90134\n",
      "271/271 [==============================] - 82s 304ms/step - loss: 0.8895 - accuracy: 1.0000 - val_loss: 0.9020 - val_accuracy: 0.9704\n",
      "Epoch 69/100\n",
      "271/271 [==============================] - ETA: 0s - loss: 0.8894 - accuracy: 1.0000\n",
      "Epoch 69: val_loss did not improve from 0.90134\n",
      "271/271 [==============================] - 83s 307ms/step - loss: 0.8894 - accuracy: 1.0000 - val_loss: 0.9063 - val_accuracy: 0.9584\n",
      "Epoch 70/100\n",
      "271/271 [==============================] - ETA: 0s - loss: 0.9042 - accuracy: 0.9693\n",
      "Epoch 70: val_loss did not improve from 0.90134\n",
      "271/271 [==============================] - 83s 308ms/step - loss: 0.9042 - accuracy: 0.9693 - val_loss: 0.9290 - val_accuracy: 0.9131\n",
      "Epoch 71/100\n",
      "271/271 [==============================] - ETA: 0s - loss: 0.8982 - accuracy: 0.9838\n",
      "Epoch 71: val_loss did not improve from 0.90134\n",
      "271/271 [==============================] - 83s 306ms/step - loss: 0.8982 - accuracy: 0.9838 - val_loss: 0.9717 - val_accuracy: 0.8142\n",
      "Epoch 72/100\n",
      "271/271 [==============================] - ETA: 0s - loss: 0.8949 - accuracy: 0.9933\n",
      "Epoch 72: val_loss did not improve from 0.90134\n",
      "271/271 [==============================] - 82s 302ms/step - loss: 0.8949 - accuracy: 0.9933 - val_loss: 0.9366 - val_accuracy: 0.8937\n",
      "Epoch 73/100\n",
      "271/271 [==============================] - ETA: 0s - loss: 0.8924 - accuracy: 0.9977\n",
      "Epoch 73: val_loss did not improve from 0.90134\n",
      "271/271 [==============================] - 82s 302ms/step - loss: 0.8924 - accuracy: 0.9977 - val_loss: 0.9248 - val_accuracy: 0.9224\n",
      "Epoch 74/100\n",
      "271/271 [==============================] - ETA: 0s - loss: 0.8908 - accuracy: 1.0000\n",
      "Epoch 74: val_loss did not improve from 0.90134\n",
      "271/271 [==============================] - 83s 307ms/step - loss: 0.8908 - accuracy: 1.0000 - val_loss: 0.9224 - val_accuracy: 0.9251\n",
      "Epoch 75/100\n",
      "271/271 [==============================] - ETA: 0s - loss: 0.8910 - accuracy: 0.9991\n",
      "Epoch 75: val_loss did not improve from 0.90134\n",
      "271/271 [==============================] - 82s 304ms/step - loss: 0.8910 - accuracy: 0.9991 - val_loss: 0.9187 - val_accuracy: 0.9325\n",
      "Epoch 76/100\n",
      "271/271 [==============================] - ETA: 0s - loss: 0.8903 - accuracy: 0.9998\n",
      "Epoch 76: val_loss did not improve from 0.90134\n",
      "271/271 [==============================] - 82s 302ms/step - loss: 0.8903 - accuracy: 0.9998 - val_loss: 0.9143 - val_accuracy: 0.9418\n",
      "Epoch 77/100\n",
      "271/271 [==============================] - ETA: 0s - loss: 0.8901 - accuracy: 0.9995\n",
      "Epoch 77: val_loss did not improve from 0.90134\n",
      "271/271 [==============================] - 84s 309ms/step - loss: 0.8901 - accuracy: 0.9995 - val_loss: 0.9169 - val_accuracy: 0.9353\n",
      "Epoch 78/100\n",
      "271/271 [==============================] - ETA: 0s - loss: 0.8902 - accuracy: 0.9988\n",
      "Epoch 78: val_loss did not improve from 0.90134\n",
      "271/271 [==============================] - 83s 305ms/step - loss: 0.8902 - accuracy: 0.9988 - val_loss: 0.9023 - val_accuracy: 0.9704\n",
      "Epoch 79/100\n",
      "271/271 [==============================] - ETA: 0s - loss: 0.8896 - accuracy: 1.0000\n",
      "Epoch 79: val_loss improved from 0.90134 to 0.89856, saving model to /content/drive/MyDrive/Niloy Banik/modelSVM_with_CNN.model.best.hdf5\n",
      "271/271 [==============================] - 83s 308ms/step - loss: 0.8896 - accuracy: 1.0000 - val_loss: 0.8986 - val_accuracy: 0.9797\n",
      "Epoch 80/100\n",
      "271/271 [==============================] - ETA: 0s - loss: 0.8894 - accuracy: 1.0000\n",
      "Epoch 80: val_loss did not improve from 0.89856\n",
      "271/271 [==============================] - 82s 304ms/step - loss: 0.8894 - accuracy: 1.0000 - val_loss: 0.9009 - val_accuracy: 0.9723\n",
      "Epoch 81/100\n",
      "271/271 [==============================] - ETA: 0s - loss: 0.8912 - accuracy: 0.9961\n",
      "Epoch 81: val_loss did not improve from 0.89856\n",
      "271/271 [==============================] - 82s 301ms/step - loss: 0.8912 - accuracy: 0.9961 - val_loss: 0.9178 - val_accuracy: 0.9353\n",
      "Epoch 82/100\n",
      "271/271 [==============================] - ETA: 0s - loss: 0.9032 - accuracy: 0.9709\n",
      "Epoch 82: val_loss did not improve from 0.89856\n",
      "271/271 [==============================] - 81s 299ms/step - loss: 0.9032 - accuracy: 0.9709 - val_loss: 0.9625 - val_accuracy: 0.8383\n",
      "Epoch 83/100\n",
      "271/271 [==============================] - ETA: 0s - loss: 0.9103 - accuracy: 0.9593\n",
      "Epoch 83: val_loss did not improve from 0.89856\n",
      "271/271 [==============================] - 82s 304ms/step - loss: 0.9103 - accuracy: 0.9593 - val_loss: 0.9313 - val_accuracy: 0.9113\n",
      "Epoch 84/100\n",
      "271/271 [==============================] - ETA: 0s - loss: 0.8990 - accuracy: 0.9852\n",
      "Epoch 84: val_loss did not improve from 0.89856\n",
      "271/271 [==============================] - 81s 301ms/step - loss: 0.8990 - accuracy: 0.9852 - val_loss: 0.9221 - val_accuracy: 0.9316\n",
      "Epoch 85/100\n",
      "271/271 [==============================] - ETA: 0s - loss: 0.8949 - accuracy: 0.9933\n",
      "Epoch 85: val_loss did not improve from 0.89856\n",
      "271/271 [==============================] - 81s 300ms/step - loss: 0.8949 - accuracy: 0.9933 - val_loss: 0.9269 - val_accuracy: 0.9187\n",
      "Epoch 86/100\n",
      "271/271 [==============================] - ETA: 0s - loss: 0.8923 - accuracy: 0.9991\n",
      "Epoch 86: val_loss did not improve from 0.89856\n",
      "271/271 [==============================] - 82s 301ms/step - loss: 0.8923 - accuracy: 0.9991 - val_loss: 0.9198 - val_accuracy: 0.9325\n",
      "Epoch 87/100\n",
      "271/271 [==============================] - ETA: 0s - loss: 0.8913 - accuracy: 1.0000\n",
      "Epoch 87: val_loss did not improve from 0.89856\n",
      "271/271 [==============================] - 82s 302ms/step - loss: 0.8913 - accuracy: 1.0000 - val_loss: 0.9206 - val_accuracy: 0.9307\n",
      "Epoch 88/100\n",
      "271/271 [==============================] - ETA: 0s - loss: 0.8954 - accuracy: 0.9901\n",
      "Epoch 88: val_loss did not improve from 0.89856\n",
      "271/271 [==============================] - 82s 303ms/step - loss: 0.8954 - accuracy: 0.9901 - val_loss: 0.9264 - val_accuracy: 0.9177\n",
      "Epoch 89/100\n",
      "271/271 [==============================] - ETA: 0s - loss: 0.8924 - accuracy: 0.9977\n",
      "Epoch 89: val_loss did not improve from 0.89856\n",
      "271/271 [==============================] - 81s 300ms/step - loss: 0.8924 - accuracy: 0.9977 - val_loss: 0.9094 - val_accuracy: 0.9575\n",
      "Epoch 90/100\n",
      "271/271 [==============================] - ETA: 0s - loss: 0.8909 - accuracy: 1.0000\n",
      "Epoch 90: val_loss did not improve from 0.89856\n",
      "271/271 [==============================] - 81s 299ms/step - loss: 0.8909 - accuracy: 1.0000 - val_loss: 0.9106 - val_accuracy: 0.9519\n",
      "Epoch 91/100\n",
      "271/271 [==============================] - ETA: 0s - loss: 0.8915 - accuracy: 0.9982\n",
      "Epoch 91: val_loss did not improve from 0.89856\n",
      "271/271 [==============================] - 81s 298ms/step - loss: 0.8915 - accuracy: 0.9982 - val_loss: 0.9094 - val_accuracy: 0.9584\n",
      "Epoch 92/100\n",
      "271/271 [==============================] - ETA: 0s - loss: 0.8907 - accuracy: 0.9993\n",
      "Epoch 92: val_loss did not improve from 0.89856\n",
      "271/271 [==============================] - 81s 299ms/step - loss: 0.8907 - accuracy: 0.9993 - val_loss: 0.9099 - val_accuracy: 0.9538\n",
      "Epoch 93/100\n",
      "271/271 [==============================] - ETA: 0s - loss: 0.8906 - accuracy: 0.9991\n",
      "Epoch 93: val_loss did not improve from 0.89856\n",
      "271/271 [==============================] - 81s 298ms/step - loss: 0.8906 - accuracy: 0.9991 - val_loss: 0.9051 - val_accuracy: 0.9640\n",
      "Epoch 94/100\n",
      "271/271 [==============================] - ETA: 0s - loss: 0.8900 - accuracy: 1.0000\n",
      "Epoch 94: val_loss did not improve from 0.89856\n",
      "271/271 [==============================] - 81s 298ms/step - loss: 0.8900 - accuracy: 1.0000 - val_loss: 0.9008 - val_accuracy: 0.9732\n",
      "Epoch 95/100\n",
      "271/271 [==============================] - ETA: 0s - loss: 0.8898 - accuracy: 1.0000\n",
      "Epoch 95: val_loss did not improve from 0.89856\n",
      "271/271 [==============================] - 81s 298ms/step - loss: 0.8898 - accuracy: 1.0000 - val_loss: 0.9026 - val_accuracy: 0.9686\n",
      "Epoch 96/100\n",
      "271/271 [==============================] - ETA: 0s - loss: 0.8902 - accuracy: 0.9986\n",
      "Epoch 96: val_loss did not improve from 0.89856\n",
      "271/271 [==============================] - 82s 301ms/step - loss: 0.8902 - accuracy: 0.9986 - val_loss: 0.9595 - val_accuracy: 0.8373\n",
      "Epoch 97/100\n",
      "271/271 [==============================] - ETA: 0s - loss: 0.9163 - accuracy: 0.9415\n",
      "Epoch 97: val_loss did not improve from 0.89856\n",
      "271/271 [==============================] - 81s 298ms/step - loss: 0.9163 - accuracy: 0.9415 - val_loss: 0.9951 - val_accuracy: 0.7625\n",
      "Epoch 98/100\n",
      "271/271 [==============================] - ETA: 0s - loss: 0.9018 - accuracy: 0.9778\n",
      "Epoch 98: val_loss did not improve from 0.89856\n",
      "271/271 [==============================] - 81s 300ms/step - loss: 0.9018 - accuracy: 0.9778 - val_loss: 0.9285 - val_accuracy: 0.9168\n",
      "Epoch 99/100\n",
      "271/271 [==============================] - ETA: 0s - loss: 0.8961 - accuracy: 0.9908\n",
      "Epoch 99: val_loss did not improve from 0.89856\n",
      "271/271 [==============================] - 81s 301ms/step - loss: 0.8961 - accuracy: 0.9908 - val_loss: 0.9199 - val_accuracy: 0.9344\n",
      "Epoch 100/100\n",
      "271/271 [==============================] - ETA: 0s - loss: 0.9001 - accuracy: 0.9813\n",
      "Epoch 100: val_loss did not improve from 0.89856\n",
      "271/271 [==============================] - 81s 300ms/step - loss: 0.9001 - accuracy: 0.9813 - val_loss: 0.9213 - val_accuracy: 0.9335\n"
     ]
    }
   ],
   "source": [
    "history=cnn.fit(training_set,\n",
    "                epochs=100,\n",
    "                validation_data=validation_set,\n",
    "                callbacks=[checkpointer])"
   ]
  },
  {
   "cell_type": "code",
   "execution_count": null,
   "metadata": {
    "colab": {
     "background_save": true,
     "base_uri": "https://localhost:8080/",
     "height": 54
    },
    "executionInfo": {
     "elapsed": 5,
     "status": "ok",
     "timestamp": 1647984458022,
     "user": {
      "displayName": "16_039 Sayeed Raihan",
      "photoUrl": "https://lh3.googleusercontent.com/a-/AOh14Gh_slAFe1ZLC_ZrMBYw_D5j6eTGGtCHsFQQUJLf=s64",
      "userId": "11081308100132767952"
     },
     "user_tz": -360
    },
    "id": "VaJpP0whm793",
    "outputId": "4c8922bb-50fa-4ad8-bd1c-2e47ac8b3708"
   },
   "outputs": [
    {
     "data": {
      "image/png": "[encoded data removed]",
      "text/plain": [
       "<Figure size 432x288 with 1 Axes>"
      ]
     },
     "metadata": {},
     "output_type": "display_data"
    }
   ],
   "source": [
    "plt.xlabel('epochs')\n",
    "plt.ylabel('accuracy')\n",
    "plt.title('Training accuracy graph')\n",
    "plt.plot(history.history['accuracy'],label='accuracy')\n",
    "plt.plot(history.history['val_accuracy'],label='val_accuracy')\n",
    "plt.legend()\n",
    "plt.show()"
   ]
  },
  {
   "cell_type": "code",
   "execution_count": null,
   "metadata": {
    "colab": {
     "background_save": true,
     "base_uri": "https://localhost:8080/",
     "height": 54
    },
    "executionInfo": {
     "elapsed": 4,
     "status": "ok",
     "timestamp": 1647984458023,
     "user": {
      "displayName": "16_039 Sayeed Raihan",
      "photoUrl": "https://lh3.googleusercontent.com/a-/AOh14Gh_slAFe1ZLC_ZrMBYw_D5j6eTGGtCHsFQQUJLf=s64",
      "userId": "11081308100132767952"
     },
     "user_tz": -360
    },
    "id": "YHDxjXrRm7_h",
    "outputId": "961c874e-7b2d-4aa5-cd29-ec15d7f67304"
   },
   "outputs": [
    {
     "data": {
      "image/png": "[encoded data removed]",
      "text/plain": [
       "<Figure size 432x288 with 1 Axes>"
      ]
     },
     "metadata": {},
     "output_type": "display_data"
    }
   ],
   "source": [
    "plt.xlabel('epochs')\n",
    "plt.ylabel('loss')\n",
    "plt.title('Loss training graph')\n",
    "plt.plot(history.history['loss'],label='loss')\n",
    "plt.plot(history.history['val_loss'],label='val_loss')\n",
    "plt.legend()\n",
    "plt.show()"
   ]
  },
  {
   "cell_type": "code",
   "execution_count": null,
   "metadata": {
    "id": "BKBDBiMem8C0"
   },
   "outputs": [],
   "source": [
    "test_loss,test_accuracy=cnn.evaluate(test_set)\n",
    "print('Test Loss: ',test_loss)\n",
    "print('Test Accuracy: ',test_accuracy)"
   ]
  },
  {
   "cell_type": "code",
   "execution_count": null,
   "metadata": {
    "colab": {
     "background_save": true
    },
    "id": "QG_x7fBOm8F2",
    "outputId": "79a65505-2605-4abc-9509-798480bf0687"
   },
   "outputs": [
    {
     "name": "stdout",
     "output_type": "stream",
     "text": [
      "Accuracy of the model is :  93.73912811279297\n"
     ]
    }
   ],
   "source": [
    "print('Accuracy of the model is : ',test_accuracy*100)"
   ]
  },
  {
   "cell_type": "code",
   "execution_count": null,
   "metadata": {
    "colab": {
     "background_save": true
    },
    "id": "a4qrdad5m8G2"
   },
   "outputs": [],
   "source": [
    "from tensorflow.keras.preprocessing import image"
   ]
  },
  {
   "cell_type": "code",
   "execution_count": null,
   "metadata": {
    "colab": {
     "background_save": true
    },
    "id": "AZ7P_0ExnLa1",
    "outputId": "a7389086-dd7c-4188-ac3d-034f33451905"
   },
   "outputs": [
    {
     "data": {
      "text/plain": [
       "array([[1., 0., 0., 0., 0., 0., 0., 0., 0.],\n",
       "       [1., 0., 0., 0., 0., 0., 0., 0., 0.],\n",
       "       [1., 0., 0., 0., 0., 0., 0., 0., 0.],\n",
       "       [1., 0., 0., 0., 0., 0., 0., 0., 0.],\n",
       "       [1., 0., 0., 0., 0., 0., 0., 0., 0.]], dtype=float32)"
      ]
     },
     "execution_count": null,
     "metadata": {},
     "output_type": "execute_result"
    }
   ],
   "source": [
    "predicted_result=cnn.predict(test_set)\n",
    "predicted_result[:5]"
   ]
  },
  {
   "cell_type": "code",
   "execution_count": null,
   "metadata": {
    "id": "0LffNWHfnLce"
   },
   "outputs": [],
   "source": [
    "predicted_class=np.argmax(predicted_result,axis=-1)\n",
    "predicted_class[:5]"
   ]
  },
  {
   "cell_type": "code",
   "execution_count": null,
   "metadata": {
    "id": "LsnVgdoinLgv"
   },
   "outputs": [],
   "source": [
    "test_classes=test_set.classes\n",
    "test_classes"
   ]
  },
  {
   "cell_type": "code",
   "execution_count": null,
   "metadata": {
    "id": "SfY1A1eBnLin"
   },
   "outputs": [],
   "source": [
    "from sklearn.metrics import confusion_matrix\n",
    "cm=confusion_matrix(test_classes,predicted_class)\n",
    "print(cm)"
   ]
  },
  {
   "cell_type": "code",
   "execution_count": null,
   "metadata": {
    "id": "qltUGy_gnLmC"
   },
   "outputs": [],
   "source": [
    "import seaborn as sns\n",
    "sns.set(font_scale=1.4)\n",
    "sns.heatmap(cm, annot=True,fmt='d',cmap=\"Blues\")"
   ]
  },
  {
   "cell_type": "code",
   "execution_count": null,
   "metadata": {
    "id": "LdXqMIvdnVXT"
   },
   "outputs": [],
   "source": [
    "from sklearn.metrics import accuracy_score\n",
    "print('Accuracy score: ',accuracy_score(test_classes,predicted_class))"
   ]
  },
  {
   "cell_type": "code",
   "execution_count": null,
   "metadata": {
    "id": "G6GXcpVgnVci"
   },
   "outputs": [],
   "source": [
    "from sklearn.metrics import classification_report\n",
    "print('Classification Report \\n',classification_report(test_classes,predicted_class))"
   ]
  },
  {
   "cell_type": "code",
   "execution_count": null,
   "metadata": {
    "id": "bxcBPlxenVeh"
   },
   "outputs": [],
   "source": [
    "\n",
    "export_path_keras = \"/content/drive/MyDrive/Model/Model_2_SVM_with_CNN.h5\"\n",
    "print(export_path_keras)\n",
    "cnn.save(export_path_keras)"
   ]
  },
  {
   "cell_type": "code",
   "execution_count": null,
   "metadata": {
    "id": "4jGVkHNfnVgV"
   },
   "outputs": [],
   "source": [
    "from tensorflow.keras.models import load_model"
   ]
  },
  {
   "cell_type": "code",
   "execution_count": null,
   "metadata": {
    "id": "pPAQohQonViI"
   },
   "outputs": [],
   "source": [
    "model_path=export_path_keras\n",
    "reload_model=load_model(model_path)\n",
    "reload_model.summary()"
   ]
  },
  {
   "cell_type": "code",
   "execution_count": null,
   "metadata": {
    "id": "LFb5qZQTnVk5"
   },
   "outputs": [],
   "source": [
    "print(len(reload_model.weights))\n",
    "print(reload_model.output_shape)"
   ]
  },
  {
   "cell_type": "code",
   "execution_count": null,
   "metadata": {
    "id": "vJ_eBmaBnVm2"
   },
   "outputs": [],
   "source": [
    "reload_model.layers"
   ]
  },
  {
   "cell_type": "code",
   "execution_count": null,
   "metadata": {},
   "outputs": [],
   "source": []
  },
  {
   "cell_type": "code",
   "execution_count": null,
   "metadata": {},
   "outputs": [],
   "source": []
  },
  {
   "cell_type": "code",
   "execution_count": 23,
   "metadata": {},
   "outputs": [],
   "source": [
    "import os\n",
    "import numpy as np\n",
    "import matplotlib.pyplot as plt\n",
    "import random\n",
    "import cv2\n",
    "import PIL\n",
    "import glob\n",
    "import pyttsx3 \n",
    "import tensorflow as tf\n",
    "from tensorflow import keras\n",
    "from tensorflow.keras import layers\n",
    "from tensorflow.keras.models import load_model\n",
    "from tensorflow.keras.preprocessing import image\n",
    "from keras.preprocessing.image import ImageDataGenerator"
   ]
  },
  {
   "cell_type": "code",
   "execution_count": 24,
   "metadata": {},
   "outputs": [],
   "source": [
    "\n",
    "export_path_keras = \"Final Thesis/Saved Model/1.SVM_with_CNN1.h5\"\n"
   ]
  },
  {
   "cell_type": "code",
   "execution_count": 25,
   "metadata": {},
   "outputs": [
    {
     "name": "stdout",
     "output_type": "stream",
     "text": [
      "Model: \"sequential\"\n",
      "_________________________________________________________________\n",
      "Layer (type)                 Output Shape              Param #   \n",
      "=================================================================\n",
      "conv2d (Conv2D)              (None, 111, 111, 64)      1792      \n",
      "_________________________________________________________________\n",
      "max_pooling2d (MaxPooling2D) (None, 55, 55, 64)        0         \n",
      "_________________________________________________________________\n",
      "conv2d_1 (Conv2D)            (None, 55, 55, 32)        18464     \n",
      "_________________________________________________________________\n",
      "max_pooling2d_1 (MaxPooling2 (None, 27, 27, 32)        0         \n",
      "_________________________________________________________________\n",
      "conv2d_2 (Conv2D)            (None, 27, 27, 32)        9248      \n",
      "_________________________________________________________________\n",
      "max_pooling2d_2 (MaxPooling2 (None, 13, 13, 32)        0         \n",
      "_________________________________________________________________\n",
      "flatten (Flatten)            (None, 5408)              0         \n",
      "_________________________________________________________________\n",
      "dense (Dense)                (None, 128)               692352    \n",
      "_________________________________________________________________\n",
      "dense_1 (Dense)              (None, 9)                 1161      \n",
      "=================================================================\n",
      "Total params: 723,017\n",
      "Trainable params: 723,017\n",
      "Non-trainable params: 0\n",
      "_________________________________________________________________\n"
     ]
    }
   ],
   "source": [
    "model_path=export_path_keras\n",
    "reload_model=load_model(model_path)\n",
    "reload_model.summary()"
   ]
  },
  {
   "cell_type": "code",
   "execution_count": 28,
   "metadata": {},
   "outputs": [
    {
     "data": {
      "text/plain": [
       "array([[1., 0., 0., 0., 0., 0., 0., 0., 0.],\n",
       "       [1., 0., 0., 0., 0., 0., 0., 0., 0.],\n",
       "       [1., 0., 0., 0., 0., 0., 0., 0., 0.],\n",
       "       [1., 0., 0., 0., 0., 0., 0., 0., 0.],\n",
       "       [1., 0., 0., 0., 0., 0., 0., 0., 0.]], dtype=float32)"
      ]
     },
     "execution_count": 28,
     "metadata": {},
     "output_type": "execute_result"
    }
   ],
   "source": [
    "predicted_result=reload_model.predict(test_set)\n",
    "predicted_result[:5]"
   ]
  },
  {
   "cell_type": "code",
   "execution_count": 29,
   "metadata": {},
   "outputs": [
    {
     "data": {
      "text/plain": [
       "array([0, 0, 0, 0, 0], dtype=int64)"
      ]
     },
     "execution_count": 29,
     "metadata": {},
     "output_type": "execute_result"
    }
   ],
   "source": [
    "predicted_class=np.argmax(predicted_result,axis=-1)\n",
    "predicted_class[:5]"
   ]
  },
  {
   "cell_type": "code",
   "execution_count": 30,
   "metadata": {},
   "outputs": [
    {
     "data": {
      "text/plain": [
       "array([0, 0, 0, 0, 0, 0, 0, 0, 0, 0, 0, 0, 0, 0, 0, 0, 0, 0, 0, 0, 0, 0,\n",
       "       0, 0, 0, 0, 0, 0, 0, 0, 0, 0, 0, 0, 0, 0, 0, 0, 0, 0, 0, 0, 0, 0,\n",
       "       0, 0, 0, 0, 0, 0, 0, 0, 0, 0, 0, 0, 0, 0, 0, 0, 0, 0, 0, 0, 0, 0,\n",
       "       0, 0, 0, 0, 0, 0, 1, 1, 1, 1, 1, 1, 1, 1, 1, 1, 1, 1, 1, 1, 1, 1,\n",
       "       1, 1, 1, 1, 1, 1, 1, 1, 1, 1, 1, 1, 1, 1, 1, 1, 1, 1, 1, 1, 1, 1,\n",
       "       1, 1, 1, 1, 1, 1, 1, 1, 1, 1, 1, 1, 1, 1, 1, 1, 1, 1, 1, 1, 1, 1,\n",
       "       2, 2, 2, 2, 2, 2, 2, 2, 2, 2, 2, 2, 2, 2, 2, 2, 2, 2, 2, 2, 2, 2,\n",
       "       2, 2, 2, 2, 2, 2, 2, 2, 2, 2, 2, 2, 2, 2, 2, 2, 2, 2, 2, 2, 2, 2,\n",
       "       2, 2, 2, 2, 2, 2, 2, 2, 2, 2, 2, 2, 2, 2, 2, 2, 3, 3, 3, 3, 3, 3,\n",
       "       3, 3, 3, 3, 3, 3, 3, 3, 3, 3, 3, 3, 3, 3, 3, 3, 3, 3, 3, 3, 3, 3,\n",
       "       3, 3, 3, 3, 3, 3, 3, 3, 3, 3, 3, 3, 3, 3, 3, 3, 3, 3, 3, 3, 3, 3,\n",
       "       3, 3, 3, 3, 3, 3, 3, 3, 3, 3, 4, 4, 4, 4, 4, 4, 4, 4, 4, 4, 4, 4,\n",
       "       4, 4, 4, 4, 4, 4, 4, 4, 4, 4, 4, 4, 4, 4, 4, 4, 4, 4, 4, 4, 4, 4,\n",
       "       4, 4, 4, 4, 4, 4, 4, 4, 4, 4, 4, 4, 4, 4, 4, 4, 4, 4, 4, 4, 4, 4,\n",
       "       4, 4, 4, 4, 5, 5, 5, 5, 5, 5, 5, 5, 5, 5, 5, 5, 5, 5, 5, 5, 5, 5,\n",
       "       5, 5, 5, 5, 5, 5, 5, 5, 5, 5, 5, 5, 5, 5, 5, 5, 5, 5, 5, 5, 5, 5,\n",
       "       5, 5, 5, 5, 5, 5, 5, 5, 5, 5, 5, 5, 5, 5, 5, 5, 5, 5, 5, 5, 5, 5,\n",
       "       5, 5, 5, 5, 5, 5, 5, 5, 5, 5, 6, 6, 6, 6, 6, 6, 6, 6, 6, 6, 6, 6,\n",
       "       6, 6, 6, 6, 6, 6, 6, 6, 6, 6, 6, 6, 6, 6, 6, 6, 6, 6, 6, 6, 6, 6,\n",
       "       6, 6, 6, 6, 6, 6, 6, 6, 6, 6, 6, 6, 6, 7, 7, 7, 7, 7, 7, 7, 7, 7,\n",
       "       7, 7, 7, 7, 7, 7, 7, 7, 7, 7, 7, 7, 7, 7, 7, 7, 7, 7, 7, 7, 7, 7,\n",
       "       7, 7, 7, 7, 7, 7, 7, 7, 7, 7, 7, 7, 7, 7, 7, 7, 7, 7, 7, 7, 7, 7,\n",
       "       7, 7, 7, 7, 7, 7, 7, 7, 7, 7, 7, 7, 7, 7, 7, 7, 7, 7, 7, 8, 8, 8,\n",
       "       8, 8, 8, 8, 8, 8, 8, 8, 8, 8, 8, 8, 8, 8, 8, 8, 8, 8, 8, 8, 8, 8,\n",
       "       8, 8, 8, 8, 8, 8, 8, 8, 8, 8, 8, 8, 8, 8, 8, 8, 8, 8, 8, 8, 8, 8,\n",
       "       8, 8, 8, 8, 8, 8, 8, 8, 8, 8, 8, 8, 8, 8, 8, 8, 8, 8, 8, 8, 8, 8,\n",
       "       8, 8, 8])"
      ]
     },
     "execution_count": 30,
     "metadata": {},
     "output_type": "execute_result"
    }
   ],
   "source": [
    "test_classes=test_set.classes\n",
    "test_classes"
   ]
  },
  {
   "cell_type": "code",
   "execution_count": 32,
   "metadata": {},
   "outputs": [
    {
     "name": "stdout",
     "output_type": "stream",
     "text": [
      "[[72  0  0  0  0  0  0  0  0]\n",
      " [ 0 33  0  0 27  0  0  0  0]\n",
      " [ 0  0 60  0  0  0  0  0  0]\n",
      " [ 0  0  0 58  0  0  0  2  0]\n",
      " [ 0  0  0  0 60  0  0  0  0]\n",
      " [ 0  0  0  0  0 72  0  0  0]\n",
      " [ 0  0  0  0  0  0 47  0  0]\n",
      " [ 0  0  0  0  7  0  0 65  0]\n",
      " [ 0  0  0  0  0  0  0  0 72]]\n"
     ]
    }
   ],
   "source": [
    "from sklearn.metrics import confusion_matrix\n",
    "cm=confusion_matrix(test_classes,predicted_class)\n",
    "print(cm)"
   ]
  },
  {
   "cell_type": "code",
   "execution_count": 33,
   "metadata": {},
   "outputs": [
    {
     "data": {
      "text/plain": [
       "<AxesSubplot:>"
      ]
     },
     "execution_count": 33,
     "metadata": {},
     "output_type": "execute_result"
    },
    {
     "data": {
      "image/png": "[encoded data removed]",
      "text/plain": [
       "<Figure size 432x288 with 2 Axes>"
      ]
     },
     "metadata": {},
     "output_type": "display_data"
    }
   ],
   "source": [
    "import seaborn as sns\n",
    "sns.set(font_scale=1.4)\n",
    "sns.heatmap(cm, annot=True,fmt='d',cmap=\"Blues\")"
   ]
  },
  {
   "cell_type": "code",
   "execution_count": 34,
   "metadata": {},
   "outputs": [
    {
     "name": "stdout",
     "output_type": "stream",
     "text": [
      "Accuracy score:  0.9373913043478261\n"
     ]
    }
   ],
   "source": [
    "from sklearn.metrics import accuracy_score\n",
    "print('Accuracy score: ',accuracy_score(test_classes,predicted_class))"
   ]
  },
  {
   "cell_type": "code",
   "execution_count": 35,
   "metadata": {},
   "outputs": [
    {
     "name": "stdout",
     "output_type": "stream",
     "text": [
      "Classification Report \n",
      "               precision    recall  f1-score   support\n",
      "\n",
      "           0       1.00      1.00      1.00        72\n",
      "           1       1.00      0.55      0.71        60\n",
      "           2       1.00      1.00      1.00        60\n",
      "           3       1.00      0.97      0.98        60\n",
      "           4       0.64      1.00      0.78        60\n",
      "           5       1.00      1.00      1.00        72\n",
      "           6       1.00      1.00      1.00        47\n",
      "           7       0.97      0.90      0.94        72\n",
      "           8       1.00      1.00      1.00        72\n",
      "\n",
      "    accuracy                           0.94       575\n",
      "   macro avg       0.96      0.94      0.93       575\n",
      "weighted avg       0.96      0.94      0.94       575\n",
      "\n"
     ]
    }
   ],
   "source": [
    "from sklearn.metrics import classification_report\n",
    "print('Classification Report \\n',classification_report(test_classes,predicted_class))"
   ]
  },
  {
   "cell_type": "code",
   "execution_count": null,
   "metadata": {},
   "outputs": [],
   "source": []
  },
  {
   "cell_type": "code",
   "execution_count": null,
   "metadata": {},
   "outputs": [],
   "source": []
  },
  {
   "cell_type": "code",
   "execution_count": null,
   "metadata": {},
   "outputs": [],
   "source": []
  },
  {
   "cell_type": "code",
   "execution_count": null,
   "metadata": {},
   "outputs": [],
   "source": []
  },
  {
   "cell_type": "code",
   "execution_count": 26,
   "metadata": {},
   "outputs": [],
   "source": [
    "def noteclass(cls):\n",
    "    txt=pyttsx3.init()\n",
    "    if cls==0:\n",
    "        ans=\"Two Taka\"\n",
    "        print(ans)\n",
    "        txt.say(ans)\n",
    "        txt.runAndWait()\n",
    "    elif cls==1:\n",
    "        ans=\"Five Taka\"\n",
    "        print(ans)\n",
    "        txt.say(ans)\n",
    "        txt.runAndWait()\n",
    "    elif cls==2:\n",
    "        ans=\"Ten Taka\"\n",
    "        print(ans)\n",
    "        txt.say(ans)\n",
    "        txt.runAndWait()\n",
    "    elif cls==3:\n",
    "        ans=\"Twenty Taka\"\n",
    "        print(ans)\n",
    "        txt.say(ans)\n",
    "       # txt.runAndWait()\n",
    "    elif cls==4:\n",
    "        ans=\"Fifty Taka\"\n",
    "        print(ans)\n",
    "        txt.say(ans)\n",
    "        txt.runAndWait()\n",
    "    elif cls==5:\n",
    "        ans=\"One Hundred Taka\"\n",
    "        print(ans)\n",
    "        txt.say(ans)\n",
    "        txt.runAndWait()\n",
    "    elif cls==6:\n",
    "        ans=\"Two Hundred Taka\"\n",
    "        print(ans)\n",
    "        txt.say(ans)\n",
    "        txt.runAndWait()\n",
    "    elif cls==7:\n",
    "        ans=\"Five Hundred Taka\"\n",
    "        print(ans)\n",
    "        txt.say(ans)\n",
    "        txt.runAndWait()\n",
    "    else:\n",
    "        ans=\"One Thousand Taka\"\n",
    "        print(ans)\n",
    "        txt.say(ans)\n",
    "        txt.runAndWait()\n",
    "    "
   ]
  },
  {
   "cell_type": "code",
   "execution_count": 27,
   "metadata": {},
   "outputs": [
    {
     "name": "stdout",
     "output_type": "stream",
     "text": [
      "Fifty Taka\n"
     ]
    },
    {
     "data": {
      "image/png": "[encoded data removed]",
      "text/plain": [
       "<Figure size 432x288 with 1 Axes>"
      ]
     },
     "metadata": {
      "needs_background": "light"
     },
     "output_type": "display_data"
    }
   ],
   "source": [
    "#\"\"WIN_20220326_11_18_21_Pro\"\"\"\n",
    "random_image=image.load_img('C:/Users/Niloy/Pictures/Camera Roll/100.png',target_size=(224,224))\n",
    "plt.imshow(random_image)\n",
    "random_image=image.img_to_array(random_image)\n",
    "test_image=random_image.reshape((1,)+random_image.shape)\n",
    "test_image=test_image/255.0\n",
    "#print(test_image.shape)\n",
    "predicted_class=reload_model.predict(test_image)\n",
    "#print(predicted_class)\n",
    "#print('True classification')\n",
    "noteclass(np.argmax(predicted_class))"
   ]
  },
  {
   "cell_type": "code",
   "execution_count": null,
   "metadata": {},
   "outputs": [],
   "source": []
  },
  {
   "cell_type": "code",
   "execution_count": null,
   "metadata": {},
   "outputs": [],
   "source": []
  }
 ],
 "metadata": {
  "accelerator": "GPU",
  "colab": {
   "collapsed_sections": [],
   "name": "Copy of Copy of Svm With CNN.ipynb",
   "provenance": [
    {
     "file_id": "1MeIS3DA8R9-OPmZXdn6IKpSvGT6TUzqE",
     "timestamp": 1648276670112
    },
    {
     "file_id": "1GX3TCPrsPkbxdUL9LZgOPlLjubATyA4-",
     "timestamp": 1647969729961
    }
   ]
  },
  "kernelspec": {
   "display_name": "Python 3",
   "language": "python",
   "name": "python3"
  },
  "language_info": {
   "codemirror_mode": {
    "name": "ipython",
    "version": 3
   },
   "file_extension": ".py",
   "mimetype": "text/x-python",
   "name": "python",
   "nbconvert_exporter": "python",
   "pygments_lexer": "ipython3",
   "version": "3.6.13"
  }
 },
 "nbformat": 4,
 "nbformat_minor": 1
}
